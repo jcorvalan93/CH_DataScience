{
  "cells": [
    {
      "cell_type": "markdown",
      "id": "132d461d-54ea-4c0d-8fee-9c00360ed438",
      "metadata": {
        "tags": [],
        "id": "132d461d-54ea-4c0d-8fee-9c00360ed438"
      },
      "source": [
        "# El cambio climático en la mira\n",
        "\n",
        "## Autores\n",
        "\n",
        "* Matias Lisousky\n",
        "* Alejandro Mora\n",
        "* Julián Corvalán\n",
        "\n",
        "## Introducción\n",
        "\n",
        "El sitio web de la base de datos estadísticos corporativos de la Organización para la\n",
        "Agricultura y la Alimentación ( FAOSTAT ) difunde estadísticas del cambio de temperatura\n",
        "superficial promedio por país, con actualizaciones anuales. La difusión actual cubre el\n",
        "período 1961-2019. Las estadísticas están disponibles para las anomalías de temperatura\n",
        "media mensual, estacional y anual, es decir, el cambio de temperatura con respecto a una\n",
        "climatología de referencia, correspondiente al período 1951-1980. También está disponible\n",
        "la desviación estándar del cambio de temperatura de la metodología de referencia. Los\n",
        "datos se basan en los datos GISTEMP disponibles públicamente, los datos de cambio de\n",
        "temperatura de la superficie global distribuidos por el Instituto Goddard de Estudios\n",
        "Espaciales de la Administración Nacional de Aeronáutica y del Espacio (NASA-GISS).\n",
        "\n",
        "## Objetivos\n",
        "\n",
        "El cambio climático es uno de los temas importantes que enfrenta el mundo en esta era tecnológica. La mejor prueba de esta situación es el histórico cambio de temperatura. Se busca, entonces:\n",
        "\n",
        "* Analizar los valores que se poseen teniendo en cuenta el factor del tiempo (años) y el agrupamiento por continentes.\n",
        "* Poder analizar y predecir los cambios de temperatura que se esperarían\n",
        "en los próximos años.\n",
        "\n",
        "## Preguntas a responder - Alcance y puntos de interés\n",
        "* ¿En cuanto han cambiado las temperaturas?\n",
        "* ¿O hay alteraciones particulares en cada continente/zona?\n",
        "* Si se indentifica alguna anomalía a través de los años, llamando anomalía como un cambio brusco de temperatura, ¿cuando se ha manifestado? ¿Fue global o zonal el alcance?\n",
        "* ¿El cambio de temperatura es correlativo a través de los años?\n",
        "\n",
        "El alcance de nuestro estudio es entonces analizar los valores de las lecturas de los cambios de temperatura globales a través de técnicas, métodos y conceptos de la Ciencia de Datos.\n",
        "\n",
        "## Público de interés\n",
        "\n",
        "El proyecto evolucionó hacia una línea más informativa y un storytelling orientado a la distribución de información para público con conocimientos básicos de matemática y estadística.\n",
        "\n",
        "## Tabla de contenidos\n",
        "\n",
        "* [Data Acquisition](#DataAcquisition)\n",
        "* [EDA (Exploratory Data Analysis)](#EDA)\n",
        "  * [Feature Selection](#FeatureSelection)\n",
        "  * [Instance Selection](#InstanceSelection)\n",
        "  * [Modelado de datos auxiliares](#DatosAuxiliares)\n",
        "  * [Análisis estadístico de time_series](#analisis_univariado)\n",
        "* [Data Wrangling](#DW)\n",
        "  * [Manejo de datos faltantes](#DatosFaltantes)\n",
        "  * [Corrección del formato de los datos](#CorreccionFormatoDatos)\n",
        "  * [Normalizacion de datos](#NormalizacionDatos)\n",
        "  * [Bins - contenedores](#Bins)\n",
        "  * [Variables Dummy](#Dummy)\n",
        "* [Visualizaciones de los datos](#graficos)\n",
        "  * [Cambio de temperatura global por decada](#grafico_1)\n",
        "  * [Cambio de temperatura global por continente](#grafico_2)\n",
        "  * [Verificación de amplitud de lecturas](#grafico_3)\n",
        "  * [Promedio de lecturas a través de los años](#grafico_4)\n",
        "  * [Relación entre lecturas y años](#grafico_5)\n",
        "  * [Verificación de outliers](#grafico_6)\n",
        "* [¿El cambio de temperatura es correlativo a través de los años?](#ML_tittle)\n",
        "  * [ML - Regresión lineal](#ML_rl)\n",
        "  * [OLS - Ordinary Least Squares / Mínimos Cuadrados Ordinarios](#ML_ols)\n",
        "  * [Entrenamiento con la totalidad de los datos y predicciones futuras](#total_train)\n",
        "  * [Entrenamiento con particiones de datos](#split_train)\n",
        "  * [Métricas del modelo](#metrics)\n",
        "  * [Underfitting & Overfitting](#anyfitting)\n",
        "  * [Cross-Validation](#cross_val)"
      ]
    },
    {
      "cell_type": "markdown",
      "id": "de3014f2-6b37-40a3-bfdd-d95718096a18",
      "metadata": {
        "id": "de3014f2-6b37-40a3-bfdd-d95718096a18"
      },
      "source": [
        "## Data Acquisition <a class=\"anchor\" id=\"DataAcquisition\"></a>\n",
        "\n",
        "En primera instancia vamos a cargar los datos con los que vamos a trabajar y luego hacer una previsualización de los mismos."
      ]
    },
    {
      "cell_type": "code",
      "execution_count": 58,
      "id": "b6f89d5f-bc2e-43cc-97d9-fff3d986d412",
      "metadata": {
        "id": "b6f89d5f-bc2e-43cc-97d9-fff3d986d412"
      },
      "outputs": [],
      "source": [
        "import pandas as pd\n",
        "import matplotlib.pyplot as plt\n",
        "import seaborn as sns\n",
        "import missingno as msno\n",
        "import numpy as np\n",
        "import plotly.express as px\n",
        "from   scipy import stats\n",
        "import statsmodels.formula.api as sm\n",
        "from sklearn import linear_model\n",
        "from sklearn.metrics import mean_squared_error, r2_score"
      ]
    },
    {
      "cell_type": "code",
      "execution_count": 59,
      "id": "8cbff52d-0431-411e-8483-26c72a9196a1",
      "metadata": {
        "colab": {
          "base_uri": "https://localhost:8080/",
          "height": 236
        },
        "id": "8cbff52d-0431-411e-8483-26c72a9196a1",
        "outputId": "7a4d28f1-ceed-47fe-9f1d-e01ddf369b33"
      },
      "outputs": [
        {
          "output_type": "execute_result",
          "data": {
            "text/plain": [
              "   Area Code         Area  Months Code    Months  Element Code  \\\n",
              "0          2  Afghanistan         7001   January          7271   \n",
              "1          2  Afghanistan         7001   January          6078   \n",
              "2          2  Afghanistan         7002  February          7271   \n",
              "3          2  Afghanistan         7002  February          6078   \n",
              "4          2  Afghanistan         7003     March          7271   \n",
              "\n",
              "              Element Unit  Y1961  Y1962  Y1963  ...  Y2010  Y2011  Y2012  \\\n",
              "0  Temperature change   °C  0.777  0.062  2.744  ...  3.601  1.179 -0.583   \n",
              "1  Standard Deviation   °C  1.950  1.950  1.950  ...  1.950  1.950  1.950   \n",
              "2  Temperature change   °C -1.743  2.465  3.919  ...  1.212  0.321 -3.201   \n",
              "3  Standard Deviation   °C  2.597  2.597  2.597  ...  2.597  2.597  2.597   \n",
              "4  Temperature change   °C  0.516  1.336  0.403  ...  3.390  0.748 -0.527   \n",
              "\n",
              "   Y2013  Y2014  Y2015  Y2016  Y2017  Y2018  Y2019  \n",
              "0  1.233  1.755  1.943  3.416  1.201  1.996  2.951  \n",
              "1  1.950  1.950  1.950  1.950  1.950  1.950  1.950  \n",
              "2  1.494 -3.187  2.699  2.251 -0.323  2.705  0.086  \n",
              "3  2.597  2.597  2.597  2.597  2.597  2.597  2.597  \n",
              "4  2.246 -0.076 -0.497  2.296  0.834  4.418  0.234  \n",
              "\n",
              "[5 rows x 66 columns]"
            ],
            "text/html": [
              "\n",
              "  <div id=\"df-9956ffad-eb0f-4c20-ac12-6360cd84d014\">\n",
              "    <div class=\"colab-df-container\">\n",
              "      <div>\n",
              "<style scoped>\n",
              "    .dataframe tbody tr th:only-of-type {\n",
              "        vertical-align: middle;\n",
              "    }\n",
              "\n",
              "    .dataframe tbody tr th {\n",
              "        vertical-align: top;\n",
              "    }\n",
              "\n",
              "    .dataframe thead th {\n",
              "        text-align: right;\n",
              "    }\n",
              "</style>\n",
              "<table border=\"1\" class=\"dataframe\">\n",
              "  <thead>\n",
              "    <tr style=\"text-align: right;\">\n",
              "      <th></th>\n",
              "      <th>Area Code</th>\n",
              "      <th>Area</th>\n",
              "      <th>Months Code</th>\n",
              "      <th>Months</th>\n",
              "      <th>Element Code</th>\n",
              "      <th>Element</th>\n",
              "      <th>Unit</th>\n",
              "      <th>Y1961</th>\n",
              "      <th>Y1962</th>\n",
              "      <th>Y1963</th>\n",
              "      <th>...</th>\n",
              "      <th>Y2010</th>\n",
              "      <th>Y2011</th>\n",
              "      <th>Y2012</th>\n",
              "      <th>Y2013</th>\n",
              "      <th>Y2014</th>\n",
              "      <th>Y2015</th>\n",
              "      <th>Y2016</th>\n",
              "      <th>Y2017</th>\n",
              "      <th>Y2018</th>\n",
              "      <th>Y2019</th>\n",
              "    </tr>\n",
              "  </thead>\n",
              "  <tbody>\n",
              "    <tr>\n",
              "      <th>0</th>\n",
              "      <td>2</td>\n",
              "      <td>Afghanistan</td>\n",
              "      <td>7001</td>\n",
              "      <td>January</td>\n",
              "      <td>7271</td>\n",
              "      <td>Temperature change</td>\n",
              "      <td>°C</td>\n",
              "      <td>0.777</td>\n",
              "      <td>0.062</td>\n",
              "      <td>2.744</td>\n",
              "      <td>...</td>\n",
              "      <td>3.601</td>\n",
              "      <td>1.179</td>\n",
              "      <td>-0.583</td>\n",
              "      <td>1.233</td>\n",
              "      <td>1.755</td>\n",
              "      <td>1.943</td>\n",
              "      <td>3.416</td>\n",
              "      <td>1.201</td>\n",
              "      <td>1.996</td>\n",
              "      <td>2.951</td>\n",
              "    </tr>\n",
              "    <tr>\n",
              "      <th>1</th>\n",
              "      <td>2</td>\n",
              "      <td>Afghanistan</td>\n",
              "      <td>7001</td>\n",
              "      <td>January</td>\n",
              "      <td>6078</td>\n",
              "      <td>Standard Deviation</td>\n",
              "      <td>°C</td>\n",
              "      <td>1.950</td>\n",
              "      <td>1.950</td>\n",
              "      <td>1.950</td>\n",
              "      <td>...</td>\n",
              "      <td>1.950</td>\n",
              "      <td>1.950</td>\n",
              "      <td>1.950</td>\n",
              "      <td>1.950</td>\n",
              "      <td>1.950</td>\n",
              "      <td>1.950</td>\n",
              "      <td>1.950</td>\n",
              "      <td>1.950</td>\n",
              "      <td>1.950</td>\n",
              "      <td>1.950</td>\n",
              "    </tr>\n",
              "    <tr>\n",
              "      <th>2</th>\n",
              "      <td>2</td>\n",
              "      <td>Afghanistan</td>\n",
              "      <td>7002</td>\n",
              "      <td>February</td>\n",
              "      <td>7271</td>\n",
              "      <td>Temperature change</td>\n",
              "      <td>°C</td>\n",
              "      <td>-1.743</td>\n",
              "      <td>2.465</td>\n",
              "      <td>3.919</td>\n",
              "      <td>...</td>\n",
              "      <td>1.212</td>\n",
              "      <td>0.321</td>\n",
              "      <td>-3.201</td>\n",
              "      <td>1.494</td>\n",
              "      <td>-3.187</td>\n",
              "      <td>2.699</td>\n",
              "      <td>2.251</td>\n",
              "      <td>-0.323</td>\n",
              "      <td>2.705</td>\n",
              "      <td>0.086</td>\n",
              "    </tr>\n",
              "    <tr>\n",
              "      <th>3</th>\n",
              "      <td>2</td>\n",
              "      <td>Afghanistan</td>\n",
              "      <td>7002</td>\n",
              "      <td>February</td>\n",
              "      <td>6078</td>\n",
              "      <td>Standard Deviation</td>\n",
              "      <td>°C</td>\n",
              "      <td>2.597</td>\n",
              "      <td>2.597</td>\n",
              "      <td>2.597</td>\n",
              "      <td>...</td>\n",
              "      <td>2.597</td>\n",
              "      <td>2.597</td>\n",
              "      <td>2.597</td>\n",
              "      <td>2.597</td>\n",
              "      <td>2.597</td>\n",
              "      <td>2.597</td>\n",
              "      <td>2.597</td>\n",
              "      <td>2.597</td>\n",
              "      <td>2.597</td>\n",
              "      <td>2.597</td>\n",
              "    </tr>\n",
              "    <tr>\n",
              "      <th>4</th>\n",
              "      <td>2</td>\n",
              "      <td>Afghanistan</td>\n",
              "      <td>7003</td>\n",
              "      <td>March</td>\n",
              "      <td>7271</td>\n",
              "      <td>Temperature change</td>\n",
              "      <td>°C</td>\n",
              "      <td>0.516</td>\n",
              "      <td>1.336</td>\n",
              "      <td>0.403</td>\n",
              "      <td>...</td>\n",
              "      <td>3.390</td>\n",
              "      <td>0.748</td>\n",
              "      <td>-0.527</td>\n",
              "      <td>2.246</td>\n",
              "      <td>-0.076</td>\n",
              "      <td>-0.497</td>\n",
              "      <td>2.296</td>\n",
              "      <td>0.834</td>\n",
              "      <td>4.418</td>\n",
              "      <td>0.234</td>\n",
              "    </tr>\n",
              "  </tbody>\n",
              "</table>\n",
              "<p>5 rows × 66 columns</p>\n",
              "</div>\n",
              "      <button class=\"colab-df-convert\" onclick=\"convertToInteractive('df-9956ffad-eb0f-4c20-ac12-6360cd84d014')\"\n",
              "              title=\"Convert this dataframe to an interactive table.\"\n",
              "              style=\"display:none;\">\n",
              "        \n",
              "  <svg xmlns=\"http://www.w3.org/2000/svg\" height=\"24px\"viewBox=\"0 0 24 24\"\n",
              "       width=\"24px\">\n",
              "    <path d=\"M0 0h24v24H0V0z\" fill=\"none\"/>\n",
              "    <path d=\"M18.56 5.44l.94 2.06.94-2.06 2.06-.94-2.06-.94-.94-2.06-.94 2.06-2.06.94zm-11 1L8.5 8.5l.94-2.06 2.06-.94-2.06-.94L8.5 2.5l-.94 2.06-2.06.94zm10 10l.94 2.06.94-2.06 2.06-.94-2.06-.94-.94-2.06-.94 2.06-2.06.94z\"/><path d=\"M17.41 7.96l-1.37-1.37c-.4-.4-.92-.59-1.43-.59-.52 0-1.04.2-1.43.59L10.3 9.45l-7.72 7.72c-.78.78-.78 2.05 0 2.83L4 21.41c.39.39.9.59 1.41.59.51 0 1.02-.2 1.41-.59l7.78-7.78 2.81-2.81c.8-.78.8-2.07 0-2.86zM5.41 20L4 18.59l7.72-7.72 1.47 1.35L5.41 20z\"/>\n",
              "  </svg>\n",
              "      </button>\n",
              "      \n",
              "  <style>\n",
              "    .colab-df-container {\n",
              "      display:flex;\n",
              "      flex-wrap:wrap;\n",
              "      gap: 12px;\n",
              "    }\n",
              "\n",
              "    .colab-df-convert {\n",
              "      background-color: #E8F0FE;\n",
              "      border: none;\n",
              "      border-radius: 50%;\n",
              "      cursor: pointer;\n",
              "      display: none;\n",
              "      fill: #1967D2;\n",
              "      height: 32px;\n",
              "      padding: 0 0 0 0;\n",
              "      width: 32px;\n",
              "    }\n",
              "\n",
              "    .colab-df-convert:hover {\n",
              "      background-color: #E2EBFA;\n",
              "      box-shadow: 0px 1px 2px rgba(60, 64, 67, 0.3), 0px 1px 3px 1px rgba(60, 64, 67, 0.15);\n",
              "      fill: #174EA6;\n",
              "    }\n",
              "\n",
              "    [theme=dark] .colab-df-convert {\n",
              "      background-color: #3B4455;\n",
              "      fill: #D2E3FC;\n",
              "    }\n",
              "\n",
              "    [theme=dark] .colab-df-convert:hover {\n",
              "      background-color: #434B5C;\n",
              "      box-shadow: 0px 1px 3px 1px rgba(0, 0, 0, 0.15);\n",
              "      filter: drop-shadow(0px 1px 2px rgba(0, 0, 0, 0.3));\n",
              "      fill: #FFFFFF;\n",
              "    }\n",
              "  </style>\n",
              "\n",
              "      <script>\n",
              "        const buttonEl =\n",
              "          document.querySelector('#df-9956ffad-eb0f-4c20-ac12-6360cd84d014 button.colab-df-convert');\n",
              "        buttonEl.style.display =\n",
              "          google.colab.kernel.accessAllowed ? 'block' : 'none';\n",
              "\n",
              "        async function convertToInteractive(key) {\n",
              "          const element = document.querySelector('#df-9956ffad-eb0f-4c20-ac12-6360cd84d014');\n",
              "          const dataTable =\n",
              "            await google.colab.kernel.invokeFunction('convertToInteractive',\n",
              "                                                     [key], {});\n",
              "          if (!dataTable) return;\n",
              "\n",
              "          const docLinkHtml = 'Like what you see? Visit the ' +\n",
              "            '<a target=\"_blank\" href=https://colab.research.google.com/notebooks/data_table.ipynb>data table notebook</a>'\n",
              "            + ' to learn more about interactive tables.';\n",
              "          element.innerHTML = '';\n",
              "          dataTable['output_type'] = 'display_data';\n",
              "          await google.colab.output.renderOutput(dataTable, element);\n",
              "          const docLink = document.createElement('div');\n",
              "          docLink.innerHTML = docLinkHtml;\n",
              "          element.appendChild(docLink);\n",
              "        }\n",
              "      </script>\n",
              "    </div>\n",
              "  </div>\n",
              "  "
            ]
          },
          "metadata": {},
          "execution_count": 59
        }
      ],
      "source": [
        "url = 'https://raw.githubusercontent.com/jcorvalan93/CH_DataScience/main/Environment_Temperature_change.csv'\n",
        "df = pd.read_csv(url, sep=',', encoding='cp1252')\n",
        "df.head()"
      ]
    },
    {
      "cell_type": "markdown",
      "id": "bd801b0a-2146-4be5-9131-129fc630bd58",
      "metadata": {
        "id": "bd801b0a-2146-4be5-9131-129fc630bd58"
      },
      "source": [
        "Como se puede observar tenemos inicialmente un tabla comprendida por el país o zona de estudio, mes de lectura, tipo de lectura, y las lecturas por año (entre otras columnas)."
      ]
    },
    {
      "cell_type": "code",
      "execution_count": 60,
      "id": "d7249993-8fba-41c6-8c6c-c14988b36a4e",
      "metadata": {
        "colab": {
          "base_uri": "https://localhost:8080/"
        },
        "id": "d7249993-8fba-41c6-8c6c-c14988b36a4e",
        "outputId": "540513f6-ef42-4e88-b2c6-9bc162dbe5a9"
      },
      "outputs": [
        {
          "output_type": "execute_result",
          "data": {
            "text/plain": [
              "284"
            ]
          },
          "metadata": {},
          "execution_count": 60
        }
      ],
      "source": [
        "len(df.Area.unique())"
      ]
    },
    {
      "cell_type": "markdown",
      "id": "593e1b19-3c28-43d0-addf-e7a5f5711fd3",
      "metadata": {
        "id": "593e1b19-3c28-43d0-addf-e7a5f5711fd3"
      },
      "source": [
        "Se puede observar que tenemos unas 284 areas en total, las cuales se componen en paises y regiones."
      ]
    },
    {
      "cell_type": "markdown",
      "id": "33a972c7-e19b-432f-ac89-9250c05a04d7",
      "metadata": {
        "id": "33a972c7-e19b-432f-ac89-9250c05a04d7"
      },
      "source": [
        "## EDA (Exploratory Data Analysis) <a class=\"anchor\" id=\"EDA\"></a>\n",
        "\n",
        "A partir de la carga de datos, realizamos un tratamiento previo que nos ayudará luego a generar eficientemente visualizaciones."
      ]
    },
    {
      "cell_type": "code",
      "execution_count": 61,
      "id": "51b309aa-914b-4321-9588-a08a5fe562c0",
      "metadata": {
        "id": "51b309aa-914b-4321-9588-a08a5fe562c0"
      },
      "outputs": [],
      "source": [
        "temp_df = df.copy()"
      ]
    },
    {
      "cell_type": "markdown",
      "id": "366929a4-3114-41a5-8558-bc144dfdc805",
      "metadata": {
        "id": "366929a4-3114-41a5-8558-bc144dfdc805"
      },
      "source": [
        "### Feature Selection <a class=\"anchor\" id=\"FeatureSelection\"></a>"
      ]
    },
    {
      "cell_type": "code",
      "execution_count": 62,
      "id": "ecca5e67-9e4e-4752-9c37-d2192fc96185",
      "metadata": {
        "id": "ecca5e67-9e4e-4752-9c37-d2192fc96185",
        "outputId": "841089c1-7089-45d6-fadc-e5d62b13a13b",
        "colab": {
          "base_uri": "https://localhost:8080/"
        }
      },
      "outputs": [
        {
          "output_type": "execute_result",
          "data": {
            "text/plain": [
              "Index(['Area Code', 'Area', 'Months Code', 'Months', 'Element Code',\n",
              "       'Element'],\n",
              "      dtype='object')"
            ]
          },
          "metadata": {},
          "execution_count": 62
        }
      ],
      "source": [
        "df_object_columns = temp_df.iloc[:, 0:6]\n",
        "df_object_columns.keys()"
      ]
    },
    {
      "cell_type": "markdown",
      "id": "28686a2f-e4b9-45dc-a2cd-c5bfcbfe5b83",
      "metadata": {
        "id": "28686a2f-e4b9-45dc-a2cd-c5bfcbfe5b83"
      },
      "source": [
        "Los datos de estas columnas no serán objeto de estudio ya que reprensentan valores de objetos. Es decir, en estas carecterísticas (features) tenemos información de los países/áreas que comprenden el estudio, mes de la medición de la temperatura y el tipo de medición, más los codigos de cada una."
      ]
    },
    {
      "cell_type": "code",
      "execution_count": 63,
      "id": "491096a4-ae6c-43e4-8170-7dd1c0c396fb",
      "metadata": {
        "id": "491096a4-ae6c-43e4-8170-7dd1c0c396fb",
        "outputId": "52a03f18-3db1-46ae-f4d3-fe8aaf2eab50",
        "colab": {
          "base_uri": "https://localhost:8080/"
        }
      },
      "outputs": [
        {
          "output_type": "execute_result",
          "data": {
            "text/plain": [
              "Index(['Y1961', 'Y1962', 'Y1963', 'Y1964', 'Y1965', 'Y1966', 'Y1967', 'Y1968',\n",
              "       'Y1969', 'Y1970', 'Y1971', 'Y1972', 'Y1973', 'Y1974', 'Y1975', 'Y1976',\n",
              "       'Y1977', 'Y1978', 'Y1979', 'Y1980', 'Y1981', 'Y1982', 'Y1983', 'Y1984',\n",
              "       'Y1985', 'Y1986', 'Y1987', 'Y1988', 'Y1989', 'Y1990', 'Y1991', 'Y1992',\n",
              "       'Y1993', 'Y1994', 'Y1995', 'Y1996', 'Y1997', 'Y1998', 'Y1999', 'Y2000',\n",
              "       'Y2001', 'Y2002', 'Y2003', 'Y2004', 'Y2005', 'Y2006', 'Y2007', 'Y2008',\n",
              "       'Y2009', 'Y2010', 'Y2011', 'Y2012', 'Y2013', 'Y2014', 'Y2015', 'Y2016',\n",
              "       'Y2017', 'Y2018', 'Y2019'],\n",
              "      dtype='object')"
            ]
          },
          "metadata": {},
          "execution_count": 63
        }
      ],
      "source": [
        "df_year_columns = temp_df.iloc[:, 7:]\n",
        "df_year_columns.keys()"
      ]
    },
    {
      "cell_type": "markdown",
      "id": "8ab66e06-2941-4191-99b2-e7d5da3e0435",
      "metadata": {
        "id": "8ab66e06-2941-4191-99b2-e7d5da3e0435"
      },
      "source": [
        "Luego tenemos las mediciones de temperaturas de cada año como feature. En el dataset son nuestras **variables objetivos**. Es decir, en todas ellas se centrará nuestro estudio (se intentará predecir los valores de años posteriores) con lo cual no buscamos reducir su dimensionalidad. **<u>Es entonces que no se aplicarán métodos de Feature Selection.</u>**"
      ]
    },
    {
      "cell_type": "markdown",
      "id": "1a166566-63f3-4ebc-be24-811609720d46",
      "metadata": {
        "id": "1a166566-63f3-4ebc-be24-811609720d46"
      },
      "source": [
        "### Instance Selection <a class=\"anchor\" id=\"InstanceSelection\"></a>\n",
        "\n",
        "En el dataset, sobre la columna Element se tienen dos valores posibles: Temperature Change y Standard Deviation. Cuando apliquemos un algoritmo de regresión, lo haremos para los valores del primero, con lo cual, necesitamos filtrar las instancias de Element=Standard Deviation."
      ]
    },
    {
      "cell_type": "markdown",
      "id": "8b483343-2075-4125-992d-445923244c33",
      "metadata": {
        "id": "8b483343-2075-4125-992d-445923244c33"
      },
      "source": [
        "* Primero, verificamos los valores de Element:"
      ]
    },
    {
      "cell_type": "code",
      "execution_count": 64,
      "id": "ff2dcb93-1aa7-460f-a1c6-198ac82ca44b",
      "metadata": {
        "id": "ff2dcb93-1aa7-460f-a1c6-198ac82ca44b",
        "outputId": "36896f04-39f6-4ee4-ddd2-047621f6afe6",
        "colab": {
          "base_uri": "https://localhost:8080/"
        }
      },
      "outputs": [
        {
          "output_type": "stream",
          "name": "stdout",
          "text": [
            "['Temperature change' 'Standard Deviation']\n"
          ]
        }
      ],
      "source": [
        "element_values = temp_df['Element'].unique()\n",
        "print(element_values)"
      ]
    },
    {
      "cell_type": "markdown",
      "id": "10071fb1-d82e-4e27-b340-1660f0ecf5ac",
      "metadata": {
        "id": "10071fb1-d82e-4e27-b340-1660f0ecf5ac"
      },
      "source": [
        "* Segundo, aplicamos **Instance Selection** en nuestro dataset:"
      ]
    },
    {
      "cell_type": "code",
      "execution_count": 65,
      "id": "e9f6e92d-50ec-4571-aa4e-a4ee10899abc",
      "metadata": {
        "id": "e9f6e92d-50ec-4571-aa4e-a4ee10899abc",
        "outputId": "0b9e4a81-5112-4414-c2ab-298bba133cd2",
        "colab": {
          "base_uri": "https://localhost:8080/",
          "height": 236
        }
      },
      "outputs": [
        {
          "output_type": "execute_result",
          "data": {
            "text/plain": [
              "   area_code         area  months_code    months  element_code  \\\n",
              "0          2  Afghanistan         7001   January          7271   \n",
              "2          2  Afghanistan         7002  February          7271   \n",
              "4          2  Afghanistan         7003     March          7271   \n",
              "6          2  Afghanistan         7004     April          7271   \n",
              "8          2  Afghanistan         7005       May          7271   \n",
              "\n",
              "              element unit  Y1961  Y1962  Y1963  ...  Y2010  Y2011  Y2012  \\\n",
              "0  Temperature change   °C  0.777  0.062  2.744  ...  3.601  1.179 -0.583   \n",
              "2  Temperature change   °C -1.743  2.465  3.919  ...  1.212  0.321 -3.201   \n",
              "4  Temperature change   °C  0.516  1.336  0.403  ...  3.390  0.748 -0.527   \n",
              "6  Temperature change   °C -1.709  0.117  0.919  ...  2.591  1.712  1.417   \n",
              "8  Temperature change   °C  1.412 -0.092 -0.690  ...  1.419  3.643  0.909   \n",
              "\n",
              "   Y2013  Y2014  Y2015  Y2016  Y2017  Y2018  Y2019  \n",
              "0  1.233  1.755  1.943  3.416  1.201  1.996  2.951  \n",
              "2  1.494 -3.187  2.699  2.251 -0.323  2.705  0.086  \n",
              "4  2.246 -0.076 -0.497  2.296  0.834  4.418  0.234  \n",
              "6 -0.052  0.585  1.589  0.980  1.252  1.442  0.899  \n",
              "8  1.201  0.959  1.862  3.246  3.280  0.855  0.647  \n",
              "\n",
              "[5 rows x 66 columns]"
            ],
            "text/html": [
              "\n",
              "  <div id=\"df-327306bc-b833-40e2-8765-a225c39fdb71\">\n",
              "    <div class=\"colab-df-container\">\n",
              "      <div>\n",
              "<style scoped>\n",
              "    .dataframe tbody tr th:only-of-type {\n",
              "        vertical-align: middle;\n",
              "    }\n",
              "\n",
              "    .dataframe tbody tr th {\n",
              "        vertical-align: top;\n",
              "    }\n",
              "\n",
              "    .dataframe thead th {\n",
              "        text-align: right;\n",
              "    }\n",
              "</style>\n",
              "<table border=\"1\" class=\"dataframe\">\n",
              "  <thead>\n",
              "    <tr style=\"text-align: right;\">\n",
              "      <th></th>\n",
              "      <th>area_code</th>\n",
              "      <th>area</th>\n",
              "      <th>months_code</th>\n",
              "      <th>months</th>\n",
              "      <th>element_code</th>\n",
              "      <th>element</th>\n",
              "      <th>unit</th>\n",
              "      <th>Y1961</th>\n",
              "      <th>Y1962</th>\n",
              "      <th>Y1963</th>\n",
              "      <th>...</th>\n",
              "      <th>Y2010</th>\n",
              "      <th>Y2011</th>\n",
              "      <th>Y2012</th>\n",
              "      <th>Y2013</th>\n",
              "      <th>Y2014</th>\n",
              "      <th>Y2015</th>\n",
              "      <th>Y2016</th>\n",
              "      <th>Y2017</th>\n",
              "      <th>Y2018</th>\n",
              "      <th>Y2019</th>\n",
              "    </tr>\n",
              "  </thead>\n",
              "  <tbody>\n",
              "    <tr>\n",
              "      <th>0</th>\n",
              "      <td>2</td>\n",
              "      <td>Afghanistan</td>\n",
              "      <td>7001</td>\n",
              "      <td>January</td>\n",
              "      <td>7271</td>\n",
              "      <td>Temperature change</td>\n",
              "      <td>°C</td>\n",
              "      <td>0.777</td>\n",
              "      <td>0.062</td>\n",
              "      <td>2.744</td>\n",
              "      <td>...</td>\n",
              "      <td>3.601</td>\n",
              "      <td>1.179</td>\n",
              "      <td>-0.583</td>\n",
              "      <td>1.233</td>\n",
              "      <td>1.755</td>\n",
              "      <td>1.943</td>\n",
              "      <td>3.416</td>\n",
              "      <td>1.201</td>\n",
              "      <td>1.996</td>\n",
              "      <td>2.951</td>\n",
              "    </tr>\n",
              "    <tr>\n",
              "      <th>2</th>\n",
              "      <td>2</td>\n",
              "      <td>Afghanistan</td>\n",
              "      <td>7002</td>\n",
              "      <td>February</td>\n",
              "      <td>7271</td>\n",
              "      <td>Temperature change</td>\n",
              "      <td>°C</td>\n",
              "      <td>-1.743</td>\n",
              "      <td>2.465</td>\n",
              "      <td>3.919</td>\n",
              "      <td>...</td>\n",
              "      <td>1.212</td>\n",
              "      <td>0.321</td>\n",
              "      <td>-3.201</td>\n",
              "      <td>1.494</td>\n",
              "      <td>-3.187</td>\n",
              "      <td>2.699</td>\n",
              "      <td>2.251</td>\n",
              "      <td>-0.323</td>\n",
              "      <td>2.705</td>\n",
              "      <td>0.086</td>\n",
              "    </tr>\n",
              "    <tr>\n",
              "      <th>4</th>\n",
              "      <td>2</td>\n",
              "      <td>Afghanistan</td>\n",
              "      <td>7003</td>\n",
              "      <td>March</td>\n",
              "      <td>7271</td>\n",
              "      <td>Temperature change</td>\n",
              "      <td>°C</td>\n",
              "      <td>0.516</td>\n",
              "      <td>1.336</td>\n",
              "      <td>0.403</td>\n",
              "      <td>...</td>\n",
              "      <td>3.390</td>\n",
              "      <td>0.748</td>\n",
              "      <td>-0.527</td>\n",
              "      <td>2.246</td>\n",
              "      <td>-0.076</td>\n",
              "      <td>-0.497</td>\n",
              "      <td>2.296</td>\n",
              "      <td>0.834</td>\n",
              "      <td>4.418</td>\n",
              "      <td>0.234</td>\n",
              "    </tr>\n",
              "    <tr>\n",
              "      <th>6</th>\n",
              "      <td>2</td>\n",
              "      <td>Afghanistan</td>\n",
              "      <td>7004</td>\n",
              "      <td>April</td>\n",
              "      <td>7271</td>\n",
              "      <td>Temperature change</td>\n",
              "      <td>°C</td>\n",
              "      <td>-1.709</td>\n",
              "      <td>0.117</td>\n",
              "      <td>0.919</td>\n",
              "      <td>...</td>\n",
              "      <td>2.591</td>\n",
              "      <td>1.712</td>\n",
              "      <td>1.417</td>\n",
              "      <td>-0.052</td>\n",
              "      <td>0.585</td>\n",
              "      <td>1.589</td>\n",
              "      <td>0.980</td>\n",
              "      <td>1.252</td>\n",
              "      <td>1.442</td>\n",
              "      <td>0.899</td>\n",
              "    </tr>\n",
              "    <tr>\n",
              "      <th>8</th>\n",
              "      <td>2</td>\n",
              "      <td>Afghanistan</td>\n",
              "      <td>7005</td>\n",
              "      <td>May</td>\n",
              "      <td>7271</td>\n",
              "      <td>Temperature change</td>\n",
              "      <td>°C</td>\n",
              "      <td>1.412</td>\n",
              "      <td>-0.092</td>\n",
              "      <td>-0.690</td>\n",
              "      <td>...</td>\n",
              "      <td>1.419</td>\n",
              "      <td>3.643</td>\n",
              "      <td>0.909</td>\n",
              "      <td>1.201</td>\n",
              "      <td>0.959</td>\n",
              "      <td>1.862</td>\n",
              "      <td>3.246</td>\n",
              "      <td>3.280</td>\n",
              "      <td>0.855</td>\n",
              "      <td>0.647</td>\n",
              "    </tr>\n",
              "  </tbody>\n",
              "</table>\n",
              "<p>5 rows × 66 columns</p>\n",
              "</div>\n",
              "      <button class=\"colab-df-convert\" onclick=\"convertToInteractive('df-327306bc-b833-40e2-8765-a225c39fdb71')\"\n",
              "              title=\"Convert this dataframe to an interactive table.\"\n",
              "              style=\"display:none;\">\n",
              "        \n",
              "  <svg xmlns=\"http://www.w3.org/2000/svg\" height=\"24px\"viewBox=\"0 0 24 24\"\n",
              "       width=\"24px\">\n",
              "    <path d=\"M0 0h24v24H0V0z\" fill=\"none\"/>\n",
              "    <path d=\"M18.56 5.44l.94 2.06.94-2.06 2.06-.94-2.06-.94-.94-2.06-.94 2.06-2.06.94zm-11 1L8.5 8.5l.94-2.06 2.06-.94-2.06-.94L8.5 2.5l-.94 2.06-2.06.94zm10 10l.94 2.06.94-2.06 2.06-.94-2.06-.94-.94-2.06-.94 2.06-2.06.94z\"/><path d=\"M17.41 7.96l-1.37-1.37c-.4-.4-.92-.59-1.43-.59-.52 0-1.04.2-1.43.59L10.3 9.45l-7.72 7.72c-.78.78-.78 2.05 0 2.83L4 21.41c.39.39.9.59 1.41.59.51 0 1.02-.2 1.41-.59l7.78-7.78 2.81-2.81c.8-.78.8-2.07 0-2.86zM5.41 20L4 18.59l7.72-7.72 1.47 1.35L5.41 20z\"/>\n",
              "  </svg>\n",
              "      </button>\n",
              "      \n",
              "  <style>\n",
              "    .colab-df-container {\n",
              "      display:flex;\n",
              "      flex-wrap:wrap;\n",
              "      gap: 12px;\n",
              "    }\n",
              "\n",
              "    .colab-df-convert {\n",
              "      background-color: #E8F0FE;\n",
              "      border: none;\n",
              "      border-radius: 50%;\n",
              "      cursor: pointer;\n",
              "      display: none;\n",
              "      fill: #1967D2;\n",
              "      height: 32px;\n",
              "      padding: 0 0 0 0;\n",
              "      width: 32px;\n",
              "    }\n",
              "\n",
              "    .colab-df-convert:hover {\n",
              "      background-color: #E2EBFA;\n",
              "      box-shadow: 0px 1px 2px rgba(60, 64, 67, 0.3), 0px 1px 3px 1px rgba(60, 64, 67, 0.15);\n",
              "      fill: #174EA6;\n",
              "    }\n",
              "\n",
              "    [theme=dark] .colab-df-convert {\n",
              "      background-color: #3B4455;\n",
              "      fill: #D2E3FC;\n",
              "    }\n",
              "\n",
              "    [theme=dark] .colab-df-convert:hover {\n",
              "      background-color: #434B5C;\n",
              "      box-shadow: 0px 1px 3px 1px rgba(0, 0, 0, 0.15);\n",
              "      filter: drop-shadow(0px 1px 2px rgba(0, 0, 0, 0.3));\n",
              "      fill: #FFFFFF;\n",
              "    }\n",
              "  </style>\n",
              "\n",
              "      <script>\n",
              "        const buttonEl =\n",
              "          document.querySelector('#df-327306bc-b833-40e2-8765-a225c39fdb71 button.colab-df-convert');\n",
              "        buttonEl.style.display =\n",
              "          google.colab.kernel.accessAllowed ? 'block' : 'none';\n",
              "\n",
              "        async function convertToInteractive(key) {\n",
              "          const element = document.querySelector('#df-327306bc-b833-40e2-8765-a225c39fdb71');\n",
              "          const dataTable =\n",
              "            await google.colab.kernel.invokeFunction('convertToInteractive',\n",
              "                                                     [key], {});\n",
              "          if (!dataTable) return;\n",
              "\n",
              "          const docLinkHtml = 'Like what you see? Visit the ' +\n",
              "            '<a target=\"_blank\" href=https://colab.research.google.com/notebooks/data_table.ipynb>data table notebook</a>'\n",
              "            + ' to learn more about interactive tables.';\n",
              "          element.innerHTML = '';\n",
              "          dataTable['output_type'] = 'display_data';\n",
              "          await google.colab.output.renderOutput(dataTable, element);\n",
              "          const docLink = document.createElement('div');\n",
              "          docLink.innerHTML = docLinkHtml;\n",
              "          element.appendChild(docLink);\n",
              "        }\n",
              "      </script>\n",
              "    </div>\n",
              "  </div>\n",
              "  "
            ]
          },
          "metadata": {},
          "execution_count": 65
        }
      ],
      "source": [
        "#Renombro las columnas para cambiar su estilo de escritura\n",
        "temp_df = temp_df.rename(columns = {'Area Code':'area_code', 'Area':'area', 'Months Code':'months_code','Months':'months','Element Code':'element_code','Element':'element','Unit':'unit'})\n",
        "#Elimino los element=Standard Deviation\n",
        "temp_df.drop(temp_df[temp_df.element_code == 6078].index , inplace = True)\n",
        "\n",
        "temp_df.head()"
      ]
    },
    {
      "cell_type": "markdown",
      "id": "38f3e11c-2df9-4612-8a39-7858ebe5ea26",
      "metadata": {
        "id": "38f3e11c-2df9-4612-8a39-7858ebe5ea26"
      },
      "source": [
        "### Modelado de datos auxiliares <a class=\"anchor\" id=\"DatosAuxiliares\"></a>\n",
        "\n",
        "En esta sección realizamos un procesamiento previo a los datos y crear nuevas estructuras que nos servirán luego para las visualizaciones y análisis.\n",
        "\n",
        "* Creamos un listado con los meses del año.\n",
        "* Filtramos columnas que no utilizaremos\n",
        "* Agrupamos valores por continentes\n",
        "* Obtenemos el promedio de cambio de temperatura por año"
      ]
    },
    {
      "cell_type": "code",
      "execution_count": 66,
      "id": "f9e2a8b5-33ea-4fbe-8e6e-958943df8ed5",
      "metadata": {
        "id": "f9e2a8b5-33ea-4fbe-8e6e-958943df8ed5"
      },
      "outputs": [],
      "source": [
        "months = ['January','February','March','April','May','June','July','August','September','October','November','December']\n",
        "temp_months = temp_df[temp_df['months'].isin(months)]\n",
        "\n",
        "temp_year = temp_df[(temp_df[\"months\"]==\"Meteorological year\")]\n",
        "temp_year = temp_year.drop([\"area_code\",\"months_code\",\"months\",\"element\",\"element_code\",\"unit\"],axis=1)\n",
        "temp_year = temp_year.T\n",
        "temp_year.columns = temp_year.loc['area']\n",
        "temp_year.drop('area', inplace = True)\n",
        "\n",
        "Continents = temp_year[[\"Africa\",\"Asia\",\"Europe\",\"Northern America\",\"South America\",\"Oceania\",\"Antarctica\"]] \n",
        "Continents = Continents.rename(columns={\"Northern America\":\"N_America\",\"South America\":\"S_America\"})\n",
        "Continents.reset_index(level=0, inplace=True)\n",
        "Continents = Continents.rename(columns={\"index\":\"Year\"})\n",
        "idx = Continents.columns[1:].tolist()"
      ]
    },
    {
      "cell_type": "code",
      "execution_count": 67,
      "id": "66c098b0-e646-44bb-9acc-4075ce5eccb3",
      "metadata": {
        "id": "66c098b0-e646-44bb-9acc-4075ce5eccb3"
      },
      "outputs": [],
      "source": [
        "def preprocess_inputs(_df):\n",
        "    _df = _df.groupby('area')\\\n",
        "            .mean()\\\n",
        "            .loc[:, 'Y1961':]\n",
        "    \n",
        "    # promedio/media de temperatura global\n",
        "    _df = pd.DataFrame(_df.mean()).reset_index(drop=False)\n",
        "    \n",
        "    #renombro columnas y cambio el tipo de dato de la columna año\n",
        "    #esto ultimo se hace para que me pueda tomar como una serie de tiempo y no como elementos por separado\n",
        "    _df.columns=['year', 'temperature_change']\n",
        "    _df['year'] = _df['year'].apply(lambda x: x[1:]).astype(int)\n",
        "    \n",
        "    return _df"
      ]
    },
    {
      "cell_type": "code",
      "execution_count": 68,
      "id": "96d227d6-343c-438f-b90e-3c98fc23d9df",
      "metadata": {
        "id": "96d227d6-343c-438f-b90e-3c98fc23d9df",
        "outputId": "1a5f6efe-70d3-4657-a93b-371c0c3da591",
        "colab": {
          "base_uri": "https://localhost:8080/",
          "height": 206
        }
      },
      "outputs": [
        {
          "output_type": "execute_result",
          "data": {
            "text/plain": [
              "   year  temperature_change\n",
              "0  1961            0.143032\n",
              "1  1962           -0.028398\n",
              "2  1963           -0.026297\n",
              "3  1964           -0.122865\n",
              "4  1965           -0.224154"
            ],
            "text/html": [
              "\n",
              "  <div id=\"df-4e6e600f-a4b2-4eb9-8435-ab9d09a1f881\">\n",
              "    <div class=\"colab-df-container\">\n",
              "      <div>\n",
              "<style scoped>\n",
              "    .dataframe tbody tr th:only-of-type {\n",
              "        vertical-align: middle;\n",
              "    }\n",
              "\n",
              "    .dataframe tbody tr th {\n",
              "        vertical-align: top;\n",
              "    }\n",
              "\n",
              "    .dataframe thead th {\n",
              "        text-align: right;\n",
              "    }\n",
              "</style>\n",
              "<table border=\"1\" class=\"dataframe\">\n",
              "  <thead>\n",
              "    <tr style=\"text-align: right;\">\n",
              "      <th></th>\n",
              "      <th>year</th>\n",
              "      <th>temperature_change</th>\n",
              "    </tr>\n",
              "  </thead>\n",
              "  <tbody>\n",
              "    <tr>\n",
              "      <th>0</th>\n",
              "      <td>1961</td>\n",
              "      <td>0.143032</td>\n",
              "    </tr>\n",
              "    <tr>\n",
              "      <th>1</th>\n",
              "      <td>1962</td>\n",
              "      <td>-0.028398</td>\n",
              "    </tr>\n",
              "    <tr>\n",
              "      <th>2</th>\n",
              "      <td>1963</td>\n",
              "      <td>-0.026297</td>\n",
              "    </tr>\n",
              "    <tr>\n",
              "      <th>3</th>\n",
              "      <td>1964</td>\n",
              "      <td>-0.122865</td>\n",
              "    </tr>\n",
              "    <tr>\n",
              "      <th>4</th>\n",
              "      <td>1965</td>\n",
              "      <td>-0.224154</td>\n",
              "    </tr>\n",
              "  </tbody>\n",
              "</table>\n",
              "</div>\n",
              "      <button class=\"colab-df-convert\" onclick=\"convertToInteractive('df-4e6e600f-a4b2-4eb9-8435-ab9d09a1f881')\"\n",
              "              title=\"Convert this dataframe to an interactive table.\"\n",
              "              style=\"display:none;\">\n",
              "        \n",
              "  <svg xmlns=\"http://www.w3.org/2000/svg\" height=\"24px\"viewBox=\"0 0 24 24\"\n",
              "       width=\"24px\">\n",
              "    <path d=\"M0 0h24v24H0V0z\" fill=\"none\"/>\n",
              "    <path d=\"M18.56 5.44l.94 2.06.94-2.06 2.06-.94-2.06-.94-.94-2.06-.94 2.06-2.06.94zm-11 1L8.5 8.5l.94-2.06 2.06-.94-2.06-.94L8.5 2.5l-.94 2.06-2.06.94zm10 10l.94 2.06.94-2.06 2.06-.94-2.06-.94-.94-2.06-.94 2.06-2.06.94z\"/><path d=\"M17.41 7.96l-1.37-1.37c-.4-.4-.92-.59-1.43-.59-.52 0-1.04.2-1.43.59L10.3 9.45l-7.72 7.72c-.78.78-.78 2.05 0 2.83L4 21.41c.39.39.9.59 1.41.59.51 0 1.02-.2 1.41-.59l7.78-7.78 2.81-2.81c.8-.78.8-2.07 0-2.86zM5.41 20L4 18.59l7.72-7.72 1.47 1.35L5.41 20z\"/>\n",
              "  </svg>\n",
              "      </button>\n",
              "      \n",
              "  <style>\n",
              "    .colab-df-container {\n",
              "      display:flex;\n",
              "      flex-wrap:wrap;\n",
              "      gap: 12px;\n",
              "    }\n",
              "\n",
              "    .colab-df-convert {\n",
              "      background-color: #E8F0FE;\n",
              "      border: none;\n",
              "      border-radius: 50%;\n",
              "      cursor: pointer;\n",
              "      display: none;\n",
              "      fill: #1967D2;\n",
              "      height: 32px;\n",
              "      padding: 0 0 0 0;\n",
              "      width: 32px;\n",
              "    }\n",
              "\n",
              "    .colab-df-convert:hover {\n",
              "      background-color: #E2EBFA;\n",
              "      box-shadow: 0px 1px 2px rgba(60, 64, 67, 0.3), 0px 1px 3px 1px rgba(60, 64, 67, 0.15);\n",
              "      fill: #174EA6;\n",
              "    }\n",
              "\n",
              "    [theme=dark] .colab-df-convert {\n",
              "      background-color: #3B4455;\n",
              "      fill: #D2E3FC;\n",
              "    }\n",
              "\n",
              "    [theme=dark] .colab-df-convert:hover {\n",
              "      background-color: #434B5C;\n",
              "      box-shadow: 0px 1px 3px 1px rgba(0, 0, 0, 0.15);\n",
              "      filter: drop-shadow(0px 1px 2px rgba(0, 0, 0, 0.3));\n",
              "      fill: #FFFFFF;\n",
              "    }\n",
              "  </style>\n",
              "\n",
              "      <script>\n",
              "        const buttonEl =\n",
              "          document.querySelector('#df-4e6e600f-a4b2-4eb9-8435-ab9d09a1f881 button.colab-df-convert');\n",
              "        buttonEl.style.display =\n",
              "          google.colab.kernel.accessAllowed ? 'block' : 'none';\n",
              "\n",
              "        async function convertToInteractive(key) {\n",
              "          const element = document.querySelector('#df-4e6e600f-a4b2-4eb9-8435-ab9d09a1f881');\n",
              "          const dataTable =\n",
              "            await google.colab.kernel.invokeFunction('convertToInteractive',\n",
              "                                                     [key], {});\n",
              "          if (!dataTable) return;\n",
              "\n",
              "          const docLinkHtml = 'Like what you see? Visit the ' +\n",
              "            '<a target=\"_blank\" href=https://colab.research.google.com/notebooks/data_table.ipynb>data table notebook</a>'\n",
              "            + ' to learn more about interactive tables.';\n",
              "          element.innerHTML = '';\n",
              "          dataTable['output_type'] = 'display_data';\n",
              "          await google.colab.output.renderOutput(dataTable, element);\n",
              "          const docLink = document.createElement('div');\n",
              "          docLink.innerHTML = docLinkHtml;\n",
              "          element.appendChild(docLink);\n",
              "        }\n",
              "      </script>\n",
              "    </div>\n",
              "  </div>\n",
              "  "
            ]
          },
          "metadata": {},
          "execution_count": 68
        }
      ],
      "source": [
        "time_series = preprocess_inputs(temp_df)\n",
        "time_series.head()"
      ]
    },
    {
      "cell_type": "markdown",
      "source": [
        "## Análisis estadístico de time_series <a class=\"anchor\" id=\"analisis_univariado\"></a>\n",
        "\n",
        "Dado que en las próximas secciones utilizaremos este set de datos para realizar visualizaciones y analisis de ciencia de datos, necesitamos previamente estudiar la calidad de estas lecturas, teniendo en cuenta su distribución y las medidas de tendencia central.\n",
        "\n",
        "Entonces, en esta sección, haremos un breve análisis estadístico univariado, con el objetivo de analizar las lecturas de las mediciones por año con una mirada estadística de tipo descriptivo. En resultado, nos agrega valor en nuestra exploración de los datos."
      ],
      "metadata": {
        "id": "KR4hm1eHSI6A"
      },
      "id": "KR4hm1eHSI6A"
    },
    {
      "cell_type": "code",
      "source": [
        "import scipy \n",
        "scipy.stats.describe(time_series['temperature_change'])"
      ],
      "metadata": {
        "colab": {
          "base_uri": "https://localhost:8080/"
        },
        "id": "Y9OKiHD8TPvu",
        "outputId": "2e9c5555-0118-4e0a-e97c-e338d1e709f4"
      },
      "id": "Y9OKiHD8TPvu",
      "execution_count": 69,
      "outputs": [
        {
          "output_type": "execute_result",
          "data": {
            "text/plain": [
              "DescribeResult(nobs=59, minmax=(-0.22415409663865546, 1.4648986274368048), mean=0.4700899661775744, variance=0.22498114569237165, skewness=0.38775568372912556, kurtosis=-0.9810871140299633)"
            ]
          },
          "metadata": {},
          "execution_count": 69
        }
      ]
    },
    {
      "cell_type": "markdown",
      "source": [
        "Resultados obtenidos:\n",
        "\n",
        "\n",
        "\n",
        "*   **nobs**\n",
        "\n",
        "Representa el número de observaciones. El periodo de tiempo de la mediciones es de 59 años (1961-2019).\n",
        "\n",
        "*   **minmax**\n",
        "\n",
        "Valor mínimo y máximo de los promedios anuales de las mediciones.\n",
        "\n",
        "*   **mean**\n",
        "\n",
        "Promedio o media de los promedios anuales de las mediciones.\n",
        "\n",
        "*   **variance**\n",
        "\n",
        "La varianza es una medida de dispersión que representa la variabilidad de una serie de datos respecto a su media. En este caso es la varianza de los promedios anuales de las mediciones.\n",
        "\n",
        "*   **skewness**\n",
        "\n",
        "Refiere a la medida de asimetría de los datos.\n",
        "\n",
        "La asimetría se refiere a la distorsión de simetría. \n",
        "Una distribución, o conjunto de datos, es simétrico si se ve igual a la izquierda y a la derecha del punto central.\n",
        "Son medidas de tercer momento y nos permiten entender si es que la distribución de valores numéricos es normal o no.\n",
        "\n",
        ">Dado que hemos obtenido una asimetría de **0.38** podemos decir **los promedios anuales de las mediciones se consideran muy similares a una distribución normal**.\n",
        "\n",
        "*   **kurtosis**\n",
        "\n",
        "Es una medida del grado de cuántos valores atípicos hay. Para una distribución normal, el valor del estadístico de curtosis es 0. Una curtosis positiva indica que los datos muestran más valores atípico extremos que una distribución normal. La curtosis negativa indica que los datos presentan valores atípicos menos extremados que una distribución normal.\n",
        "\n",
        ">Dado que hemos obtenido un valor de curtosis de **-0.98**, podemos afirmar que **los promedios anuales de las mediciones presentan una curtosis negativa**, lo que significa que tiene un pico más plano y colas más delgadas en comparación con una distribución normal.\n"
      ],
      "metadata": {
        "id": "vC3Hw0hPW1jB"
      },
      "id": "vC3Hw0hPW1jB"
    },
    {
      "cell_type": "code",
      "source": [
        "from IPython.display import Image\n",
        "from IPython.core.display import HTML"
      ],
      "metadata": {
        "id": "oV-25FGRjdW1"
      },
      "id": "oV-25FGRjdW1",
      "execution_count": 70,
      "outputs": []
    },
    {
      "cell_type": "code",
      "source": [
        "url= \"https://www.allaboutcircuits.com/uploads/articles/understanding-the-normal-distribution-parametric-tests-skewness-and-kurtosis-rk-aac-image2.jpg\"\n",
        "Image(url, width=450, height=300)"
      ],
      "metadata": {
        "colab": {
          "base_uri": "https://localhost:8080/",
          "height": 317
        },
        "id": "2XZ4uRf4jgEP",
        "outputId": "291b4fc5-2c77-478a-e506-1e6303895239"
      },
      "id": "2XZ4uRf4jgEP",
      "execution_count": 71,
      "outputs": [
        {
          "output_type": "execute_result",
          "data": {
            "image/jpeg": "[encoded data removed]",
            "text/plain": [
              "<IPython.core.display.Image object>"
            ]
          },
          "metadata": {
            "image/jpeg": {
              "width": 450,
              "height": 300
            }
          },
          "execution_count": 71
        }
      ]
    },
    {
      "cell_type": "code",
      "source": [
        "Image(url= \"https://community.sw.siemens.com/servlet/rtaImage?eid=ka64O000000kDup&feoid=00N4O000006Yxpf&refid=0EM4O00000113Pw\")"
      ],
      "metadata": {
        "colab": {
          "base_uri": "https://localhost:8080/",
          "height": 296
        },
        "id": "2PslrVC9h5UD",
        "outputId": "38667795-0625-498d-8bf7-d9381d20f3b5"
      },
      "id": "2PslrVC9h5UD",
      "execution_count": 72,
      "outputs": [
        {
          "output_type": "execute_result",
          "data": {
            "text/html": [
              "<img src=\"https://community.sw.siemens.com/servlet/rtaImage?eid=ka64O000000kDup&feoid=00N4O000006Yxpf&refid=0EM4O00000113Pw\"/>"
            ],
            "text/plain": [
              "<IPython.core.display.Image object>"
            ]
          },
          "metadata": {},
          "execution_count": 72
        }
      ]
    },
    {
      "cell_type": "markdown",
      "source": [
        "### Medidas de dispersión\n"
      ],
      "metadata": {
        "id": "5lyw7KdjluZG"
      },
      "id": "5lyw7KdjluZG"
    },
    {
      "cell_type": "code",
      "source": [
        "print(\"Coef. Variación: \", scipy.stats.variation(time_series['temperature_change']))"
      ],
      "metadata": {
        "colab": {
          "base_uri": "https://localhost:8080/"
        },
        "id": "DfTo36OTl5XA",
        "outputId": "71c92844-7d2b-49e5-b195-710645f1361a"
      },
      "id": "DfTo36OTl5XA",
      "execution_count": 73,
      "outputs": [
        {
          "output_type": "stream",
          "name": "stdout",
          "text": [
            "Coef. Variación:  1.0004147158822905\n"
          ]
        }
      ]
    },
    {
      "cell_type": "code",
      "source": [
        "print(\"IQR: \", scipy.stats.iqr(time_series['temperature_change']))"
      ],
      "metadata": {
        "colab": {
          "base_uri": "https://localhost:8080/"
        },
        "id": "V6lcqpA4mLt5",
        "outputId": "248d1875-c80a-4763-9298-09eb505733f8"
      },
      "id": "V6lcqpA4mLt5",
      "execution_count": 74,
      "outputs": [
        {
          "output_type": "stream",
          "name": "stdout",
          "text": [
            "IQR:  0.7894107767772274\n"
          ]
        }
      ]
    },
    {
      "cell_type": "code",
      "source": [
        "print(\"Error estándar: \", scipy.stats.sem(time_series['temperature_change']))"
      ],
      "metadata": {
        "colab": {
          "base_uri": "https://localhost:8080/"
        },
        "id": "cY8BVeO9mR0W",
        "outputId": "a3f209a6-a746-4e53-d6b6-313f39e2decc"
      },
      "id": "cY8BVeO9mR0W",
      "execution_count": 75,
      "outputs": [
        {
          "output_type": "stream",
          "name": "stdout",
          "text": [
            "Error estándar:  0.06175143526670312\n"
          ]
        }
      ]
    },
    {
      "cell_type": "markdown",
      "source": [
        "Resultados obtenidos:\n",
        "\n",
        "* **Coeficiente de Variación**\n",
        "\n",
        "Refiere a la relación entre el tamaño de la media y la variabilidad de la variable.\n",
        "\n",
        ">Al tener como resultado un valor de este coeficiente mayor a uno, podemos observar una alta variabilidad de las mediciones de los promedios anuales de las lecturas.\n",
        "\n",
        "* **IQR - rango intercuartílico**\n",
        "\n",
        "El rango intercuartílico es una medida de variabilidad adecuada cuando la medida de posición central empleada ha sido la mediana. Se define como la diferencia entre el tercer cuartil (Q3) y el primer cuartil (Q1), es decir: RQ = Q3 - Q1. A la mitad del rango intercuartil se le conoce como desviación cuartil (DQ), es afectada muy poco por cuentas extremas. Esto lo hace una buena medida de dispersión para distribuciones sesgadas: DQ = RQ/2= (Q3 - Q1)/2\n",
        "\n",
        ">Teniendo en cuenta que nuestros valores mínimos y máximos son [-0.22, 1.46] respectivamente, podemos observar una variabilidad alta entre cuartiles, teniendo en cuenta que la media de las mediciones es de 0.47.\n",
        "\n",
        "* **Error estandar**\n",
        "\n",
        "Representa a la desviación estandar. Es el valor que cuantifica cuánto se apartan los valores de la media de la población. Es decir, el error estándar de la media cuantifica las oscilaciones de la media muestral  (media obtenida en base a los datos medidos en la muestra utilizada) alrededor de la media poblacional (verdadero valor de la media). Es una medida del error que se comete al tomar la media calculada en una muestra como estimación de la media de la población total.\n",
        "\n",
        ">Según el resultado obtenido, observamos un error medio bajo en las mediciones del promedios anuales."
      ],
      "metadata": {
        "id": "LRcqx7Wwq0Ve"
      },
      "id": "LRcqx7Wwq0Ve"
    },
    {
      "cell_type": "markdown",
      "source": [
        "### Medidas de asimetría y kurtosis\n",
        "\n",
        "Estas medidas informan sobre dos aspectos importantes de la forma de la distribución: su grado de asimetría y su grado de homogeneidad. Al ser medidas de forma, no dependen de las unidades de medida de los datos"
      ],
      "metadata": {
        "id": "_nLXGwSZyypL"
      },
      "id": "_nLXGwSZyypL"
    },
    {
      "cell_type": "code",
      "source": [
        "print(\"Skewness: \", scipy.stats.skew(time_series['temperature_change']))"
      ],
      "metadata": {
        "colab": {
          "base_uri": "https://localhost:8080/"
        },
        "id": "_TnDGneky-yk",
        "outputId": "3388c182-37a0-43ac-b903-ca4e2a8114dd"
      },
      "id": "_TnDGneky-yk",
      "execution_count": 76,
      "outputs": [
        {
          "output_type": "stream",
          "name": "stdout",
          "text": [
            "Skewness:  0.38775568372912556\n"
          ]
        }
      ]
    },
    {
      "cell_type": "code",
      "source": [
        "print(\"Kurtosis: \", scipy.stats.kurtosis(time_series['temperature_change']))"
      ],
      "metadata": {
        "colab": {
          "base_uri": "https://localhost:8080/"
        },
        "id": "gA0A8OkdzNaX",
        "outputId": "cbaba0f3-3761-442a-d9aa-9d3ef6db8471"
      },
      "id": "gA0A8OkdzNaX",
      "execution_count": 77,
      "outputs": [
        {
          "output_type": "stream",
          "name": "stdout",
          "text": [
            "Kurtosis:  -0.9810871140299633\n"
          ]
        }
      ]
    },
    {
      "cell_type": "markdown",
      "source": [
        "Resultados obtenidos:\n",
        "\n",
        "* **Skewness**\n",
        "\n",
        "Presenta una asimetría positiva.\n",
        "\n",
        "* **Kurtosis**\n",
        "\n",
        "Presenta una kurtosis negativa."
      ],
      "metadata": {
        "id": "5v2YfgL6zaOO"
      },
      "id": "5v2YfgL6zaOO"
    },
    {
      "cell_type": "markdown",
      "source": [
        "### Verificación de los datos y la curva normal\n",
        "\n",
        "Sabiendo los valores de skewness y kurtosis, queremos evaluar si nuestras lecturas de los promedios anuales coinciden con una curva normal."
      ],
      "metadata": {
        "id": "tD75ZQXRVmmC"
      },
      "id": "tD75ZQXRVmmC"
    },
    {
      "cell_type": "code",
      "source": [
        "sns.histplot(time_series['temperature_change'], bins=10, kde=False)"
      ],
      "metadata": {
        "colab": {
          "base_uri": "https://localhost:8080/",
          "height": 297
        },
        "id": "2s1n439HWfJI",
        "outputId": "92664740-f942-4ff9-918f-2707ff52b177"
      },
      "id": "2s1n439HWfJI",
      "execution_count": 78,
      "outputs": [
        {
          "output_type": "execute_result",
          "data": {
            "text/plain": [
              "<matplotlib.axes._subplots.AxesSubplot at 0x7f333cccc110>"
            ]
          },
          "metadata": {},
          "execution_count": 78
        },
        {
          "output_type": "display_data",
          "data": {
            "text/plain": [
              "<Figure size 432x288 with 1 Axes>"
            ],
            "image/png": "[encoded data removed]"
          },
          "metadata": {
            "needs_background": "light"
          }
        }
      ]
    },
    {
      "cell_type": "markdown",
      "source": [
        ">En este histograma podemos observar que confirma la asimetría positiva observada anteriormente."
      ],
      "metadata": {
        "id": "nk57P_WjY8rs"
      },
      "id": "nk57P_WjY8rs"
    },
    {
      "cell_type": "code",
      "source": [
        "stats.shapiro(time_series['temperature_change'])"
      ],
      "metadata": {
        "colab": {
          "base_uri": "https://localhost:8080/"
        },
        "id": "nde-K7rHVgPY",
        "outputId": "87f1b603-9b54-4e3b-839c-1a7f5a65b4d0"
      },
      "id": "nde-K7rHVgPY",
      "execution_count": 79,
      "outputs": [
        {
          "output_type": "execute_result",
          "data": {
            "text/plain": [
              "ShapiroResult(statistic=0.9409127831459045, pvalue=0.006501821335405111)"
            ]
          },
          "metadata": {},
          "execution_count": 79
        }
      ]
    },
    {
      "cell_type": "markdown",
      "source": [
        "La prueba Shapiro-Wilk formula como hipótesis nula que los datos siguen una distribución normal. El valor resultante luego se analiza para aceptar o no esta hipótesis.\n",
        "\n",
        "Si pvalue > 0.05 --> indica no rechazar la hipotesis nula.\n",
        "\n",
        ">Es entonces que podemos indicar gracias a la prueba shapiro, que nuestra variable no cumple estadisticamente con una curva normal."
      ],
      "metadata": {
        "id": "6RoI0xxQWNBN"
      },
      "id": "6RoI0xxQWNBN"
    },
    {
      "cell_type": "code",
      "source": [
        "import pandas_profiling\n",
        "stats.probplot(time_series.temperature_change, dist = 'norm', plot=plt)"
      ],
      "metadata": {
        "colab": {
          "base_uri": "https://localhost:8080/",
          "height": 729
        },
        "id": "CwB0n-n6YhcA",
        "outputId": "8ca2ed35-c473-41a6-e0ab-1faede57228e"
      },
      "id": "CwB0n-n6YhcA",
      "execution_count": 80,
      "outputs": [
        {
          "output_type": "execute_result",
          "data": {
            "text/plain": [
              "((array([-2.26751093, -1.90574552, -1.6934328 , -1.53794117, -1.41266963,\n",
              "         -1.30632291, -1.21299259, -1.12917851, -1.05262603, -0.98179205,\n",
              "         -0.91557053, -0.85313927, -0.79386855, -0.73726396, -0.68292896,\n",
              "         -0.63053958, -0.57982669, -0.53056337, -0.48255566, -0.43563558,\n",
              "         -0.38965586, -0.34448587, -0.30000832, -0.25611675, -0.21271332,\n",
              "         -0.16970714, -0.1270127 , -0.08454864, -0.04223656,  0.        ,\n",
              "          0.04223656,  0.08454864,  0.1270127 ,  0.16970714,  0.21271332,\n",
              "          0.25611675,  0.30000832,  0.34448587,  0.38965586,  0.43563558,\n",
              "          0.48255566,  0.53056337,  0.57982669,  0.63053958,  0.68292896,\n",
              "          0.73726396,  0.79386855,  0.85313927,  0.91557053,  0.98179205,\n",
              "          1.05262603,  1.12917851,  1.21299259,  1.30632291,  1.41266963,\n",
              "          1.53794117,  1.6934328 ,  1.90574552,  2.26751093]),\n",
              "  array([-0.2241541 , -0.2109072 , -0.17764935, -0.16784126, -0.13197513,\n",
              "         -0.1288408 , -0.12286501, -0.04993604, -0.03039796, -0.02839765,\n",
              "         -0.02629724,  0.05398628,  0.06928029,  0.07218879,  0.0760552 ,\n",
              "          0.09506954,  0.10569433,  0.13904476,  0.14303154,  0.16073955,\n",
              "          0.18572422,  0.19914876,  0.22215859,  0.22441105,  0.23029884,\n",
              "          0.2434413 ,  0.25445975,  0.28353409,  0.31784349,  0.33512666,\n",
              "          0.34874607,  0.41501202,  0.43525668,  0.55985214,  0.57882521,\n",
              "          0.57935369,  0.60343876,  0.68965816,  0.73243517,  0.78786932,\n",
              "          0.80667901,  0.81331253,  0.86218515,  0.86304498,  0.88690132,\n",
              "          0.90163702,  0.91087712,  0.91783819,  0.94393713,  0.95188428,\n",
              "          0.97713101,  1.00482639,  1.08009699,  1.13141726,  1.29911229,\n",
              "          1.31045919,  1.3264624 ,  1.4401846 ,  1.46489863])),\n",
              " (0.47337639752170035, 0.4700899661775745, 0.9753165088543267))"
            ]
          },
          "metadata": {},
          "execution_count": 80
        },
        {
          "output_type": "display_data",
          "data": {
            "text/plain": [
              "<Figure size 432x288 with 1 Axes>"
            ],
            "image/png": "[encoded data removed]"
          },
          "metadata": {
            "needs_background": "light"
          }
        }
      ]
    },
    {
      "cell_type": "markdown",
      "source": [
        "Un gráfico Cuantil-Cuantil permite observar cuan cerca está la distribución de un conjunto de datos a alguna distribución ideal.\n",
        "\n",
        ">Entonces, el grafico Q-Q nos indica que la variable se acerca visualmente a una curva normal. Pero como ya vimos en el analisis anterior, con el test de shapiro, esta variable estadísticamente no se acerca a una curva normal."
      ],
      "metadata": {
        "id": "_s-1Np6pYrdh"
      },
      "id": "_s-1Np6pYrdh"
    },
    {
      "cell_type": "markdown",
      "id": "3d5942e0-dc58-4399-a119-55b55ffaeb0d",
      "metadata": {
        "id": "3d5942e0-dc58-4399-a119-55b55ffaeb0d"
      },
      "source": [
        "## Data Wrangling <a class=\"anchor\" id=\"DW\"></a>\n",
        "\n",
        "Previo a visualizar y analizar nuestros datos, debemos llevarlos a un proceso de limpieza y corrección con el objetivo de disminuir el riesgo a errores y fallos en su manipulación, así como también poder facilitar el acceso y el análisis de ellos."
      ]
    },
    {
      "cell_type": "markdown",
      "id": "3c7bf5c3-1350-4503-ad08-d232f4a17fcf",
      "metadata": {
        "id": "3c7bf5c3-1350-4503-ad08-d232f4a17fcf"
      },
      "source": [
        "### Manejo de datos faltantes <a class=\"anchor\" id=\"DatosFaltantes\"></a>\n",
        "\n",
        "En primera instancia debemos verificar la cantidad de valores nulos que tenemos en cada una de las columnas del dataset."
      ]
    },
    {
      "cell_type": "code",
      "execution_count": 81,
      "id": "7d8174d8-ce29-425e-86fc-2f5ba050fba9",
      "metadata": {
        "colab": {
          "base_uri": "https://localhost:8080/"
        },
        "id": "7d8174d8-ce29-425e-86fc-2f5ba050fba9",
        "outputId": "a90a5656-3598-4cda-a37f-b3910edb13a4"
      },
      "outputs": [
        {
          "output_type": "execute_result",
          "data": {
            "text/plain": [
              "Area Code          0\n",
              "Area               0\n",
              "Months Code        0\n",
              "Months             0\n",
              "Element Code       0\n",
              "                ... \n",
              "Y2015           1295\n",
              "Y2016           1308\n",
              "Y2017           1290\n",
              "Y2018           1307\n",
              "Y2019           1291\n",
              "Length: 66, dtype: int64"
            ]
          },
          "metadata": {},
          "execution_count": 81
        }
      ],
      "source": [
        "df.isnull().sum()"
      ]
    },
    {
      "cell_type": "markdown",
      "id": "5b7fd360-9eeb-48df-a285-40b916c5fc63",
      "metadata": {
        "id": "5b7fd360-9eeb-48df-a285-40b916c5fc63"
      },
      "source": [
        "* Como se puede observar, las columnas que contienen valores nulos son las que representan los años."
      ]
    },
    {
      "cell_type": "code",
      "execution_count": 82,
      "id": "28003692-6ccc-4383-a53a-562e80b4db44",
      "metadata": {
        "id": "28003692-6ccc-4383-a53a-562e80b4db44",
        "outputId": "828e5d21-7f33-4ba9-b9d7-d8f927ed6a48",
        "colab": {
          "base_uri": "https://localhost:8080/",
          "height": 0
        }
      },
      "outputs": [
        {
          "output_type": "execute_result",
          "data": {
            "text/plain": [
              "<matplotlib.axes._subplots.AxesSubplot at 0x7f334390ef10>"
            ]
          },
          "metadata": {},
          "execution_count": 82
        },
        {
          "output_type": "display_data",
          "data": {
            "text/plain": [
              "<Figure size 1800x720 with 2 Axes>"
            ],
            "image/png": "[encoded data removed]"
          },
          "metadata": {
            "needs_background": "light"
          }
        }
      ],
      "source": [
        "soloYears = df.iloc[:, 7:]\n",
        "msno.matrix(soloYears, labels=True)"
      ]
    },
    {
      "cell_type": "markdown",
      "id": "d9527c4f-cee4-452e-b095-c3b754e86c81",
      "metadata": {
        "id": "d9527c4f-cee4-452e-b095-c3b754e86c81"
      },
      "source": [
        "* Usamos la libreria Missigno para explorar y entender de qué forma están compuestos los nulos. Como las columnas son los cambios de temperatura a través de los años, se pasaran a rellenar estos vacios con 0 (antes que null es preferible tener como que no hubo cambios de temperatura ese año)"
      ]
    },
    {
      "cell_type": "code",
      "execution_count": 83,
      "id": "7b2806e0-ae1d-4be1-b7f4-b8e57351f3cb",
      "metadata": {
        "id": "7b2806e0-ae1d-4be1-b7f4-b8e57351f3cb",
        "outputId": "986d1bb6-f20d-4039-867e-62507e364078",
        "colab": {
          "base_uri": "https://localhost:8080/",
          "height": 0
        }
      },
      "outputs": [
        {
          "output_type": "execute_result",
          "data": {
            "text/plain": [
              "<matplotlib.axes._subplots.AxesSubplot at 0x7f333cbf6c10>"
            ]
          },
          "metadata": {},
          "execution_count": 83
        },
        {
          "output_type": "display_data",
          "data": {
            "text/plain": [
              "<Figure size 1800x720 with 2 Axes>"
            ],
            "image/png": "[encoded data removed]"
          },
          "metadata": {
            "needs_background": "light"
          }
        }
      ],
      "source": [
        "df.replace(np.nan, 0, inplace = True)\n",
        "soloYears = df.iloc[:, 7:]\n",
        "msno.matrix(soloYears, labels=True)"
      ]
    },
    {
      "cell_type": "markdown",
      "id": "64dc3f1e-c4ad-4ff7-a84e-2e3525331695",
      "metadata": {
        "id": "64dc3f1e-c4ad-4ff7-a84e-2e3525331695"
      },
      "source": [
        "### Corrección del formato de los datos <a class=\"anchor\" id=\"CorreccionFormatoDatos\"></a>\n",
        "\n",
        "En esta sección buscamos verificar y realizar correcciones en los formatos de las columnas del dataset. Ésto es básicamente para intentar prevenir cualquier error de tipo de datos que podamos tener a futuro.\n",
        "\n",
        "Verificamos primero las columnas de las lecturas por año:"
      ]
    },
    {
      "cell_type": "code",
      "execution_count": 84,
      "id": "f8400c26-2757-44ae-8fbe-50fdb58f861a",
      "metadata": {
        "id": "f8400c26-2757-44ae-8fbe-50fdb58f861a",
        "outputId": "8bf67972-8029-4479-8d06-a7b5d0ecc2f7",
        "colab": {
          "base_uri": "https://localhost:8080/"
        }
      },
      "outputs": [
        {
          "output_type": "execute_result",
          "data": {
            "text/plain": [
              "Y1961    float64\n",
              "Y1962    float64\n",
              "Y1963    float64\n",
              "Y1964    float64\n",
              "Y1965    float64\n",
              "Y1966    float64\n",
              "Y1967    float64\n",
              "Y1968    float64\n",
              "Y1969    float64\n",
              "Y1970    float64\n",
              "Y1971    float64\n",
              "Y1972    float64\n",
              "Y1973    float64\n",
              "Y1974    float64\n",
              "Y1975    float64\n",
              "Y1976    float64\n",
              "Y1977    float64\n",
              "Y1978    float64\n",
              "Y1979    float64\n",
              "Y1980    float64\n",
              "Y1981    float64\n",
              "Y1982    float64\n",
              "Y1983    float64\n",
              "Y1984    float64\n",
              "Y1985    float64\n",
              "Y1986    float64\n",
              "Y1987    float64\n",
              "Y1988    float64\n",
              "Y1989    float64\n",
              "Y1990    float64\n",
              "Y1991    float64\n",
              "Y1992    float64\n",
              "Y1993    float64\n",
              "Y1994    float64\n",
              "Y1995    float64\n",
              "Y1996    float64\n",
              "Y1997    float64\n",
              "Y1998    float64\n",
              "Y1999    float64\n",
              "Y2000    float64\n",
              "Y2001    float64\n",
              "Y2002    float64\n",
              "Y2003    float64\n",
              "Y2004    float64\n",
              "Y2005    float64\n",
              "Y2006    float64\n",
              "Y2007    float64\n",
              "Y2008    float64\n",
              "Y2009    float64\n",
              "Y2010    float64\n",
              "Y2011    float64\n",
              "Y2012    float64\n",
              "Y2013    float64\n",
              "Y2014    float64\n",
              "Y2015    float64\n",
              "Y2016    float64\n",
              "Y2017    float64\n",
              "Y2018    float64\n",
              "Y2019    float64\n",
              "dtype: object"
            ]
          },
          "metadata": {},
          "execution_count": 84
        }
      ],
      "source": [
        "soloYears.dtypes"
      ]
    },
    {
      "cell_type": "markdown",
      "id": "964dda56-02f9-4ce9-96c6-38e35395495e",
      "metadata": {
        "id": "964dda56-02f9-4ce9-96c6-38e35395495e"
      },
      "source": [
        "* Se puede observar que todas las columnas de años se encuentran con el formato correcto.\n",
        "\n",
        "Luego el resto de las columnas:"
      ]
    },
    {
      "cell_type": "code",
      "execution_count": 85,
      "id": "d3f69920-c4c9-454e-8c80-1efa985f5ae2",
      "metadata": {
        "id": "d3f69920-c4c9-454e-8c80-1efa985f5ae2",
        "outputId": "9e241c08-688c-41dd-eb7d-951accf764e3",
        "colab": {
          "base_uri": "https://localhost:8080/"
        }
      },
      "outputs": [
        {
          "output_type": "execute_result",
          "data": {
            "text/plain": [
              "Area Code        int64\n",
              "Area            object\n",
              "Months Code      int64\n",
              "Months          object\n",
              "Element Code     int64\n",
              "Element         object\n",
              "Unit            object\n",
              "dtype: object"
            ]
          },
          "metadata": {},
          "execution_count": 85
        }
      ],
      "source": [
        "sinYears = df.iloc[:, 0:7]\n",
        "sinYears.dtypes"
      ]
    },
    {
      "cell_type": "markdown",
      "id": "3bc0151a-7dc4-4363-81fe-e3513ff3eee4",
      "metadata": {
        "id": "3bc0151a-7dc4-4363-81fe-e3513ff3eee4"
      },
      "source": [
        "Para las columnas cuyo tipo es object, las cambiamos a tipo string (conjunto de caracteres)"
      ]
    },
    {
      "cell_type": "code",
      "execution_count": 86,
      "id": "e7abc90f-8970-4ffb-83f4-926eac693999",
      "metadata": {
        "id": "e7abc90f-8970-4ffb-83f4-926eac693999",
        "outputId": "372dc4b2-debc-4757-cb58-150adf28d578",
        "colab": {
          "base_uri": "https://localhost:8080/"
        }
      },
      "outputs": [
        {
          "output_type": "execute_result",
          "data": {
            "text/plain": [
              "Area Code         int64\n",
              "Area             object\n",
              "Months Code       int64\n",
              "Months           object\n",
              "Element Code      int64\n",
              "                 ...   \n",
              "Y2015           float64\n",
              "Y2016           float64\n",
              "Y2017           float64\n",
              "Y2018           float64\n",
              "Y2019           float64\n",
              "Length: 66, dtype: object"
            ]
          },
          "metadata": {},
          "execution_count": 86
        }
      ],
      "source": [
        "df[['Area']] = df[['Area']].astype('str')\n",
        "df[['Months']] = df[['Months']].astype('str')\n",
        "df[['Element']] = df[['Element']].astype('str')\n",
        "df[['Unit']] = df[['Unit']].astype('str')\n",
        "df.dtypes"
      ]
    },
    {
      "cell_type": "markdown",
      "id": "dd46e74b-167d-4deb-ac06-aa3d858af7c4",
      "metadata": {
        "id": "dd46e74b-167d-4deb-ac06-aa3d858af7c4"
      },
      "source": [
        "* Aparentemente no es necesario/no lo hace convertir de tipo object a string. El resto de las columnas tiene bien el tipo"
      ]
    },
    {
      "cell_type": "markdown",
      "id": "2c029322-fdce-42d0-8f2c-dd03571ed835",
      "metadata": {
        "id": "2c029322-fdce-42d0-8f2c-dd03571ed835"
      },
      "source": [
        "### Normalizacion de datos <a class=\"anchor\" id=\"NormalizacionDatos\"></a>\n",
        "\n",
        "* Los datos ya se encuentran nornalizados."
      ]
    },
    {
      "cell_type": "markdown",
      "id": "798f93d2-5f81-4688-9801-42e5f2251dae",
      "metadata": {
        "id": "798f93d2-5f81-4688-9801-42e5f2251dae"
      },
      "source": [
        "### Bins - contenedores <a class=\"anchor\" id=\"Bins\"></a>\n",
        "\n",
        "* No fue posible de aplicar, la varianza de los datos ya es pequeña."
      ]
    },
    {
      "cell_type": "markdown",
      "id": "44595f9c-74df-4266-8f80-3a0033210e50",
      "metadata": {
        "id": "44595f9c-74df-4266-8f80-3a0033210e50"
      },
      "source": [
        "### Variables Dummy <a class=\"anchor\" id=\"Dummy\"></a>\n",
        "\n",
        "* Los datos solo indican cambios de temperatura, no existen otras categorias para reemplazar."
      ]
    },
    {
      "cell_type": "markdown",
      "id": "44d16885-a65c-440f-9663-a2c9984ffd2e",
      "metadata": {
        "id": "44d16885-a65c-440f-9663-a2c9984ffd2e"
      },
      "source": [
        "## Visualizaciones de los datos <a class=\"anchor\" id=\"graficos\"></a>\n",
        "\n",
        "### Cambio de temperatura global por decada <a class=\"anchor\" id=\"grafico_1\"></a>\n",
        "En este primer grafico analizamos las lecturas de los cambios de temperatura por decada, a través de los meses."
      ]
    },
    {
      "cell_type": "code",
      "execution_count": 87,
      "id": "0b3b683f-47ed-46a1-a906-7ba1420e5d2c",
      "metadata": {
        "id": "0b3b683f-47ed-46a1-a906-7ba1420e5d2c",
        "outputId": "0fb873ce-a602-4db7-cb44-acafc910e09b",
        "colab": {
          "base_uri": "https://localhost:8080/",
          "height": 0
        }
      },
      "outputs": [
        {
          "output_type": "display_data",
          "data": {
            "text/plain": [
              "<Figure size 1440x720 with 1 Axes>"
            ],
            "image/png": "[encoded data removed]"
          },
          "metadata": {
            "needs_background": "light"
          }
        }
      ],
      "source": [
        "plt.figure(figsize=(20,10))\n",
        "sns.lineplot(x=temp_months.months.loc[temp_months.element=='Temperature change'],y=temp_months.Y1961.loc[temp_months.element=='Temperature change'], label='Y1961')\n",
        "sns.lineplot(x=temp_months.months.loc[temp_months.element=='Temperature change'],y=temp_months.Y1971.loc[temp_months.element=='Temperature change'], label='Y1971')\n",
        "sns.lineplot(x=temp_months.months.loc[temp_months.element=='Temperature change'],y=temp_months.Y1981.loc[temp_months.element=='Temperature change'], label='Y1981')\n",
        "sns.lineplot(x=temp_months.months.loc[temp_months.element=='Temperature change'],y=temp_months.Y1991.loc[temp_months.element=='Temperature change'], label='Y1991')\n",
        "sns.lineplot(x=temp_months.months.loc[temp_months.element=='Temperature change'],y=temp_months.Y2001.loc[temp_months.element=='Temperature change'], label='Y2001')\n",
        "sns.lineplot(x=temp_months.months.loc[temp_months.element=='Temperature change'],y=temp_months.Y2010.loc[temp_months.element=='Temperature change'], label='Y2010')\n",
        "sns.lineplot(x=temp_months.months.loc[temp_months.element=='Temperature change'],y=temp_months.Y2019.loc[temp_months.element=='Temperature change'], label='Y2019')\n",
        "plt.xlabel('Month')\n",
        "plt.ylabel('Temperature change')\n",
        "plt.title('Temperature Change in Worldwide last few decades')\n",
        "plt.show()"
      ]
    },
    {
      "cell_type": "markdown",
      "id": "3b539b93-d5d9-405e-b2d7-5338c2fcc3be",
      "metadata": {
        "id": "3b539b93-d5d9-405e-b2d7-5338c2fcc3be"
      },
      "source": [
        "Se observa que el cambio de temperaturas fue en aumento en las últimas 4 décadas.\n",
        "\n",
        "Además, durante el mes de diciembre en las últimas dos décadas, se observa la mayor diferencia de lecturas en un mismo periodo."
      ]
    },
    {
      "cell_type": "markdown",
      "id": "21fa46f9-9c81-4241-ab6a-391de99b3695",
      "metadata": {
        "id": "21fa46f9-9c81-4241-ab6a-391de99b3695"
      },
      "source": [
        "### Cambio de temperatura global por continente <a class=\"anchor\" id=\"grafico_2\"></a>\n",
        "\n",
        "En este segundo gráfico analizamos las lecturas de los cambios de temperatura por continente, a través de los años."
      ]
    },
    {
      "cell_type": "code",
      "execution_count": 88,
      "id": "742d53e0-2eb2-4b99-aeb6-b51a59e992e9",
      "metadata": {
        "id": "742d53e0-2eb2-4b99-aeb6-b51a59e992e9",
        "outputId": "fcde28e4-d3de-42c9-de00-66bc91077a22",
        "colab": {
          "base_uri": "https://localhost:8080/",
          "height": 0
        }
      },
      "outputs": [
        {
          "output_type": "display_data",
          "data": {
            "text/html": [
              "<html>\n",
              "<head><meta charset=\"utf-8\" /></head>\n",
              "<body>\n",
              "    <div>            <script src=\"https://cdnjs.cloudflare.com/ajax/libs/mathjax/2.7.5/MathJax.js?config=TeX-AMS-MML_SVG\"></script><script type=\"text/javascript\">if (window.MathJax) {MathJax.Hub.Config({SVG: {font: \"STIX-Web\"}});}</script>                <script type=\"text/javascript\">window.PlotlyConfig = {MathJaxConfig: 'local'};</script>\n",
              "        <script src=\"https://cdn.plot.ly/plotly-2.8.3.min.js\"></script>                <div id=\"7e2ed3fd-aa38-4d3e-a255-9b37700d688e\" class=\"plotly-graph-div\" style=\"height:525px; width:1500px;\"></div>            <script type=\"text/javascript\">                                    window.PLOTLYENV=window.PLOTLYENV || {};                                    if (document.getElementById(\"7e2ed3fd-aa38-4d3e-a255-9b37700d688e\")) {                    Plotly.newPlot(                        \"7e2ed3fd-aa38-4d3e-a255-9b37700d688e\",                        [{\"hovertemplate\":\"variable=Africa<br>Year=%{x}<br>value=%{y}<extra></extra>\",\"legendgroup\":\"Africa\",\"line\":{\"color\":\"#636efa\",\"dash\":\"solid\"},\"marker\":{\"symbol\":\"circle\"},\"mode\":\"lines\",\"name\":\"Africa\",\"orientation\":\"v\",\"showlegend\":true,\"x\":[\"Y1961\",\"Y1962\",\"Y1963\",\"Y1964\",\"Y1965\",\"Y1966\",\"Y1967\",\"Y1968\",\"Y1969\",\"Y1970\",\"Y1971\",\"Y1972\",\"Y1973\",\"Y1974\",\"Y1975\",\"Y1976\",\"Y1977\",\"Y1978\",\"Y1979\",\"Y1980\",\"Y1981\",\"Y1982\",\"Y1983\",\"Y1984\",\"Y1985\",\"Y1986\",\"Y1987\",\"Y1988\",\"Y1989\",\"Y1990\",\"Y1991\",\"Y1992\",\"Y1993\",\"Y1994\",\"Y1995\",\"Y1996\",\"Y1997\",\"Y1998\",\"Y1999\",\"Y2000\",\"Y2001\",\"Y2002\",\"Y2003\",\"Y2004\",\"Y2005\",\"Y2006\",\"Y2007\",\"Y2008\",\"Y2009\",\"Y2010\",\"Y2011\",\"Y2012\",\"Y2013\",\"Y2014\",\"Y2015\",\"Y2016\",\"Y2017\",\"Y2018\",\"Y2019\"],\"xaxis\":\"x\",\"y\":[-0.017,-0.04,0.064,-0.153,-0.197,0.138,-0.209,-0.218,0.354,0.221,-0.208,-0.002,0.377,-0.237,-0.23,-0.26,0.232,0.077,0.444,0.366,0.104,0.217,0.408,0.333,0.301,0.283,0.671,0.608,-0.019,0.574,0.386,0.112,0.407,0.418,0.58,0.551,0.588,0.961,0.666,0.496,0.677,0.894,0.999,0.825,1.1,0.94,0.818,0.754,1.011,1.541,0.949,0.781,1.014,1.036,1.208,1.442,1.224,1.222,1.415],\"yaxis\":\"y\",\"type\":\"scatter\"},{\"hovertemplate\":\"variable=Asia<br>Year=%{x}<br>value=%{y}<extra></extra>\",\"legendgroup\":\"Asia\",\"line\":{\"color\":\"#EF553B\",\"dash\":\"solid\"},\"marker\":{\"symbol\":\"circle\"},\"mode\":\"lines\",\"name\":\"Asia\",\"orientation\":\"v\",\"showlegend\":true,\"x\":[\"Y1961\",\"Y1962\",\"Y1963\",\"Y1964\",\"Y1965\",\"Y1966\",\"Y1967\",\"Y1968\",\"Y1969\",\"Y1970\",\"Y1971\",\"Y1972\",\"Y1973\",\"Y1974\",\"Y1975\",\"Y1976\",\"Y1977\",\"Y1978\",\"Y1979\",\"Y1980\",\"Y1981\",\"Y1982\",\"Y1983\",\"Y1984\",\"Y1985\",\"Y1986\",\"Y1987\",\"Y1988\",\"Y1989\",\"Y1990\",\"Y1991\",\"Y1992\",\"Y1993\",\"Y1994\",\"Y1995\",\"Y1996\",\"Y1997\",\"Y1998\",\"Y1999\",\"Y2000\",\"Y2001\",\"Y2002\",\"Y2003\",\"Y2004\",\"Y2005\",\"Y2006\",\"Y2007\",\"Y2008\",\"Y2009\",\"Y2010\",\"Y2011\",\"Y2012\",\"Y2013\",\"Y2014\",\"Y2015\",\"Y2016\",\"Y2017\",\"Y2018\",\"Y2019\"],\"xaxis\":\"x\",\"y\":[0.049,-0.008,0.266,-0.166,-0.033,0.326,-0.308,-0.337,-0.017,0.073,-0.122,-0.164,0.251,-0.132,0.018,-0.328,0.101,0.162,0.448,0.28,0.207,0.109,-0.013,-0.118,0.016,0.056,0.406,0.423,0.259,0.527,0.39,-0.059,0.073,0.522,0.616,0.173,0.614,1.047,1.091,0.68,1.019,1.16,0.644,1.088,0.862,1.101,1.182,0.873,1.075,1.251,0.701,0.693,1.054,0.909,1.284,1.457,1.464,1.343,1.369],\"yaxis\":\"y\",\"type\":\"scatter\"},{\"hovertemplate\":\"variable=Europe<br>Year=%{x}<br>value=%{y}<extra></extra>\",\"legendgroup\":\"Europe\",\"line\":{\"color\":\"#00cc96\",\"dash\":\"solid\"},\"marker\":{\"symbol\":\"circle\"},\"mode\":\"lines\",\"name\":\"Europe\",\"orientation\":\"v\",\"showlegend\":true,\"x\":[\"Y1961\",\"Y1962\",\"Y1963\",\"Y1964\",\"Y1965\",\"Y1966\",\"Y1967\",\"Y1968\",\"Y1969\",\"Y1970\",\"Y1971\",\"Y1972\",\"Y1973\",\"Y1974\",\"Y1975\",\"Y1976\",\"Y1977\",\"Y1978\",\"Y1979\",\"Y1980\",\"Y1981\",\"Y1982\",\"Y1983\",\"Y1984\",\"Y1985\",\"Y1986\",\"Y1987\",\"Y1988\",\"Y1989\",\"Y1990\",\"Y1991\",\"Y1992\",\"Y1993\",\"Y1994\",\"Y1995\",\"Y1996\",\"Y1997\",\"Y1998\",\"Y1999\",\"Y2000\",\"Y2001\",\"Y2002\",\"Y2003\",\"Y2004\",\"Y2005\",\"Y2006\",\"Y2007\",\"Y2008\",\"Y2009\",\"Y2010\",\"Y2011\",\"Y2012\",\"Y2013\",\"Y2014\",\"Y2015\",\"Y2016\",\"Y2017\",\"Y2018\",\"Y2019\"],\"xaxis\":\"x\",\"y\":[0.874,0.3,0.103,-0.523,-0.43,0.724,0.174,0.048,-1.01,0.189,0.264,-0.148,0.173,0.02,0.838,-0.559,0.189,-0.166,0.138,-0.068,0.662,0.111,0.934,0.271,-0.605,0.259,-0.562,0.494,1.035,1.257,0.597,0.472,0.75,0.698,1.83,0.57,1.096,0.187,0.588,1.342,0.953,1.505,0.972,1.282,1.537,0.678,2.31,2.024,1.239,0.817,1.548,1.789,1.118,1.807,2.106,2.286,1.959,2.009,2.116],\"yaxis\":\"y\",\"type\":\"scatter\"},{\"hovertemplate\":\"variable=N_America<br>Year=%{x}<br>value=%{y}<extra></extra>\",\"legendgroup\":\"N_America\",\"line\":{\"color\":\"#ab63fa\",\"dash\":\"solid\"},\"marker\":{\"symbol\":\"circle\"},\"mode\":\"lines\",\"name\":\"N_America\",\"orientation\":\"v\",\"showlegend\":true,\"x\":[\"Y1961\",\"Y1962\",\"Y1963\",\"Y1964\",\"Y1965\",\"Y1966\",\"Y1967\",\"Y1968\",\"Y1969\",\"Y1970\",\"Y1971\",\"Y1972\",\"Y1973\",\"Y1974\",\"Y1975\",\"Y1976\",\"Y1977\",\"Y1978\",\"Y1979\",\"Y1980\",\"Y1981\",\"Y1982\",\"Y1983\",\"Y1984\",\"Y1985\",\"Y1986\",\"Y1987\",\"Y1988\",\"Y1989\",\"Y1990\",\"Y1991\",\"Y1992\",\"Y1993\",\"Y1994\",\"Y1995\",\"Y1996\",\"Y1997\",\"Y1998\",\"Y1999\",\"Y2000\",\"Y2001\",\"Y2002\",\"Y2003\",\"Y2004\",\"Y2005\",\"Y2006\",\"Y2007\",\"Y2008\",\"Y2009\",\"Y2010\",\"Y2011\",\"Y2012\",\"Y2013\",\"Y2014\",\"Y2015\",\"Y2016\",\"Y2017\",\"Y2018\",\"Y2019\"],\"xaxis\":\"x\",\"y\":[0.017,-0.058,0.372,-0.285,-0.594,-0.185,-0.195,0.196,-0.138,0.194,-0.227,-1.028,0.128,-0.376,-0.093,-0.021,0.746,-0.29,-0.243,0.675,1.193,-0.508,0.471,0.038,-0.144,0.302,1.11,0.839,0.147,0.363,0.419,0.226,0.154,0.451,0.766,-0.055,0.403,1.864,1.219,1.141,1.102,0.757,1.147,0.696,1.235,1.692,1.237,0.537,0.473,1.826,1.002,1.786,0.902,0.389,1.33,2.273,1.426,0.873,1.179],\"yaxis\":\"y\",\"type\":\"scatter\"},{\"hovertemplate\":\"variable=S_America<br>Year=%{x}<br>value=%{y}<extra></extra>\",\"legendgroup\":\"S_America\",\"line\":{\"color\":\"#FFA15A\",\"dash\":\"solid\"},\"marker\":{\"symbol\":\"circle\"},\"mode\":\"lines\",\"name\":\"S_America\",\"orientation\":\"v\",\"showlegend\":true,\"x\":[\"Y1961\",\"Y1962\",\"Y1963\",\"Y1964\",\"Y1965\",\"Y1966\",\"Y1967\",\"Y1968\",\"Y1969\",\"Y1970\",\"Y1971\",\"Y1972\",\"Y1973\",\"Y1974\",\"Y1975\",\"Y1976\",\"Y1977\",\"Y1978\",\"Y1979\",\"Y1980\",\"Y1981\",\"Y1982\",\"Y1983\",\"Y1984\",\"Y1985\",\"Y1986\",\"Y1987\",\"Y1988\",\"Y1989\",\"Y1990\",\"Y1991\",\"Y1992\",\"Y1993\",\"Y1994\",\"Y1995\",\"Y1996\",\"Y1997\",\"Y1998\",\"Y1999\",\"Y2000\",\"Y2001\",\"Y2002\",\"Y2003\",\"Y2004\",\"Y2005\",\"Y2006\",\"Y2007\",\"Y2008\",\"Y2009\",\"Y2010\",\"Y2011\",\"Y2012\",\"Y2013\",\"Y2014\",\"Y2015\",\"Y2016\",\"Y2017\",\"Y2018\",\"Y2019\"],\"xaxis\":\"x\",\"y\":[0.116,-0.139,0.139,-0.217,-0.015,0.007,-0.001,-0.147,0.374,0.184,-0.277,0.085,0.251,-0.209,-0.149,-0.217,0.285,0.148,0.125,0.335,0.228,0.289,0.476,0.144,0.14,0.296,0.649,0.3,0.203,0.389,0.408,0.299,0.396,0.536,0.642,0.418,0.744,1.017,0.387,0.312,0.623,0.837,0.856,0.738,0.883,0.786,0.666,0.666,0.933,0.906,0.721,0.943,0.834,1.105,1.435,1.242,1.232,1.034,1.31],\"yaxis\":\"y\",\"type\":\"scatter\"},{\"hovertemplate\":\"variable=Oceania<br>Year=%{x}<br>value=%{y}<extra></extra>\",\"legendgroup\":\"Oceania\",\"line\":{\"color\":\"#19d3f3\",\"dash\":\"solid\"},\"marker\":{\"symbol\":\"circle\"},\"mode\":\"lines\",\"name\":\"Oceania\",\"orientation\":\"v\",\"showlegend\":true,\"x\":[\"Y1961\",\"Y1962\",\"Y1963\",\"Y1964\",\"Y1965\",\"Y1966\",\"Y1967\",\"Y1968\",\"Y1969\",\"Y1970\",\"Y1971\",\"Y1972\",\"Y1973\",\"Y1974\",\"Y1975\",\"Y1976\",\"Y1977\",\"Y1978\",\"Y1979\",\"Y1980\",\"Y1981\",\"Y1982\",\"Y1983\",\"Y1984\",\"Y1985\",\"Y1986\",\"Y1987\",\"Y1988\",\"Y1989\",\"Y1990\",\"Y1991\",\"Y1992\",\"Y1993\",\"Y1994\",\"Y1995\",\"Y1996\",\"Y1997\",\"Y1998\",\"Y1999\",\"Y2000\",\"Y2001\",\"Y2002\",\"Y2003\",\"Y2004\",\"Y2005\",\"Y2006\",\"Y2007\",\"Y2008\",\"Y2009\",\"Y2010\",\"Y2011\",\"Y2012\",\"Y2013\",\"Y2014\",\"Y2015\",\"Y2016\",\"Y2017\",\"Y2018\",\"Y2019\"],\"xaxis\":\"x\",\"y\":[0.116,0.14,-0.118,-0.03,0.067,-0.231,-0.104,-0.195,0.096,0.032,-0.016,0.072,0.795,-0.297,0.077,-0.484,0.156,0.095,0.351,0.792,0.444,0.135,0.559,-0.151,0.292,0.327,0.306,0.875,0.143,0.488,0.716,0.202,0.378,0.163,0.367,0.518,0.289,1.038,0.547,0.143,0.342,0.703,0.771,0.632,1.091,0.614,0.824,0.543,0.9,0.666,0.212,0.276,1.396,1.083,0.997,1.163,1.11,1.096,1.37],\"yaxis\":\"y\",\"type\":\"scatter\"},{\"hovertemplate\":\"variable=Antarctica<br>Year=%{x}<br>value=%{y}<extra></extra>\",\"legendgroup\":\"Antarctica\",\"line\":{\"color\":\"#FF6692\",\"dash\":\"solid\"},\"marker\":{\"symbol\":\"circle\"},\"mode\":\"lines\",\"name\":\"Antarctica\",\"orientation\":\"v\",\"showlegend\":true,\"x\":[\"Y1961\",\"Y1962\",\"Y1963\",\"Y1964\",\"Y1965\",\"Y1966\",\"Y1967\",\"Y1968\",\"Y1969\",\"Y1970\",\"Y1971\",\"Y1972\",\"Y1973\",\"Y1974\",\"Y1975\",\"Y1976\",\"Y1977\",\"Y1978\",\"Y1979\",\"Y1980\",\"Y1981\",\"Y1982\",\"Y1983\",\"Y1984\",\"Y1985\",\"Y1986\",\"Y1987\",\"Y1988\",\"Y1989\",\"Y1990\",\"Y1991\",\"Y1992\",\"Y1993\",\"Y1994\",\"Y1995\",\"Y1996\",\"Y1997\",\"Y1998\",\"Y1999\",\"Y2000\",\"Y2001\",\"Y2002\",\"Y2003\",\"Y2004\",\"Y2005\",\"Y2006\",\"Y2007\",\"Y2008\",\"Y2009\",\"Y2010\",\"Y2011\",\"Y2012\",\"Y2013\",\"Y2014\",\"Y2015\",\"Y2016\",\"Y2017\",\"Y2018\",\"Y2019\"],\"xaxis\":\"x\",\"y\":[0.28,-0.227,0.135,-0.366,-0.099,-0.24,0.133,-0.088,-0.256,-0.133,0.28,0.621,0.011,0.169,0.177,-0.634,0.25,-0.118,-0.234,0.565,0.706,-0.031,-0.693,0.132,0.18,-0.269,-0.698,0.956,-0.436,0.289,0.678,0.334,-0.734,-0.234,-0.285,0.778,-0.556,-0.484,-0.594,-0.778,-0.062,1.259,-0.474,0.129,0.875,-0.081,0.68,0.605,1.314,0.813,0.725,-0.216,1.738,0.546,-0.095,0.217,0.764,1.454,0.615],\"yaxis\":\"y\",\"type\":\"scatter\"}],                        {\"template\":{\"data\":{\"bar\":[{\"error_x\":{\"color\":\"#2a3f5f\"},\"error_y\":{\"color\":\"#2a3f5f\"},\"marker\":{\"line\":{\"color\":\"#E5ECF6\",\"width\":0.5},\"pattern\":{\"fillmode\":\"overlay\",\"size\":10,\"solidity\":0.2}},\"type\":\"bar\"}],\"barpolar\":[{\"marker\":{\"line\":{\"color\":\"#E5ECF6\",\"width\":0.5},\"pattern\":{\"fillmode\":\"overlay\",\"size\":10,\"solidity\":0.2}},\"type\":\"barpolar\"}],\"carpet\":[{\"aaxis\":{\"endlinecolor\":\"#2a3f5f\",\"gridcolor\":\"white\",\"linecolor\":\"white\",\"minorgridcolor\":\"white\",\"startlinecolor\":\"#2a3f5f\"},\"baxis\":{\"endlinecolor\":\"#2a3f5f\",\"gridcolor\":\"white\",\"linecolor\":\"white\",\"minorgridcolor\":\"white\",\"startlinecolor\":\"#2a3f5f\"},\"type\":\"carpet\"}],\"choropleth\":[{\"colorbar\":{\"outlinewidth\":0,\"ticks\":\"\"},\"type\":\"choropleth\"}],\"contour\":[{\"colorbar\":{\"outlinewidth\":0,\"ticks\":\"\"},\"colorscale\":[[0.0,\"#0d0887\"],[0.1111111111111111,\"#46039f\"],[0.2222222222222222,\"#7201a8\"],[0.3333333333333333,\"#9c179e\"],[0.4444444444444444,\"#bd3786\"],[0.5555555555555556,\"#d8576b\"],[0.6666666666666666,\"#ed7953\"],[0.7777777777777778,\"#fb9f3a\"],[0.8888888888888888,\"#fdca26\"],[1.0,\"#f0f921\"]],\"type\":\"contour\"}],\"contourcarpet\":[{\"colorbar\":{\"outlinewidth\":0,\"ticks\":\"\"},\"type\":\"contourcarpet\"}],\"heatmap\":[{\"colorbar\":{\"outlinewidth\":0,\"ticks\":\"\"},\"colorscale\":[[0.0,\"#0d0887\"],[0.1111111111111111,\"#46039f\"],[0.2222222222222222,\"#7201a8\"],[0.3333333333333333,\"#9c179e\"],[0.4444444444444444,\"#bd3786\"],[0.5555555555555556,\"#d8576b\"],[0.6666666666666666,\"#ed7953\"],[0.7777777777777778,\"#fb9f3a\"],[0.8888888888888888,\"#fdca26\"],[1.0,\"#f0f921\"]],\"type\":\"heatmap\"}],\"heatmapgl\":[{\"colorbar\":{\"outlinewidth\":0,\"ticks\":\"\"},\"colorscale\":[[0.0,\"#0d0887\"],[0.1111111111111111,\"#46039f\"],[0.2222222222222222,\"#7201a8\"],[0.3333333333333333,\"#9c179e\"],[0.4444444444444444,\"#bd3786\"],[0.5555555555555556,\"#d8576b\"],[0.6666666666666666,\"#ed7953\"],[0.7777777777777778,\"#fb9f3a\"],[0.8888888888888888,\"#fdca26\"],[1.0,\"#f0f921\"]],\"type\":\"heatmapgl\"}],\"histogram\":[{\"marker\":{\"pattern\":{\"fillmode\":\"overlay\",\"size\":10,\"solidity\":0.2}},\"type\":\"histogram\"}],\"histogram2d\":[{\"colorbar\":{\"outlinewidth\":0,\"ticks\":\"\"},\"colorscale\":[[0.0,\"#0d0887\"],[0.1111111111111111,\"#46039f\"],[0.2222222222222222,\"#7201a8\"],[0.3333333333333333,\"#9c179e\"],[0.4444444444444444,\"#bd3786\"],[0.5555555555555556,\"#d8576b\"],[0.6666666666666666,\"#ed7953\"],[0.7777777777777778,\"#fb9f3a\"],[0.8888888888888888,\"#fdca26\"],[1.0,\"#f0f921\"]],\"type\":\"histogram2d\"}],\"histogram2dcontour\":[{\"colorbar\":{\"outlinewidth\":0,\"ticks\":\"\"},\"colorscale\":[[0.0,\"#0d0887\"],[0.1111111111111111,\"#46039f\"],[0.2222222222222222,\"#7201a8\"],[0.3333333333333333,\"#9c179e\"],[0.4444444444444444,\"#bd3786\"],[0.5555555555555556,\"#d8576b\"],[0.6666666666666666,\"#ed7953\"],[0.7777777777777778,\"#fb9f3a\"],[0.8888888888888888,\"#fdca26\"],[1.0,\"#f0f921\"]],\"type\":\"histogram2dcontour\"}],\"mesh3d\":[{\"colorbar\":{\"outlinewidth\":0,\"ticks\":\"\"},\"type\":\"mesh3d\"}],\"parcoords\":[{\"line\":{\"colorbar\":{\"outlinewidth\":0,\"ticks\":\"\"}},\"type\":\"parcoords\"}],\"pie\":[{\"automargin\":true,\"type\":\"pie\"}],\"scatter\":[{\"marker\":{\"colorbar\":{\"outlinewidth\":0,\"ticks\":\"\"}},\"type\":\"scatter\"}],\"scatter3d\":[{\"line\":{\"colorbar\":{\"outlinewidth\":0,\"ticks\":\"\"}},\"marker\":{\"colorbar\":{\"outlinewidth\":0,\"ticks\":\"\"}},\"type\":\"scatter3d\"}],\"scattercarpet\":[{\"marker\":{\"colorbar\":{\"outlinewidth\":0,\"ticks\":\"\"}},\"type\":\"scattercarpet\"}],\"scattergeo\":[{\"marker\":{\"colorbar\":{\"outlinewidth\":0,\"ticks\":\"\"}},\"type\":\"scattergeo\"}],\"scattergl\":[{\"marker\":{\"colorbar\":{\"outlinewidth\":0,\"ticks\":\"\"}},\"type\":\"scattergl\"}],\"scattermapbox\":[{\"marker\":{\"colorbar\":{\"outlinewidth\":0,\"ticks\":\"\"}},\"type\":\"scattermapbox\"}],\"scatterpolar\":[{\"marker\":{\"colorbar\":{\"outlinewidth\":0,\"ticks\":\"\"}},\"type\":\"scatterpolar\"}],\"scatterpolargl\":[{\"marker\":{\"colorbar\":{\"outlinewidth\":0,\"ticks\":\"\"}},\"type\":\"scatterpolargl\"}],\"scatterternary\":[{\"marker\":{\"colorbar\":{\"outlinewidth\":0,\"ticks\":\"\"}},\"type\":\"scatterternary\"}],\"surface\":[{\"colorbar\":{\"outlinewidth\":0,\"ticks\":\"\"},\"colorscale\":[[0.0,\"#0d0887\"],[0.1111111111111111,\"#46039f\"],[0.2222222222222222,\"#7201a8\"],[0.3333333333333333,\"#9c179e\"],[0.4444444444444444,\"#bd3786\"],[0.5555555555555556,\"#d8576b\"],[0.6666666666666666,\"#ed7953\"],[0.7777777777777778,\"#fb9f3a\"],[0.8888888888888888,\"#fdca26\"],[1.0,\"#f0f921\"]],\"type\":\"surface\"}],\"table\":[{\"cells\":{\"fill\":{\"color\":\"#EBF0F8\"},\"line\":{\"color\":\"white\"}},\"header\":{\"fill\":{\"color\":\"#C8D4E3\"},\"line\":{\"color\":\"white\"}},\"type\":\"table\"}]},\"layout\":{\"annotationdefaults\":{\"arrowcolor\":\"#2a3f5f\",\"arrowhead\":0,\"arrowwidth\":1},\"autotypenumbers\":\"strict\",\"coloraxis\":{\"colorbar\":{\"outlinewidth\":0,\"ticks\":\"\"}},\"colorscale\":{\"diverging\":[[0,\"#8e0152\"],[0.1,\"#c51b7d\"],[0.2,\"#de77ae\"],[0.3,\"#f1b6da\"],[0.4,\"#fde0ef\"],[0.5,\"#f7f7f7\"],[0.6,\"#e6f5d0\"],[0.7,\"#b8e186\"],[0.8,\"#7fbc41\"],[0.9,\"#4d9221\"],[1,\"#276419\"]],\"sequential\":[[0.0,\"#0d0887\"],[0.1111111111111111,\"#46039f\"],[0.2222222222222222,\"#7201a8\"],[0.3333333333333333,\"#9c179e\"],[0.4444444444444444,\"#bd3786\"],[0.5555555555555556,\"#d8576b\"],[0.6666666666666666,\"#ed7953\"],[0.7777777777777778,\"#fb9f3a\"],[0.8888888888888888,\"#fdca26\"],[1.0,\"#f0f921\"]],\"sequentialminus\":[[0.0,\"#0d0887\"],[0.1111111111111111,\"#46039f\"],[0.2222222222222222,\"#7201a8\"],[0.3333333333333333,\"#9c179e\"],[0.4444444444444444,\"#bd3786\"],[0.5555555555555556,\"#d8576b\"],[0.6666666666666666,\"#ed7953\"],[0.7777777777777778,\"#fb9f3a\"],[0.8888888888888888,\"#fdca26\"],[1.0,\"#f0f921\"]]},\"colorway\":[\"#636efa\",\"#EF553B\",\"#00cc96\",\"#ab63fa\",\"#FFA15A\",\"#19d3f3\",\"#FF6692\",\"#B6E880\",\"#FF97FF\",\"#FECB52\"],\"font\":{\"color\":\"#2a3f5f\"},\"geo\":{\"bgcolor\":\"white\",\"lakecolor\":\"white\",\"landcolor\":\"#E5ECF6\",\"showlakes\":true,\"showland\":true,\"subunitcolor\":\"white\"},\"hoverlabel\":{\"align\":\"left\"},\"hovermode\":\"closest\",\"mapbox\":{\"style\":\"light\"},\"paper_bgcolor\":\"white\",\"plot_bgcolor\":\"#E5ECF6\",\"polar\":{\"angularaxis\":{\"gridcolor\":\"white\",\"linecolor\":\"white\",\"ticks\":\"\"},\"bgcolor\":\"#E5ECF6\",\"radialaxis\":{\"gridcolor\":\"white\",\"linecolor\":\"white\",\"ticks\":\"\"}},\"scene\":{\"xaxis\":{\"backgroundcolor\":\"#E5ECF6\",\"gridcolor\":\"white\",\"gridwidth\":2,\"linecolor\":\"white\",\"showbackground\":true,\"ticks\":\"\",\"zerolinecolor\":\"white\"},\"yaxis\":{\"backgroundcolor\":\"#E5ECF6\",\"gridcolor\":\"white\",\"gridwidth\":2,\"linecolor\":\"white\",\"showbackground\":true,\"ticks\":\"\",\"zerolinecolor\":\"white\"},\"zaxis\":{\"backgroundcolor\":\"#E5ECF6\",\"gridcolor\":\"white\",\"gridwidth\":2,\"linecolor\":\"white\",\"showbackground\":true,\"ticks\":\"\",\"zerolinecolor\":\"white\"}},\"shapedefaults\":{\"line\":{\"color\":\"#2a3f5f\"}},\"ternary\":{\"aaxis\":{\"gridcolor\":\"white\",\"linecolor\":\"white\",\"ticks\":\"\"},\"baxis\":{\"gridcolor\":\"white\",\"linecolor\":\"white\",\"ticks\":\"\"},\"bgcolor\":\"#E5ECF6\",\"caxis\":{\"gridcolor\":\"white\",\"linecolor\":\"white\",\"ticks\":\"\"}},\"title\":{\"x\":0.05},\"xaxis\":{\"automargin\":true,\"gridcolor\":\"white\",\"linecolor\":\"white\",\"ticks\":\"\",\"title\":{\"standoff\":15},\"zerolinecolor\":\"white\",\"zerolinewidth\":2},\"yaxis\":{\"automargin\":true,\"gridcolor\":\"white\",\"linecolor\":\"white\",\"ticks\":\"\",\"title\":{\"standoff\":15},\"zerolinecolor\":\"white\",\"zerolinewidth\":2}}},\"xaxis\":{\"anchor\":\"y\",\"domain\":[0.0,1.0],\"title\":{\"text\":\"Year\"}},\"yaxis\":{\"anchor\":\"x\",\"domain\":[0.0,1.0],\"title\":{\"text\":\"value\"}},\"legend\":{\"title\":{\"text\":\"variable\"},\"tracegroupgap\":0},\"title\":{\"text\":\"Temperature in \\u00b0C over countries\"},\"width\":1500,\"updatemenus\":[{\"active\":0,\"buttons\":[{\"args\":[{\"visible\":[true,true,true,true,true,true,true,true,true,true,true,true,true,true,true,true,true,true,true,true,true,true,true,true,true,true,true,true,true,true,true,true,true,true,true,true,true,true,true,true,true,true,true,true,true,true,true,true,true,true,true,true,true,true,true,true,true,true,true,true,true,true,true,true,true,true,true,true,true,true,true,true,true,true,true,true,true,true,true,true,true,true,true,true,true,true,true,true,true,true,true,true,true,true,true,true,true,true,true,true,true,true,true,true,true,true,true,true,true,true,true,true,true,true,true,true,true,true,true,true,true,true,true,true,true,true,true,true,true,true,true,true,true,true,true,true,true,true,true,true,true,true,true,true,true,true,true,true,true,true,true,true,true,true,true,true,true,true,true,true,true,true,true,true,true,true,true,true,true,true,true,true,true,true,true,true,true,true,true,true,true,true,true,true,true,true]},{\"title\":\"Temperature in \\u00b0C over continents\",\"annotations\":[]}],\"label\":\"None\",\"method\":\"update\"},{\"args\":[{\"visible\":[true,false,false,false,false,false,false,false,false,false,false,false,false,false,false,false,false,false,false,false,false,false,false,false,false,false,false,false,false,false,false,false,false,false,false,false,false,false,false,false,false,false,false,false,false,false,false,false,false,false,false,false,false,false,false,false,false,false,false,false,false,false,false,false,false,false,false,false,false,false,false,false,false,false,false,false,false,false,false,false,false,false,false,false,false,false,false,false,false,false,false,false,false,false,false,false,false,false,false,false,false,false,false,false,false,false,false,false,false,false,false,false,false,false,false,false,false,false,false,false,false,false,false,false,false,false,false,false,false,false,false,false,false,false,false,false,false,false,false,false,false,false,false,false,false,false,false,false,false,false,false,false,false,false,false,false,false,false,false,false,false,false,false,false,false,false,false,false,false,false,false,false,false,false,false,false,false,false,false,false,false,false,false,false,false,false]},{\"title\":\"Africa\",\"annotations\":[]}],\"label\":\"Africa\",\"method\":\"update\"},{\"args\":[{\"visible\":[false,true,false,false,false,false,false,false,false,false,false,false,false,false,false,false,false,false,false,false,false,false,false,false,false,false,false,false,false,false,false,false,false,false,false,false,false,false,false,false,false,false,false,false,false,false,false,false,false,false,false,false,false,false,false,false,false,false,false,false,false,false,false,false,false,false,false,false,false,false,false,false,false,false,false,false,false,false,false,false,false,false,false,false,false,false,false,false,false,false,false,false,false,false,false,false,false,false,false,false,false,false,false,false,false,false,false,false,false,false,false,false,false,false,false,false,false,false,false,false,false,false,false,false,false,false,false,false,false,false,false,false,false,false,false,false,false,false,false,false,false,false,false,false,false,false,false,false,false,false,false,false,false,false,false,false,false,false,false,false,false,false,false,false,false,false,false,false,false,false,false,false,false,false,false,false,false,false,false,false,false,false,false,false,false,false]},{\"title\":\"Asia\",\"annotations\":[]}],\"label\":\"Asia\",\"method\":\"update\"},{\"args\":[{\"visible\":[false,false,true,false,false,false,false,false,false,false,false,false,false,false,false,false,false,false,false,false,false,false,false,false,false,false,false,false,false,false,false,false,false,false,false,false,false,false,false,false,false,false,false,false,false,false,false,false,false,false,false,false,false,false,false,false,false,false,false,false,false,false,false,false,false,false,false,false,false,false,false,false,false,false,false,false,false,false,false,false,false,false,false,false,false,false,false,false,false,false,false,false,false,false,false,false,false,false,false,false,false,false,false,false,false,false,false,false,false,false,false,false,false,false,false,false,false,false,false,false,false,false,false,false,false,false,false,false,false,false,false,false,false,false,false,false,false,false,false,false,false,false,false,false,false,false,false,false,false,false,false,false,false,false,false,false,false,false,false,false,false,false,false,false,false,false,false,false,false,false,false,false,false,false,false,false,false,false,false,false,false,false,false,false,false,false]},{\"title\":\"Europe\",\"annotations\":[]}],\"label\":\"Europe\",\"method\":\"update\"},{\"args\":[{\"visible\":[false,false,false,true,false,false,false,false,false,false,false,false,false,false,false,false,false,false,false,false,false,false,false,false,false,false,false,false,false,false,false,false,false,false,false,false,false,false,false,false,false,false,false,false,false,false,false,false,false,false,false,false,false,false,false,false,false,false,false,false,false,false,false,false,false,false,false,false,false,false,false,false,false,false,false,false,false,false,false,false,false,false,false,false,false,false,false,false,false,false,false,false,false,false,false,false,false,false,false,false,false,false,false,false,false,false,false,false,false,false,false,false,false,false,false,false,false,false,false,false,false,false,false,false,false,false,false,false,false,false,false,false,false,false,false,false,false,false,false,false,false,false,false,false,false,false,false,false,false,false,false,false,false,false,false,false,false,false,false,false,false,false,false,false,false,false,false,false,false,false,false,false,false,false,false,false,false,false,false,false,false,false,false,false,false,false]},{\"title\":\"N_America\",\"annotations\":[]}],\"label\":\"N_America\",\"method\":\"update\"},{\"args\":[{\"visible\":[false,false,false,false,true,false,false,false,false,false,false,false,false,false,false,false,false,false,false,false,false,false,false,false,false,false,false,false,false,false,false,false,false,false,false,false,false,false,false,false,false,false,false,false,false,false,false,false,false,false,false,false,false,false,false,false,false,false,false,false,false,false,false,false,false,false,false,false,false,false,false,false,false,false,false,false,false,false,false,false,false,false,false,false,false,false,false,false,false,false,false,false,false,false,false,false,false,false,false,false,false,false,false,false,false,false,false,false,false,false,false,false,false,false,false,false,false,false,false,false,false,false,false,false,false,false,false,false,false,false,false,false,false,false,false,false,false,false,false,false,false,false,false,false,false,false,false,false,false,false,false,false,false,false,false,false,false,false,false,false,false,false,false,false,false,false,false,false,false,false,false,false,false,false,false,false,false,false,false,false,false,false,false,false,false,false]},{\"title\":\"S_America\",\"annotations\":[]}],\"label\":\"S_America\",\"method\":\"update\"},{\"args\":[{\"visible\":[false,false,false,false,false,true,false,false,false,false,false,false,false,false,false,false,false,false,false,false,false,false,false,false,false,false,false,false,false,false,false,false,false,false,false,false,false,false,false,false,false,false,false,false,false,false,false,false,false,false,false,false,false,false,false,false,false,false,false,false,false,false,false,false,false,false,false,false,false,false,false,false,false,false,false,false,false,false,false,false,false,false,false,false,false,false,false,false,false,false,false,false,false,false,false,false,false,false,false,false,false,false,false,false,false,false,false,false,false,false,false,false,false,false,false,false,false,false,false,false,false,false,false,false,false,false,false,false,false,false,false,false,false,false,false,false,false,false,false,false,false,false,false,false,false,false,false,false,false,false,false,false,false,false,false,false,false,false,false,false,false,false,false,false,false,false,false,false,false,false,false,false,false,false,false,false,false,false,false,false,false,false,false,false,false,false]},{\"title\":\"Oceania\",\"annotations\":[]}],\"label\":\"Oceania\",\"method\":\"update\"},{\"args\":[{\"visible\":[false,false,false,false,false,false,true,false,false,false,false,false,false,false,false,false,false,false,false,false,false,false,false,false,false,false,false,false,false,false,false,false,false,false,false,false,false,false,false,false,false,false,false,false,false,false,false,false,false,false,false,false,false,false,false,false,false,false,false,false,false,false,false,false,false,false,false,false,false,false,false,false,false,false,false,false,false,false,false,false,false,false,false,false,false,false,false,false,false,false,false,false,false,false,false,false,false,false,false,false,false,false,false,false,false,false,false,false,false,false,false,false,false,false,false,false,false,false,false,false,false,false,false,false,false,false,false,false,false,false,false,false,false,false,false,false,false,false,false,false,false,false,false,false,false,false,false,false,false,false,false,false,false,false,false,false,false,false,false,false,false,false,false,false,false,false,false,false,false,false,false,false,false,false,false,false,false,false,false,false,false,false,false,false,false,false]},{\"title\":\"Antarctica\",\"annotations\":[]}],\"label\":\"Antarctica\",\"method\":\"update\"}]}]},                        {\"responsive\": true}                    ).then(function(){\n",
              "                            \n",
              "var gd = document.getElementById('7e2ed3fd-aa38-4d3e-a255-9b37700d688e');\n",
              "var x = new MutationObserver(function (mutations, observer) {{\n",
              "        var display = window.getComputedStyle(gd).display;\n",
              "        if (!display || display === 'none') {{\n",
              "            console.log([gd, 'removed!']);\n",
              "            Plotly.purge(gd);\n",
              "            observer.disconnect();\n",
              "        }}\n",
              "}});\n",
              "\n",
              "// Listen for the removal of the full notebook cells\n",
              "var notebookContainer = gd.closest('#notebook-container');\n",
              "if (notebookContainer) {{\n",
              "    x.observe(notebookContainer, {childList: true});\n",
              "}}\n",
              "\n",
              "// Listen for the clearing of the current output cell\n",
              "var outputEl = gd.closest('.output');\n",
              "if (outputEl) {{\n",
              "    x.observe(outputEl, {childList: true});\n",
              "}}\n",
              "\n",
              "                        })                };                            </script>        </div>\n",
              "</body>\n",
              "</html>"
            ]
          },
          "metadata": {}
        }
      ],
      "source": [
        "fig = px.line(Continents, x=Continents.Year, y=Continents.columns[1:],\n",
        "              title='Temperature in °C over countries', width=1500)\n",
        "\n",
        "fig.update_layout(\n",
        "    updatemenus=[\n",
        "        dict(\n",
        "            active=0,\n",
        "            buttons=list([dict(label=\"None\",\n",
        "                     method=\"update\",\n",
        "                     args=[{\"visible\": [True for _ in range(186)]},\n",
        "                           {\"title\": \"Temperature in °C over continents\",\n",
        "                            \"annotations\": []}])]) + list([\n",
        "                dict(label=f\"{j}\",\n",
        "                     method=\"update\",\n",
        "                     args=[{\"visible\": [True if i==idx else False for i in range(186)]},\n",
        "                           {\"title\": f\"{j}\",\n",
        "                            \"annotations\": []}]) for idx,j in enumerate(Continents.columns[1:])])\n",
        "            )])\n",
        "\n",
        "fig.show()"
      ]
    },
    {
      "cell_type": "markdown",
      "id": "5ed38bc2-e14c-40e4-acae-003b8016355e",
      "metadata": {
        "id": "5ed38bc2-e14c-40e4-acae-003b8016355e"
      },
      "source": [
        "Se observa una pendiente positiva sobre el grafico de lineas de cambios de temperaturas, confirmando el gráfico anterior, y por otro lado, verificando el aumento de temperaturas, principalmente en las últimas décadas, teniendo la minoría de mediciones por debajo del cero."
      ]
    },
    {
      "cell_type": "markdown",
      "id": "658bad0d-60e5-417a-8c6e-d8fa61f3b376",
      "metadata": {
        "id": "658bad0d-60e5-417a-8c6e-d8fa61f3b376"
      },
      "source": [
        "### Verificación de amplitud de lecturas <a class=\"anchor\" id=\"grafico_3\"></a>\n",
        "\n",
        "En este tercer gráfico representamos las densidades de los valores de las lecturas de los cambios de temperatura por continente, buscando observar los rangos númericos de estos valores.\n",
        "\n",
        "Con ello, cuanto más extendido verticalmente se observa el objeto en el gráfico, nos puede comunicar la amplitud de las lecturas."
      ]
    },
    {
      "cell_type": "code",
      "execution_count": 89,
      "id": "52c9001a-913b-47da-871a-81812c5aefb8",
      "metadata": {
        "id": "52c9001a-913b-47da-871a-81812c5aefb8",
        "outputId": "5353a73c-c491-4d4c-93a4-f4c6f67d941a",
        "colab": {
          "base_uri": "https://localhost:8080/",
          "height": 0
        }
      },
      "outputs": [
        {
          "output_type": "execute_result",
          "data": {
            "text/plain": [
              "<matplotlib.axes._subplots.AxesSubplot at 0x7f333ca00750>"
            ]
          },
          "metadata": {},
          "execution_count": 89
        },
        {
          "output_type": "display_data",
          "data": {
            "text/plain": [
              "<Figure size 1800x720 with 1 Axes>"
            ],
            "image/png": "[encoded data removed]"
          },
          "metadata": {
            "needs_background": "light"
          }
        }
      ],
      "source": [
        "fig, ax = plt.subplots(figsize =(25, 10)) \n",
        "sns.violinplot(ax = ax, data = Continents.iloc[:,0:])"
      ]
    },
    {
      "cell_type": "markdown",
      "id": "61f3d355-7107-424c-bf46-6abcaf345cd0",
      "metadata": {
        "id": "61f3d355-7107-424c-bf46-6abcaf345cd0"
      },
      "source": [
        "Como podemos observar, cambios extremos se han dado en Europa y America del Norte."
      ]
    },
    {
      "cell_type": "markdown",
      "id": "c440b599-9c1a-4d24-84f4-69a99204d844",
      "metadata": {
        "id": "c440b599-9c1a-4d24-84f4-69a99204d844"
      },
      "source": [
        "### Promedio de lecturas a través de los años <a class=\"anchor\" id=\"grafico_4\"></a>\n",
        "\n",
        "En este cuarto gráfico representamos los promedio de los valores de las lecturas de los cambios de temperatura (globales) en una serie de tiempo.\n",
        "\n",
        "Con ello, queremos visualizar y entender cómo es la tendencia de las lecturas."
      ]
    },
    {
      "cell_type": "code",
      "execution_count": 90,
      "id": "6a6602ed-ed20-4a04-949d-852b1a710559",
      "metadata": {
        "id": "6a6602ed-ed20-4a04-949d-852b1a710559",
        "outputId": "1db28b34-bf98-4e84-b97d-887032dc8c41",
        "colab": {
          "base_uri": "https://localhost:8080/",
          "height": 0
        }
      },
      "outputs": [
        {
          "output_type": "display_data",
          "data": {
            "text/plain": [
              "<Figure size 720x360 with 1 Axes>"
            ],
            "image/png": "[encoded data removed]"
          },
          "metadata": {
            "needs_background": "light"
          }
        }
      ],
      "source": [
        "plt.figure(figsize=(10,5))\n",
        "sns.lineplot(x=time_series.year,y=time_series.temperature_change)\n",
        "plt.xlabel('Year')\n",
        "plt.ylabel('Temperature change')\n",
        "plt.title('Average Global Temperature Change Over Time')\n",
        "plt.show()"
      ]
    },
    {
      "cell_type": "markdown",
      "id": "09daf62a-428b-46c5-94ef-6352c52edb7f",
      "metadata": {
        "id": "09daf62a-428b-46c5-94ef-6352c52edb7f"
      },
      "source": [
        "Tal y como hemos visto en el segundo gráfico, se observa un aumento de las temperaturas en el transcurso del tiempo, siendo las últimas tres décadas las más significativas."
      ]
    },
    {
      "cell_type": "markdown",
      "id": "7f74cd92-a382-4220-a83b-3e2a43c29e7c",
      "metadata": {
        "id": "7f74cd92-a382-4220-a83b-3e2a43c29e7c"
      },
      "source": [
        "### Relación entre lecturas y años <a class=\"anchor\" id=\"grafico_5\"></a>\n",
        "\n",
        "En este quinto gráfico representamos la relación de los promedios de los valores de las lecturas de los cambios de temperatura (globales) y una serie de tiempo.\n",
        "\n",
        "Con ello, queremos visualizar y verificar la distribución de las lecturas a través del tiempo."
      ]
    },
    {
      "cell_type": "code",
      "execution_count": 91,
      "id": "5cf99b9e-1255-4d72-b7e6-82a69df11989",
      "metadata": {
        "id": "5cf99b9e-1255-4d72-b7e6-82a69df11989",
        "outputId": "6a09f149-c100-4823-b935-6379e45e1495",
        "colab": {
          "base_uri": "https://localhost:8080/",
          "height": 0
        }
      },
      "outputs": [
        {
          "output_type": "execute_result",
          "data": {
            "text/plain": [
              "[<matplotlib.lines.Line2D at 0x7f333c7c0d50>]"
            ]
          },
          "metadata": {},
          "execution_count": 91
        },
        {
          "output_type": "display_data",
          "data": {
            "text/plain": [
              "<Figure size 648x648 with 1 Axes>"
            ],
            "image/png": "[encoded data removed]"
          },
          "metadata": {
            "needs_background": "light"
          }
        }
      ],
      "source": [
        "fig, ax = plt.subplots(figsize = (9, 9))\n",
        "ax.scatter(time_series.year, time_series.temperature_change)\n",
        "ax.set_title('Year vs Temperature Change')\n",
        "ax.set_xlabel('Year')\n",
        "ax.set_ylabel('Temp_chg')\n",
        "m, b = np.polyfit(time_series.year, time_series.temperature_change, deg=1)\n",
        "#ecuacion de la recta -> y=mx+b\n",
        "tendency_line = m*time_series.year + b\n",
        "plt.plot(time_series.year, tendency_line, color='red')\n"
      ]
    },
    {
      "cell_type": "markdown",
      "id": "bd6ed478-2fc4-46da-8d07-3cbbfe42cde2",
      "metadata": {
        "id": "bd6ed478-2fc4-46da-8d07-3cbbfe42cde2"
      },
      "source": [
        "En este gráfico podemos reforzar lo observado en los gráficos 1, 2 y 4 en el cual nos muestra una pendiente ascendente de los valores de las lecturas con respecto a los años. \n",
        "\n",
        "Además no se observan puntos muy alejados de la linea de tendencia (recta en rojo) que se ha marcado. Esto nos puede indicar que muy posiblemente no hayan valores anormales, o que por lo menos no han se tienen lecturas extremas con respecto a la media."
      ]
    },
    {
      "cell_type": "markdown",
      "id": "ab9b9cc1-5d1e-4aa0-b3b2-a929017e3ed6",
      "metadata": {
        "id": "ab9b9cc1-5d1e-4aa0-b3b2-a929017e3ed6"
      },
      "source": [
        "### Verificación de outliers <a class=\"anchor\" id=\"grafico_6\"></a>\n",
        "\n",
        "En este sexto gráfico intentamos identificar los valores atípicos. Es decir, poder observar las lecturas que sean numericamente distantes del resto de los datos. Estos valores pueden afectar potencialmente a los próximos análisis que haremos."
      ]
    },
    {
      "cell_type": "code",
      "execution_count": 92,
      "id": "a25a70e5-5a7c-421c-8c26-5f613e9b0406",
      "metadata": {
        "id": "a25a70e5-5a7c-421c-8c26-5f613e9b0406",
        "outputId": "54c12322-7150-4622-a5aa-bdb667c2f750",
        "colab": {
          "base_uri": "https://localhost:8080/",
          "height": 0
        }
      },
      "outputs": [
        {
          "output_type": "execute_result",
          "data": {
            "text/plain": [
              "Text(0.5, 1.0, 'Temperature change distribution')"
            ]
          },
          "metadata": {},
          "execution_count": 92
        },
        {
          "output_type": "display_data",
          "data": {
            "text/plain": [
              "<Figure size 432x288 with 1 Axes>"
            ],
            "image/png": "[encoded data removed]"
          },
          "metadata": {
            "needs_background": "light"
          }
        }
      ],
      "source": [
        "fig2, ax2 = plt.subplots()\n",
        "ax2.boxplot(time_series.temperature_change)\n",
        "ax2.set_title(\"Temperature change distribution\")"
      ]
    },
    {
      "cell_type": "markdown",
      "id": "acc36780-2327-4107-bcf4-8a49f30c88f2",
      "metadata": {
        "id": "acc36780-2327-4107-bcf4-8a49f30c88f2"
      },
      "source": [
        "Utilizando el dataframe de time_series no se observan outliers sobre los valores de temperature_change.\n",
        "\n",
        "Además refuerza lo observado en el gráfico anterior."
      ]
    },
    {
      "cell_type": "markdown",
      "id": "6c970030-e1a6-4756-af2c-47592523d1dd",
      "metadata": {
        "id": "6c970030-e1a6-4756-af2c-47592523d1dd"
      },
      "source": [
        "## ¿El cambio de temperatura es correlativo a través de los años? <a class=\"anchor\" id=\"ML_tittle\"></a>\n",
        "\n",
        "### ML - Regresión lineal <a class=\"anchor\" id=\"ML_rl\"></a>\n",
        "\n",
        "Entonces, en las visualizaciones podemos observar: \n",
        "+ La dispersión de datos (scatterplot) se observa una leve correlación entre el año y el cambio de temperatura.\n",
        "+ La tendencia (la pendiente) es positiva, es decir que los cambios de temperaturas tienden a aumentar a través de los años.\n",
        "\n",
        "Dado que con observar gráficos no es suficiente, ya que posee un factor subjetivo, procedemos a realizar un analisis estadístico utilizando regresión lineal en un modelo de Machine Learning, diseñado a partir de dos hipotesis que se desprenden de aquella observación:\n",
        "\n",
        "**Hipotesis nula** : `Ho = el cambio de temperatura es correlativo con los años.`\n",
        "\n",
        "**Hipotesis alternativa**: `Hi = el cambio de temperatura y los años son variables independientes.`"
      ]
    },
    {
      "cell_type": "code",
      "execution_count": 93,
      "id": "83ca5182-f843-4b2b-8b74-b6884f24d69f",
      "metadata": {
        "id": "83ca5182-f843-4b2b-8b74-b6884f24d69f",
        "outputId": "4d880744-c1df-445b-8526-63bc067f4715",
        "colab": {
          "base_uri": "https://localhost:8080/"
        }
      },
      "outputs": [
        {
          "output_type": "execute_result",
          "data": {
            "text/plain": [
              "count    59.000000\n",
              "mean      0.470090\n",
              "std       0.474322\n",
              "min      -0.224154\n",
              "25%       0.085562\n",
              "50%       0.335127\n",
              "75%       0.874973\n",
              "max       1.464899\n",
              "Name: temperature_change, dtype: float64"
            ]
          },
          "metadata": {},
          "execution_count": 93
        }
      ],
      "source": [
        "time_series.temperature_change.describe()"
      ]
    },
    {
      "cell_type": "markdown",
      "id": "85f4a7a4-d431-4211-8ad8-c0e9324c0f03",
      "metadata": {
        "id": "85f4a7a4-d431-4211-8ad8-c0e9324c0f03"
      },
      "source": [
        "### OLS - Ordinary Least Squares / Mínimos Cuadrados Ordinarios <a class=\"anchor\" id=\"ML_ols\"></a>\n",
        "\n",
        "Aplicaremos este algoritmo de regresión, definiendo nuestro modelo a partir de las hipotesis generadas:\n",
        "\n",
        "_\"La temperatura es correlacional al año\"_\n",
        "\n",
        "Entonces en este modelo suponemos que:\n",
        "\n",
        "`temperature_change: variable dependiente`\n",
        "\n",
        "`year: variable independiente`"
      ]
    },
    {
      "cell_type": "code",
      "execution_count": 94,
      "id": "25545bd7-4f21-49d4-b867-34888c7529f0",
      "metadata": {
        "id": "25545bd7-4f21-49d4-b867-34888c7529f0",
        "outputId": "f633458c-bb14-4eb0-e376-a029eadc3eb9",
        "colab": {
          "base_uri": "https://localhost:8080/"
        }
      },
      "outputs": [
        {
          "output_type": "stream",
          "name": "stdout",
          "text": [
            "                            OLS Regression Results                            \n",
            "==============================================================================\n",
            "Dep. Variable:     temperature_change   R-squared:                       0.881\n",
            "Model:                            OLS   Adj. R-squared:                  0.879\n",
            "Method:                 Least Squares   F-statistic:                     423.1\n",
            "Date:                Tue, 22 Nov 2022   Prob (F-statistic):           4.72e-28\n",
            "Time:                        22:02:11   Log-Likelihood:                 23.654\n",
            "No. Observations:                  59   AIC:                            -43.31\n",
            "Df Residuals:                      57   BIC:                            -39.15\n",
            "Df Model:                           1                                         \n",
            "Covariance Type:            nonrobust                                         \n",
            "==============================================================================\n",
            "                 coef    std err          t      P>|t|      [0.025      0.975]\n",
            "------------------------------------------------------------------------------\n",
            "Intercept    -51.1203      2.508    -20.381      0.000     -56.143     -46.098\n",
            "year           0.0259      0.001     20.569      0.000       0.023       0.028\n",
            "==============================================================================\n",
            "Omnibus:                        0.081   Durbin-Watson:                   1.199\n",
            "Prob(Omnibus):                  0.960   Jarque-Bera (JB):                0.220\n",
            "Skew:                           0.077   Prob(JB):                        0.896\n",
            "Kurtosis:                       2.743   Cond. No.                     2.33e+05\n",
            "==============================================================================\n",
            "\n",
            "Notes:\n",
            "[1] Standard Errors assume that the covariance matrix of the errors is correctly specified.\n",
            "[2] The condition number is large, 2.33e+05. This might indicate that there are\n",
            "strong multicollinearity or other numerical problems.\n"
          ]
        }
      ],
      "source": [
        "model1 = 'temperature_change~year'\n",
        "\n",
        "lm1 = sm.ols(formula = model1, data = time_series).fit()\n",
        "\n",
        "print(lm1.summary())"
      ]
    },
    {
      "cell_type": "markdown",
      "id": "dfca13f0-96a0-422f-95b4-213b3b1df213",
      "metadata": {
        "id": "dfca13f0-96a0-422f-95b4-213b3b1df213"
      },
      "source": [
        "**Observaciones OLS**\n",
        "\n",
        "+ coef != 0 y p_value < 0.05  => me indica rechazar la hipotesis nula\n",
        "+ prob JB > 0.05 => me indica no rechazar la hipotesis nula\n",
        "+ DW en [0;4] => me indica que las variables son independientes => rechazo la hipotesis nula"
      ]
    },
    {
      "cell_type": "markdown",
      "id": "077c1cc1-daf7-4c51-b364-2b75e7dbd0af",
      "metadata": {
        "id": "077c1cc1-daf7-4c51-b364-2b75e7dbd0af"
      },
      "source": [
        "### Entrenamiento con la totalidad de los datos y predicciones futuras <a class=\"anchor\" id=\"total_train\"></a>\n",
        "\n",
        "A partir de nuestro modelo creado, procedemos a realizar en primera instancia un entrenamiento de nuestro dataset, con la particularidad que utilizaremos la totalidad de nuestros datos y luego, como datos de prueba, se utilizan datos (años) futuros.\n",
        "\n",
        "Con ello buscamos verificar la calidad de nuestros datos y poder realizar predicciones con valores que no poseemos aún."
      ]
    },
    {
      "cell_type": "code",
      "execution_count": 95,
      "id": "20707a90-fdd2-4213-ad00-3ea34737e0f7",
      "metadata": {
        "id": "20707a90-fdd2-4213-ad00-3ea34737e0f7",
        "outputId": "ac4b5cf2-6fe7-4765-c46b-43c7a3cb8dac",
        "colab": {
          "base_uri": "https://localhost:8080/"
        }
      },
      "outputs": [
        {
          "output_type": "stream",
          "name": "stdout",
          "text": [
            "Coefficients: \n",
            " [0.02592483]\n",
            "Independent term: \n",
            " -51.12031976321558\n",
            "Mean squared error: 0.03\n",
            "Variance score: 0.88\n"
          ]
        }
      ],
      "source": [
        "# Asignamos nuestra variable de entrada X para entrenamiento y las etiquetas Y.\n",
        "dataX = time_series[[\"year\"]]\n",
        "df_x = np.array(dataX)\n",
        "df_y = time_series['temperature_change'].values\n",
        " \n",
        "# Creamos el objeto de Regresión Linear\n",
        "regr = linear_model.LinearRegression()\n",
        " \n",
        "# Entrenamos nuestro modelo\n",
        "regr.fit(df_x, df_y)\n",
        " \n",
        "# Hacemos las predicciones que en definitiva una línea (en este caso, al ser 2D)\n",
        "pred = regr.predict(df_x)\n",
        " \n",
        "# Veamos los coeficienetes obtenidos, En nuestro caso, serán la Tangente\n",
        "print('Coefficients: \\n', regr.coef_)\n",
        "# Este es el valor donde corta el eje Y (en X=0)\n",
        "print('Independent term: \\n', regr.intercept_)\n",
        "# Error Cuadrado Medio\n",
        "print(\"Mean squared error: %.2f\" % mean_squared_error(df_y, pred))\n",
        "# Puntaje de Varianza. El mejor puntaje es un 1.0\n",
        "print('Variance score: %.2f' % r2_score(df_y, pred))"
      ]
    },
    {
      "cell_type": "markdown",
      "id": "260728c5-1e99-40d4-adcd-678c5e1563aa",
      "metadata": {
        "id": "260728c5-1e99-40d4-adcd-678c5e1563aa"
      },
      "source": [
        "**Observaciones de la regresion lineal**\n",
        "\n",
        "+ De la ecuación de la recta y = mx + b nuestra pendiente “m” es el coeficiente 0.025 y el término independiente “b” es -51.12\n",
        "+ Tenemos un Error Cuadrático relativamente bajo 0.03\n",
        "+ El puntaje de Varianza es 0.88 con lo cual es cercano a 1.0"
      ]
    },
    {
      "cell_type": "markdown",
      "id": "f32bca06-85ea-4a33-8cb4-feb4e9b69532",
      "metadata": {
        "id": "f32bca06-85ea-4a33-8cb4-feb4e9b69532"
      },
      "source": [
        "**Predicción en regresión lineal**\n",
        "\n",
        "Vamos a intentar probar nuestro algoritmo, suponiendo que quisiéramos predecir el valor de cambio de temperatura para la decada 2019-2029."
      ]
    },
    {
      "cell_type": "code",
      "execution_count": 96,
      "id": "e0bddce9-e9fe-4d38-8e6a-af0193438989",
      "metadata": {
        "id": "e0bddce9-e9fe-4d38-8e6a-af0193438989",
        "outputId": "f27eb6f4-a135-4b0d-948d-aa8351eb6fa9",
        "colab": {
          "base_uri": "https://localhost:8080/"
        }
      },
      "outputs": [
        {
          "output_type": "stream",
          "name": "stdout",
          "text": [
            "Year: 2020 | temperature_change: 1.2478348364699343\n",
            "Year: 2021 | temperature_change: 1.2737596654796803\n",
            "Year: 2022 | temperature_change: 1.2996844944894264\n",
            "Year: 2023 | temperature_change: 1.3256093234991724\n",
            "Year: 2024 | temperature_change: 1.3515341525089113\n",
            "Year: 2025 | temperature_change: 1.3774589815186573\n",
            "Year: 2026 | temperature_change: 1.4033838105284033\n",
            "Year: 2027 | temperature_change: 1.4293086395381494\n",
            "Year: 2028 | temperature_change: 1.4552334685478954\n",
            "Year: 2029 | temperature_change: 1.4811582975576414\n"
          ]
        }
      ],
      "source": [
        "from operator import itemgetter\n",
        "\n",
        "future_predictions = []\n",
        "years = range(2020, 2030)\n",
        "\n",
        "for y in years:\n",
        "    prediction = regr.predict([[y]])\n",
        "    future_predictions.append(itemgetter(0)(prediction))\n",
        "    print(f\"Year: {y} | temperature_change: {itemgetter(0)(prediction)}\")"
      ]
    },
    {
      "cell_type": "code",
      "execution_count": 97,
      "id": "4b5b1907-32ab-4222-8f63-6fc94ad7270e",
      "metadata": {
        "id": "4b5b1907-32ab-4222-8f63-6fc94ad7270e",
        "outputId": "e90e1c7c-9acc-4eea-b9bd-0d5940389bbc",
        "colab": {
          "base_uri": "https://localhost:8080/",
          "height": 363
        }
      },
      "outputs": [
        {
          "output_type": "execute_result",
          "data": {
            "text/plain": [
              "    year  temperature_change\n",
              "49  2010            1.080097\n",
              "50  2011            0.863045\n",
              "51  2012            0.901637\n",
              "52  2013            0.977131\n",
              "53  2014            1.131417\n",
              "54  2015            1.326462\n",
              "55  2016            1.440185\n",
              "56  2017            1.299112\n",
              "57  2018            1.310459\n",
              "58  2019            1.464899"
            ],
            "text/html": [
              "\n",
              "  <div id=\"df-8bc7202b-4077-47f7-beca-7a4dd737c815\">\n",
              "    <div class=\"colab-df-container\">\n",
              "      <div>\n",
              "<style scoped>\n",
              "    .dataframe tbody tr th:only-of-type {\n",
              "        vertical-align: middle;\n",
              "    }\n",
              "\n",
              "    .dataframe tbody tr th {\n",
              "        vertical-align: top;\n",
              "    }\n",
              "\n",
              "    .dataframe thead th {\n",
              "        text-align: right;\n",
              "    }\n",
              "</style>\n",
              "<table border=\"1\" class=\"dataframe\">\n",
              "  <thead>\n",
              "    <tr style=\"text-align: right;\">\n",
              "      <th></th>\n",
              "      <th>year</th>\n",
              "      <th>temperature_change</th>\n",
              "    </tr>\n",
              "  </thead>\n",
              "  <tbody>\n",
              "    <tr>\n",
              "      <th>49</th>\n",
              "      <td>2010</td>\n",
              "      <td>1.080097</td>\n",
              "    </tr>\n",
              "    <tr>\n",
              "      <th>50</th>\n",
              "      <td>2011</td>\n",
              "      <td>0.863045</td>\n",
              "    </tr>\n",
              "    <tr>\n",
              "      <th>51</th>\n",
              "      <td>2012</td>\n",
              "      <td>0.901637</td>\n",
              "    </tr>\n",
              "    <tr>\n",
              "      <th>52</th>\n",
              "      <td>2013</td>\n",
              "      <td>0.977131</td>\n",
              "    </tr>\n",
              "    <tr>\n",
              "      <th>53</th>\n",
              "      <td>2014</td>\n",
              "      <td>1.131417</td>\n",
              "    </tr>\n",
              "    <tr>\n",
              "      <th>54</th>\n",
              "      <td>2015</td>\n",
              "      <td>1.326462</td>\n",
              "    </tr>\n",
              "    <tr>\n",
              "      <th>55</th>\n",
              "      <td>2016</td>\n",
              "      <td>1.440185</td>\n",
              "    </tr>\n",
              "    <tr>\n",
              "      <th>56</th>\n",
              "      <td>2017</td>\n",
              "      <td>1.299112</td>\n",
              "    </tr>\n",
              "    <tr>\n",
              "      <th>57</th>\n",
              "      <td>2018</td>\n",
              "      <td>1.310459</td>\n",
              "    </tr>\n",
              "    <tr>\n",
              "      <th>58</th>\n",
              "      <td>2019</td>\n",
              "      <td>1.464899</td>\n",
              "    </tr>\n",
              "  </tbody>\n",
              "</table>\n",
              "</div>\n",
              "      <button class=\"colab-df-convert\" onclick=\"convertToInteractive('df-8bc7202b-4077-47f7-beca-7a4dd737c815')\"\n",
              "              title=\"Convert this dataframe to an interactive table.\"\n",
              "              style=\"display:none;\">\n",
              "        \n",
              "  <svg xmlns=\"http://www.w3.org/2000/svg\" height=\"24px\"viewBox=\"0 0 24 24\"\n",
              "       width=\"24px\">\n",
              "    <path d=\"M0 0h24v24H0V0z\" fill=\"none\"/>\n",
              "    <path d=\"M18.56 5.44l.94 2.06.94-2.06 2.06-.94-2.06-.94-.94-2.06-.94 2.06-2.06.94zm-11 1L8.5 8.5l.94-2.06 2.06-.94-2.06-.94L8.5 2.5l-.94 2.06-2.06.94zm10 10l.94 2.06.94-2.06 2.06-.94-2.06-.94-.94-2.06-.94 2.06-2.06.94z\"/><path d=\"M17.41 7.96l-1.37-1.37c-.4-.4-.92-.59-1.43-.59-.52 0-1.04.2-1.43.59L10.3 9.45l-7.72 7.72c-.78.78-.78 2.05 0 2.83L4 21.41c.39.39.9.59 1.41.59.51 0 1.02-.2 1.41-.59l7.78-7.78 2.81-2.81c.8-.78.8-2.07 0-2.86zM5.41 20L4 18.59l7.72-7.72 1.47 1.35L5.41 20z\"/>\n",
              "  </svg>\n",
              "      </button>\n",
              "      \n",
              "  <style>\n",
              "    .colab-df-container {\n",
              "      display:flex;\n",
              "      flex-wrap:wrap;\n",
              "      gap: 12px;\n",
              "    }\n",
              "\n",
              "    .colab-df-convert {\n",
              "      background-color: #E8F0FE;\n",
              "      border: none;\n",
              "      border-radius: 50%;\n",
              "      cursor: pointer;\n",
              "      display: none;\n",
              "      fill: #1967D2;\n",
              "      height: 32px;\n",
              "      padding: 0 0 0 0;\n",
              "      width: 32px;\n",
              "    }\n",
              "\n",
              "    .colab-df-convert:hover {\n",
              "      background-color: #E2EBFA;\n",
              "      box-shadow: 0px 1px 2px rgba(60, 64, 67, 0.3), 0px 1px 3px 1px rgba(60, 64, 67, 0.15);\n",
              "      fill: #174EA6;\n",
              "    }\n",
              "\n",
              "    [theme=dark] .colab-df-convert {\n",
              "      background-color: #3B4455;\n",
              "      fill: #D2E3FC;\n",
              "    }\n",
              "\n",
              "    [theme=dark] .colab-df-convert:hover {\n",
              "      background-color: #434B5C;\n",
              "      box-shadow: 0px 1px 3px 1px rgba(0, 0, 0, 0.15);\n",
              "      filter: drop-shadow(0px 1px 2px rgba(0, 0, 0, 0.3));\n",
              "      fill: #FFFFFF;\n",
              "    }\n",
              "  </style>\n",
              "\n",
              "      <script>\n",
              "        const buttonEl =\n",
              "          document.querySelector('#df-8bc7202b-4077-47f7-beca-7a4dd737c815 button.colab-df-convert');\n",
              "        buttonEl.style.display =\n",
              "          google.colab.kernel.accessAllowed ? 'block' : 'none';\n",
              "\n",
              "        async function convertToInteractive(key) {\n",
              "          const element = document.querySelector('#df-8bc7202b-4077-47f7-beca-7a4dd737c815');\n",
              "          const dataTable =\n",
              "            await google.colab.kernel.invokeFunction('convertToInteractive',\n",
              "                                                     [key], {});\n",
              "          if (!dataTable) return;\n",
              "\n",
              "          const docLinkHtml = 'Like what you see? Visit the ' +\n",
              "            '<a target=\"_blank\" href=https://colab.research.google.com/notebooks/data_table.ipynb>data table notebook</a>'\n",
              "            + ' to learn more about interactive tables.';\n",
              "          element.innerHTML = '';\n",
              "          dataTable['output_type'] = 'display_data';\n",
              "          await google.colab.output.renderOutput(dataTable, element);\n",
              "          const docLink = document.createElement('div');\n",
              "          docLink.innerHTML = docLinkHtml;\n",
              "          element.appendChild(docLink);\n",
              "        }\n",
              "      </script>\n",
              "    </div>\n",
              "  </div>\n",
              "  "
            ]
          },
          "metadata": {},
          "execution_count": 97
        }
      ],
      "source": [
        "last_decade = time_series.tail(10).copy()\n",
        "last_decade"
      ]
    },
    {
      "cell_type": "code",
      "execution_count": 98,
      "id": "d363ae5c-636f-4fcd-8128-1db2d67ec4ba",
      "metadata": {
        "id": "d363ae5c-636f-4fcd-8128-1db2d67ec4ba",
        "outputId": "54c7fd0e-e848-4fbe-f8e5-e144b5fa319b",
        "colab": {
          "base_uri": "https://localhost:8080/"
        }
      },
      "outputs": [
        {
          "output_type": "execute_result",
          "data": {
            "text/plain": [
              "count    10.000000\n",
              "mean      1.179444\n",
              "std       0.219333\n",
              "min       0.863045\n",
              "25%       1.002873\n",
              "50%       1.215265\n",
              "75%       1.322462\n",
              "max       1.464899\n",
              "Name: temperature_change, dtype: float64"
            ]
          },
          "metadata": {},
          "execution_count": 98
        }
      ],
      "source": [
        "last_decade.temperature_change.describe()"
      ]
    },
    {
      "cell_type": "code",
      "execution_count": 99,
      "id": "4208e2d8-a057-4c06-9c6e-292d8ed45b63",
      "metadata": {
        "id": "4208e2d8-a057-4c06-9c6e-292d8ed45b63",
        "outputId": "d1ed2d80-b719-461f-bd75-7d2eeff6b553",
        "colab": {
          "base_uri": "https://localhost:8080/"
        }
      },
      "outputs": [
        {
          "output_type": "stream",
          "name": "stdout",
          "text": [
            "Mean: 1.3644965670137872 | min: 1.2478348364699343 | max: 1.4811582975576414\n"
          ]
        }
      ],
      "source": [
        "mean_pred = np.mean(future_predictions, axis=None)\n",
        "min_pred = np.min(future_predictions)\n",
        "max_pred = np.max(future_predictions)\n",
        "\n",
        "print(f\"Mean: {mean_pred} | min: {min_pred} | max: {max_pred}\")"
      ]
    },
    {
      "cell_type": "markdown",
      "id": "758e81ff-9693-4eff-842b-a0ff2ec17606",
      "metadata": {
        "id": "758e81ff-9693-4eff-842b-a0ff2ec17606"
      },
      "source": [
        "**Analizando las predicciones**\n",
        "\n",
        "Entre el 2010 y el 2019, la media de los cambios de temperatura fue de 1.179444, con minimo de 0.863045 y un maximo de 1.464899. Mientras que la predicción arrojó resultados como 1.3644965, 1.2478348, 1.4811582 respectivamente.\n",
        "\n",
        "A simple vista, los valores no parecen \"irreales\", o por lo menos mantienen la coherencia que expusimos en el EDA (tendencia de aumento de temperatura)."
      ]
    },
    {
      "cell_type": "markdown",
      "id": "3fe48186-6943-4187-972c-1e4a9b3ba786",
      "metadata": {
        "id": "3fe48186-6943-4187-972c-1e4a9b3ba786"
      },
      "source": [
        "### Entrenamiento con particiones de datos <a class=\"anchor\" id=\"split_train\"></a>\n",
        "\n",
        "En el modelo anterior, los datos de prueba fueron valores que no estaban en nuestro rango (utilizamos años futuros). Luego hicimos un entrenamiento sobre todos los datos y una predicción sobre estos datos futuros.\n",
        "\n",
        "Entonces, esta vez, vamos a crear nuevamente un modelo distinto, realizando una división del dataframe entre los datos de entrenamiento y de prueba (20% del total)."
      ]
    },
    {
      "cell_type": "code",
      "execution_count": 100,
      "id": "73f7e1af-51ed-495f-bd18-4ad816bcd9e3",
      "metadata": {
        "id": "73f7e1af-51ed-495f-bd18-4ad816bcd9e3",
        "outputId": "6eb8c5f8-27c9-4f3a-afac-09ff478b06c0",
        "colab": {
          "base_uri": "https://localhost:8080/"
        }
      },
      "outputs": [
        {
          "output_type": "stream",
          "name": "stdout",
          "text": [
            "[ 0.91460123  0.46345921  0.6226858   1.17997889  0.30423261  0.96767676\n",
            "  0.43692144 -0.30613602  0.48999697 -0.27959825  1.12690336  1.1003656 ]\n"
          ]
        }
      ],
      "source": [
        "from sklearn.model_selection import train_test_split\n",
        "from sklearn.linear_model import LinearRegression\n",
        "\n",
        "# Separo las muestras para la validación\n",
        "X_train,X_test,y_train,y_test = train_test_split(df_x,df_y,test_size=0.2,random_state=2)\n",
        "\n",
        "\n",
        "# crear el modelo, se ajusta y se realiza una predicción a partir de las muestras \n",
        "lr = LinearRegression()\n",
        "lr.fit(X_train,y_train)\n",
        "y_pred = lr.predict(X_test)\n",
        "\n",
        "print(y_pred)"
      ]
    },
    {
      "cell_type": "markdown",
      "id": "3da8a257-622c-4a4c-9cc9-68df817405d0",
      "metadata": {
        "id": "3da8a257-622c-4a4c-9cc9-68df817405d0"
      },
      "source": [
        "### Métricas del modelo <a class=\"anchor\" id=\"metrics\"></a>\n",
        "\n",
        "\n",
        "##### > <u>Error Cuadrático Medio (MSE)</u>\n",
        "\n",
        "MSE mide el error cuadrado promedio de nuestras predicciones. Para cada punto, calcula la diferencia cuadrada entre las predicciones y el objetivo y luego promedia esos valores.\n",
        "\n",
        "Cuanto mayor sea este valor, peor es el modelo. Nunca es negativo, ya que estamos cuadrando los errores de predicción individuales antes de sumarlos, pero sería cero para un modelo perfecto."
      ]
    },
    {
      "cell_type": "code",
      "execution_count": 101,
      "id": "5bbb705b-0084-4c07-9be4-4a1c53b722d0",
      "metadata": {
        "id": "5bbb705b-0084-4c07-9be4-4a1c53b722d0",
        "outputId": "0d3b6f44-be42-44a9-b734-a30587216d85",
        "colab": {
          "base_uri": "https://localhost:8080/"
        }
      },
      "outputs": [
        {
          "output_type": "stream",
          "name": "stdout",
          "text": [
            "MSE 0.04453966298145321\n"
          ]
        }
      ],
      "source": [
        "from sklearn.metrics import mean_squared_error\n",
        "print(\"MSE\",mean_squared_error(y_test,y_pred))"
      ]
    },
    {
      "cell_type": "markdown",
      "id": "043c14bc-1b2d-4731-9eab-44474288308e",
      "metadata": {
        "id": "043c14bc-1b2d-4731-9eab-44474288308e"
      },
      "source": [
        "##### > <u>Raiz del Error Cuadrático Medio (RMSE)</u>\n",
        "\n",
        "RMSE es solo la raíz cuadrada de MSE. La raíz cuadrada se introduce para hacer que la escala de los errores sea igual a la escala de los objetivos."
      ]
    },
    {
      "cell_type": "code",
      "execution_count": 102,
      "id": "ad743ca0-cd8e-4ceb-8465-b656c44c8678",
      "metadata": {
        "id": "ad743ca0-cd8e-4ceb-8465-b656c44c8678",
        "outputId": "d75cfc3e-8956-4285-cd9d-c405d3a7b27a",
        "colab": {
          "base_uri": "https://localhost:8080/"
        }
      },
      "outputs": [
        {
          "output_type": "stream",
          "name": "stdout",
          "text": [
            "RMSE 0.21104422044077212\n"
          ]
        }
      ],
      "source": [
        "print(\"RMSE\",np.sqrt(mean_squared_error(y_test,y_pred)))"
      ]
    },
    {
      "cell_type": "code",
      "execution_count": 103,
      "id": "66c076a0-f70e-48f2-859a-df3c63c0a034",
      "metadata": {
        "tags": [],
        "id": "66c076a0-f70e-48f2-859a-df3c63c0a034",
        "outputId": "810f79b3-3aae-405e-a359-f1e3c81fd3f5",
        "colab": {
          "base_uri": "https://localhost:8080/"
        }
      },
      "outputs": [
        {
          "output_type": "stream",
          "name": "stdout",
          "text": [
            "RMSE (log) -1.555687591915275\n"
          ]
        }
      ],
      "source": [
        "print(\"RMSE (log)\",np.log(np.sqrt(mean_squared_error(y_test,y_pred))))"
      ]
    },
    {
      "cell_type": "markdown",
      "id": "903bc29b-efaa-48a2-b30a-3d6eb7394704",
      "metadata": {
        "id": "903bc29b-efaa-48a2-b30a-3d6eb7394704"
      },
      "source": [
        "##### > <u>Error Absoluto Medio (MAE)</u>\n",
        "\n",
        "En MAE, el error se calcula como un promedio de diferencias absolutas entre los valores objetivo y las predicciones. El MAE es una puntuación lineal, lo que significa que todas las diferencias individuales se ponderan por igual en el promedio. Por ejemplo, la diferencia entre 10 y 0 será el doble de la diferencia entre 5 y 0."
      ]
    },
    {
      "cell_type": "code",
      "execution_count": 104,
      "id": "e477c723-aad2-4062-911a-3fc08661d128",
      "metadata": {
        "id": "e477c723-aad2-4062-911a-3fc08661d128",
        "outputId": "d1ac306d-df92-44be-cf3a-be8d255c706e",
        "colab": {
          "base_uri": "https://localhost:8080/"
        }
      },
      "outputs": [
        {
          "output_type": "stream",
          "name": "stdout",
          "text": [
            "MAE 0.17677074341098067\n"
          ]
        }
      ],
      "source": [
        "from sklearn.metrics import mean_absolute_error\n",
        "print(\"MAE\",mean_absolute_error(y_test,y_pred))"
      ]
    },
    {
      "cell_type": "markdown",
      "id": "aba81b0a-4f33-47a6-a869-8d9e6e452dae",
      "metadata": {
        "id": "aba81b0a-4f33-47a6-a869-8d9e6e452dae"
      },
      "source": [
        "##### > <u>R-Cuadrado (R2)</u>\n",
        "\n",
        "R-cuadrado indica la bondad o la aptitud del modelo, a menudo se utiliza con fines descriptivos y muestra que también las variables independientes seleccionadas explican la variabilidad en sus variables dependiente.\n",
        "\n",
        "R-cuadrado tiene la propiedad útil de que su escala es intuitiva, va de 0 a 1, con 0 indicando que el modelo propuesto no mejora la predicción sobre el modelo medio y 1 indica una predicción perfecta."
      ]
    },
    {
      "cell_type": "code",
      "execution_count": 105,
      "id": "eb26e34a-9cdf-474f-8fcd-1361ff0c65ea",
      "metadata": {
        "id": "eb26e34a-9cdf-474f-8fcd-1361ff0c65ea",
        "outputId": "30aa7096-5b2c-40f3-b887-8e6c005b918e",
        "colab": {
          "base_uri": "https://localhost:8080/"
        }
      },
      "outputs": [
        {
          "output_type": "stream",
          "name": "stdout",
          "text": [
            "R2 0.8024775718896223\n"
          ]
        }
      ],
      "source": [
        "from sklearn.metrics import r2_score\n",
        "r2 = r2_score(y_test,y_pred)\n",
        "print(\"R2\",r2)"
      ]
    },
    {
      "cell_type": "markdown",
      "id": "c4074320-94d9-442a-a219-fc09c5dd3db6",
      "metadata": {
        "id": "c4074320-94d9-442a-a219-fc09c5dd3db6"
      },
      "source": [
        "##### Analisis de las métricas\n",
        "\n",
        "Para este nuevo modelo generado, nos encontramos que:\n",
        "+ Teniendo en cuenta el valor de **MSE** nos podría indicar que los valores de la pendiente y del interceptor es cercano al real, el cual minimiza el error cuadrático. Es decir, la ecuación de la recta formada por el modelo es similar a la ecuación real.\n",
        "+ Teniendo en cuenta el valor de **MAE**, el cual indica el promedio de la diferencia absoluta entre la predicción del modelo y el valor objetivo. Nos da idea de la sensibilidad de las medidas por lo poco dispersas que resultaron. El error absoluto nos indica el grado de aproximación y da un indicio de la calidad de la medida.\n",
        "+ Finalmente teniendo en cuenta el valor de **R2**, el cual se acerca a 1, se puede decir que se tiene, en el modelo, una buena precisión sobre las predicciones realizadas.\n",
        "\n",
        "(!) Luego, en la siguiente sección se podrá ver visualmente estas \"distancias\" (diferencias) entre la predicción y los valores reales."
      ]
    },
    {
      "cell_type": "markdown",
      "id": "3f19a7f1-9052-4c19-8614-10f4c40c8e86",
      "metadata": {
        "id": "3f19a7f1-9052-4c19-8614-10f4c40c8e86"
      },
      "source": [
        "### Underfitting & Overfitting <a class=\"anchor\" id=\"anyfitting\"></a>\n",
        "\n",
        "Las principales causas al obtener malos resultados en Machine Learning son el Overfitting o el Underfitting de los datos. Cuando entrenamos nuestro modelo intentamos “hacer encajar” -fit en inglés- los datos de entrada entre ellos y con la salida. Tal vez se pueda traducir overfitting como “sobreajuste” y underfitting como “subajuste” y hacen referencia al fallo de nuestro modelo al generalizar -encajar- el conocimiento que pretendemos que adquieran.\n",
        "\n",
        "Habiendo entendido ambos conceptos, procedemos a analizar visualmente el comportamiento del modelo anteriormente generado:"
      ]
    },
    {
      "cell_type": "code",
      "execution_count": 106,
      "id": "eb2c512a-46f4-497a-bc2a-5f2950b46069",
      "metadata": {
        "id": "eb2c512a-46f4-497a-bc2a-5f2950b46069",
        "outputId": "64e80a01-8b8a-46d3-d4a2-7d95e004dcd7",
        "colab": {
          "base_uri": "https://localhost:8080/",
          "height": 388
        }
      },
      "outputs": [
        {
          "output_type": "display_data",
          "data": {
            "text/plain": [
              "<Figure size 504x432 with 1 Axes>"
            ],
            "image/png": "[encoded data removed]"
          },
          "metadata": {
            "needs_background": "light"
          }
        }
      ],
      "source": [
        "plt.figure(figsize=(7, 6))\n",
        "ax = plt.axes()\n",
        "ax.scatter(X_train,y_train, c='#191ebd', label='datos de entrenamiento')\n",
        "ax.scatter(X_test,y_test, c='#11ad17', label='datos de test')\n",
        "ax.plot(X_test, y_pred, c='#b52e10', label='predicción')\n",
        "\n",
        "ax.set_xlabel('Year')\n",
        "ax.set_ylabel('Temperature Change')\n",
        "ax.legend()\n",
        "\n",
        "plt.show()"
      ]
    },
    {
      "cell_type": "markdown",
      "id": "3eea2dc3-a0cd-4680-8485-b6f4a0b3b8a7",
      "metadata": {
        "id": "3eea2dc3-a0cd-4680-8485-b6f4a0b3b8a7"
      },
      "source": [
        "Por lo pronto, no se observan indicios de Overfitting ni Underfitting; las distancias entre la recta de predicción y los puntos de dispersión de los datos de entrenamiento y prueba no presentan muchas (Underfitting) ni pocas (Overfitting) diferencias."
      ]
    },
    {
      "cell_type": "markdown",
      "id": "7502b48b-810e-4e12-8ff2-6429c6e77e07",
      "metadata": {
        "id": "7502b48b-810e-4e12-8ff2-6429c6e77e07"
      },
      "source": [
        "### Cross-Validation <a class=\"anchor\" id=\"cross_val\"></a>"
      ]
    },
    {
      "cell_type": "markdown",
      "id": "87235d7c-870d-45d6-b93d-3a585faf7a0b",
      "metadata": {
        "id": "87235d7c-870d-45d6-b93d-3a585faf7a0b"
      },
      "source": [
        "Cross-Validation es una técnica utilizada para evaluar un modelo de Machine Learning y probar su rendimiento. Para ello vamos a utilizar la función cross_val_score, utilizando como scoring las métricas analizadas anteriormente para aplicarlas en las estimaciones."
      ]
    },
    {
      "cell_type": "markdown",
      "id": "9ad60e14-7b2a-4d44-a676-5d19ed29d922",
      "metadata": {
        "id": "9ad60e14-7b2a-4d44-a676-5d19ed29d922"
      },
      "source": [
        "+ Primero analizamos la precisión del modelo utilizando la función score de la biblioteca de sklearn"
      ]
    },
    {
      "cell_type": "code",
      "execution_count": 107,
      "id": "ff8f373f-9acd-44de-8e0e-d07c970a35d9",
      "metadata": {
        "id": "ff8f373f-9acd-44de-8e0e-d07c970a35d9",
        "outputId": "1f44b300-c1c2-45ce-f271-f6860ae2add4",
        "colab": {
          "base_uri": "https://localhost:8080/"
        }
      },
      "outputs": [
        {
          "output_type": "stream",
          "name": "stdout",
          "text": [
            "Métrica del modelo 0.8977638143470237\n"
          ]
        }
      ],
      "source": [
        "from sklearn.model_selection import cross_val_score\n",
        "\n",
        "score = lr.score(X_train,y_train)\n",
        "print(\"Métrica del modelo\", score)"
      ]
    },
    {
      "cell_type": "markdown",
      "id": "0f1dbc67-d036-4c31-846e-dd61dd69f7c6",
      "metadata": {
        "id": "0f1dbc67-d036-4c31-846e-dd61dd69f7c6"
      },
      "source": [
        "> Teniendo en cuenta que el mejor valor posible es \"1\", entonces podemos decir que tenemos una buena precisión sobre el modelo creado y entrenado."
      ]
    },
    {
      "cell_type": "markdown",
      "id": "0cd080d5-badd-4d01-8009-13abb86d1628",
      "metadata": {
        "id": "0cd080d5-badd-4d01-8009-13abb86d1628"
      },
      "source": [
        "Luego ejecutamos para cada métrica la función de cross-validation. Lo vamos a realizar puntualmente con dos divisiones (cross-validation splitting strategy)."
      ]
    },
    {
      "cell_type": "markdown",
      "id": "f6a65ca1-5e8a-4d26-8d6c-9a86cf030f3f",
      "metadata": {
        "id": "f6a65ca1-5e8a-4d26-8d6c-9a86cf030f3f"
      },
      "source": [
        "> Cross-validation splitting strategy\n",
        "El valor de este parámetro es clave para este estudio ya que indica la cantidad de divisiones o pliegues que se realizarán sobre los datos de entrenamiento, así como también la cantidad de iteraciones que se evaluará el modelo por cada pliegue."
      ]
    },
    {
      "cell_type": "code",
      "execution_count": 108,
      "id": "87ec11da-8724-46fb-96f8-ef3b338c7ac6",
      "metadata": {
        "id": "87ec11da-8724-46fb-96f8-ef3b338c7ac6",
        "outputId": "5eaa99f2-c34e-49f2-cbf2-cdcd9c85ae4e",
        "colab": {
          "base_uri": "https://localhost:8080/",
          "height": 634
        }
      },
      "outputs": [
        {
          "output_type": "execute_result",
          "data": {
            "text/html": [
              "<img src=\"https://scikit-learn.org/stable/_images/grid_search_cross_validation.png\"/>"
            ],
            "text/plain": [
              "<IPython.core.display.Image object>"
            ]
          },
          "metadata": {},
          "execution_count": 108
        }
      ],
      "source": [
        "from IPython.display import Image\n",
        "from IPython.core.display import HTML \n",
        "Image(url= \"https://scikit-learn.org/stable/_images/grid_search_cross_validation.png\")"
      ]
    },
    {
      "cell_type": "markdown",
      "id": "2df0f848-1a92-4afc-8a3e-ed61d0f19627",
      "metadata": {
        "id": "2df0f848-1a92-4afc-8a3e-ed61d0f19627"
      },
      "source": [
        "Viendo entonces, la imagen anterior, lo que se realizará es un proceso de entrenamiento y testing para cada pliegue con el fin de analizar la calidad de nuestra muestra de entrenamiento. Esto nos asegurará la generalidad de los datos de la muestra, o dicho de otra forma, que poseemos un dataset uniforme."
      ]
    },
    {
      "cell_type": "markdown",
      "id": "e1f35e94-1574-4618-9c95-450fd66eadf3",
      "metadata": {
        "id": "e1f35e94-1574-4618-9c95-450fd66eadf3"
      },
      "source": [
        "##### > R2"
      ]
    },
    {
      "cell_type": "code",
      "execution_count": 109,
      "id": "9bc9b41a-c524-408b-ad34-9d39c0636625",
      "metadata": {
        "id": "9bc9b41a-c524-408b-ad34-9d39c0636625",
        "outputId": "d3370814-4747-4065-aa7b-b473a9f958c4",
        "colab": {
          "base_uri": "https://localhost:8080/"
        }
      },
      "outputs": [
        {
          "output_type": "stream",
          "name": "stdout",
          "text": [
            "Metricas cross_validation [0.88877266 0.90773347]\n",
            "Precisión de 0.90 con una desviación estandar de 0.01\n"
          ]
        }
      ],
      "source": [
        "R2_scores = cross_val_score(lr, X_train, y_train, cv=2, scoring=\"r2\")\n",
        " \n",
        "print(\"Metricas cross_validation\", R2_scores)\n",
        "print(\"Precisión de %0.2f con una desviación estandar de %0.2f\" % (R2_scores.mean(), R2_scores.std()))"
      ]
    },
    {
      "cell_type": "markdown",
      "id": "4ad63e24-6f61-4bb5-bf27-a484edf2b27d",
      "metadata": {
        "id": "4ad63e24-6f61-4bb5-bf27-a484edf2b27d"
      },
      "source": [
        "> Solo para agregar al analisis, vamos a realizar lo mismo pero con cv=5"
      ]
    },
    {
      "cell_type": "code",
      "execution_count": 110,
      "id": "6aadfaf2-9cf9-4fd0-bf2c-2d0351e70cd9",
      "metadata": {
        "id": "6aadfaf2-9cf9-4fd0-bf2c-2d0351e70cd9",
        "outputId": "bc8dfe32-e7d0-4878-d1b1-ddc57f046d9d",
        "colab": {
          "base_uri": "https://localhost:8080/"
        }
      },
      "outputs": [
        {
          "output_type": "stream",
          "name": "stdout",
          "text": [
            "Metricas cross_validation [0.90015719 0.88139219 0.86217804 0.82587446 0.90803708]\n",
            "Precisión de 0.88 con una desviación estandar de 0.03\n"
          ]
        }
      ],
      "source": [
        "#Incremento el número de folds para analizar la precisión\n",
        "R2_scores = cross_val_score(lr, X_train, y_train, cv=5, scoring=\"r2\")\n",
        " \n",
        "print(\"Metricas cross_validation\", R2_scores)\n",
        "print(\"Precisión de %0.2f con una desviación estandar de %0.2f\" % (R2_scores.mean(), R2_scores.std()))"
      ]
    },
    {
      "cell_type": "markdown",
      "id": "313e7562-4cf3-4acb-8e92-0e750e2f1a01",
      "metadata": {
        "id": "313e7562-4cf3-4acb-8e92-0e750e2f1a01"
      },
      "source": [
        "##### > MAE"
      ]
    },
    {
      "cell_type": "code",
      "execution_count": 111,
      "id": "8bc05769-c275-413b-9b1c-4606aaa19a55",
      "metadata": {
        "id": "8bc05769-c275-413b-9b1c-4606aaa19a55",
        "outputId": "0947fcee-e462-4ac6-8fc8-3ab9d2c81f39",
        "colab": {
          "base_uri": "https://localhost:8080/"
        }
      },
      "outputs": [
        {
          "output_type": "stream",
          "name": "stdout",
          "text": [
            "Métricas cross_validation [-0.13549637 -0.09698359]\n",
            "Media de las métricas para MAE -0.11623997724695187\n"
          ]
        }
      ],
      "source": [
        "MAE_scores = cross_val_score(lr, X_train, y_train, cv=2, scoring=\"neg_mean_absolute_error\")\n",
        " \n",
        "print(\"Métricas cross_validation\", MAE_scores)\n",
        "print(\"Media de las métricas para MAE\",MAE_scores.mean())"
      ]
    },
    {
      "cell_type": "markdown",
      "id": "a7e5bfd4-3018-4290-a475-bacd853d2d65",
      "metadata": {
        "id": "a7e5bfd4-3018-4290-a475-bacd853d2d65"
      },
      "source": [
        "##### > MSE"
      ]
    },
    {
      "cell_type": "code",
      "execution_count": 112,
      "id": "26a1a2e9-9592-48ee-b195-7d1c65529f35",
      "metadata": {
        "id": "26a1a2e9-9592-48ee-b195-7d1c65529f35",
        "outputId": "e83ffb8b-352a-4ed8-9c78-b5ebb922acda",
        "colab": {
          "base_uri": "https://localhost:8080/"
        }
      },
      "outputs": [
        {
          "output_type": "stream",
          "name": "stdout",
          "text": [
            "Métricas cross_validation [-0.02578371 -0.01783757]\n",
            "Media de las métricas para MSE -0.021810639090987103\n"
          ]
        }
      ],
      "source": [
        "MSE_scores = cross_val_score(lr, X_train, y_train, cv=2, scoring=\"neg_mean_squared_error\")\n",
        " \n",
        "print(\"Métricas cross_validation\", MSE_scores)\n",
        "print(\"Media de las métricas para MSE\", MSE_scores.mean())"
      ]
    },
    {
      "cell_type": "markdown",
      "id": "8c45fe40-8008-4edd-8001-b9273fbec89d",
      "metadata": {
        "id": "8c45fe40-8008-4edd-8001-b9273fbec89d"
      },
      "source": [
        "##### > RMSE"
      ]
    },
    {
      "cell_type": "code",
      "execution_count": 113,
      "id": "afdb9997-5d5e-4966-a829-6894b62278dc",
      "metadata": {
        "id": "afdb9997-5d5e-4966-a829-6894b62278dc",
        "outputId": "f15ea608-5477-4fe9-c855-e580cbe902d9",
        "colab": {
          "base_uri": "https://localhost:8080/"
        }
      },
      "outputs": [
        {
          "output_type": "stream",
          "name": "stdout",
          "text": [
            "Métricas cross_validation [-0.16057305 -0.13355738]\n",
            "Media de las métricas para RMAE -0.1470652146859659\n"
          ]
        }
      ],
      "source": [
        "RMSE_scores = cross_val_score(lr, X_train, y_train, cv=2, scoring=\"neg_root_mean_squared_error\")\n",
        " \n",
        "print(\"Métricas cross_validation\", RMSE_scores)\n",
        "print(\"Media de las métricas para RMAE\", RMSE_scores.mean())"
      ]
    },
    {
      "cell_type": "markdown",
      "id": "b0bea286-6d09-4470-b9fa-37048f634738",
      "metadata": {
        "id": "b0bea286-6d09-4470-b9fa-37048f634738"
      },
      "source": [
        "#### Conclusiones sobre las metricas de cross-validation obtenidas\n",
        "\n",
        "Si observamos cada una de las métricas obtenidas, para cada métrica de estudio, podemos decir que no encontramos diferencias significativas entre los valores. Si esto hubiera sucedido, nos podría indicar la presencia de Overfitting en algún pliegue"
      ]
    },
    {
      "cell_type": "markdown",
      "source": [
        "## Agregando CO2 como variable de nuestro modelo\n",
        "\n",
        "Continuando con nuestro estudio, buscamos factores externos que expliquen este ascenso de temperatura. Uno de ellos es la huella de carbono, la cual representa las emisiones de gases de efecto invernadero procedentes de la actividad humana. Cada vez que viajamos en coche, cargamos el teléfono móvil o ponemos una lavadora, entre otras miles de rutinas, dejamos atrás una estela de gases que se acumulan en la atmósfera y sobrecalientan el planeta.\n",
        "\n",
        "Para ello volvemos a recurrir a la regresion, puntualmente a la regresión lineal múltiple."
      ],
      "metadata": {
        "id": "7C5JqxGfT7oi"
      },
      "id": "7C5JqxGfT7oi"
    },
    {
      "cell_type": "code",
      "source": [
        "url = 'https://raw.githubusercontent.com/jcorvalan93/CH_DataScience/main/CO2_anual.csv'\n",
        "co2 = pd.read_csv(url, sep=',', encoding='cp1252')\n",
        "co2.head()"
      ],
      "metadata": {
        "colab": {
          "base_uri": "https://localhost:8080/",
          "height": 206
        },
        "id": "kpkPK6OzVPxI",
        "outputId": "7bb15d9f-655c-40db-84f0-76d79d81f429"
      },
      "id": "kpkPK6OzVPxI",
      "execution_count": 121,
      "outputs": [
        {
          "output_type": "execute_result",
          "data": {
            "text/plain": [
              "   year  Emissions in billion metric tons\n",
              "0  1961                              9.42\n",
              "1  1962                              9.75\n",
              "2  1963                             10.27\n",
              "3  1964                             10.83\n",
              "4  1965                             11.32"
            ],
            "text/html": [
              "\n",
              "  <div id=\"df-102483c2-4b1c-474c-83f1-c235bef7b463\">\n",
              "    <div class=\"colab-df-container\">\n",
              "      <div>\n",
              "<style scoped>\n",
              "    .dataframe tbody tr th:only-of-type {\n",
              "        vertical-align: middle;\n",
              "    }\n",
              "\n",
              "    .dataframe tbody tr th {\n",
              "        vertical-align: top;\n",
              "    }\n",
              "\n",
              "    .dataframe thead th {\n",
              "        text-align: right;\n",
              "    }\n",
              "</style>\n",
              "<table border=\"1\" class=\"dataframe\">\n",
              "  <thead>\n",
              "    <tr style=\"text-align: right;\">\n",
              "      <th></th>\n",
              "      <th>year</th>\n",
              "      <th>Emissions in billion metric tons</th>\n",
              "    </tr>\n",
              "  </thead>\n",
              "  <tbody>\n",
              "    <tr>\n",
              "      <th>0</th>\n",
              "      <td>1961</td>\n",
              "      <td>9.42</td>\n",
              "    </tr>\n",
              "    <tr>\n",
              "      <th>1</th>\n",
              "      <td>1962</td>\n",
              "      <td>9.75</td>\n",
              "    </tr>\n",
              "    <tr>\n",
              "      <th>2</th>\n",
              "      <td>1963</td>\n",
              "      <td>10.27</td>\n",
              "    </tr>\n",
              "    <tr>\n",
              "      <th>3</th>\n",
              "      <td>1964</td>\n",
              "      <td>10.83</td>\n",
              "    </tr>\n",
              "    <tr>\n",
              "      <th>4</th>\n",
              "      <td>1965</td>\n",
              "      <td>11.32</td>\n",
              "    </tr>\n",
              "  </tbody>\n",
              "</table>\n",
              "</div>\n",
              "      <button class=\"colab-df-convert\" onclick=\"convertToInteractive('df-102483c2-4b1c-474c-83f1-c235bef7b463')\"\n",
              "              title=\"Convert this dataframe to an interactive table.\"\n",
              "              style=\"display:none;\">\n",
              "        \n",
              "  <svg xmlns=\"http://www.w3.org/2000/svg\" height=\"24px\"viewBox=\"0 0 24 24\"\n",
              "       width=\"24px\">\n",
              "    <path d=\"M0 0h24v24H0V0z\" fill=\"none\"/>\n",
              "    <path d=\"M18.56 5.44l.94 2.06.94-2.06 2.06-.94-2.06-.94-.94-2.06-.94 2.06-2.06.94zm-11 1L8.5 8.5l.94-2.06 2.06-.94-2.06-.94L8.5 2.5l-.94 2.06-2.06.94zm10 10l.94 2.06.94-2.06 2.06-.94-2.06-.94-.94-2.06-.94 2.06-2.06.94z\"/><path d=\"M17.41 7.96l-1.37-1.37c-.4-.4-.92-.59-1.43-.59-.52 0-1.04.2-1.43.59L10.3 9.45l-7.72 7.72c-.78.78-.78 2.05 0 2.83L4 21.41c.39.39.9.59 1.41.59.51 0 1.02-.2 1.41-.59l7.78-7.78 2.81-2.81c.8-.78.8-2.07 0-2.86zM5.41 20L4 18.59l7.72-7.72 1.47 1.35L5.41 20z\"/>\n",
              "  </svg>\n",
              "      </button>\n",
              "      \n",
              "  <style>\n",
              "    .colab-df-container {\n",
              "      display:flex;\n",
              "      flex-wrap:wrap;\n",
              "      gap: 12px;\n",
              "    }\n",
              "\n",
              "    .colab-df-convert {\n",
              "      background-color: #E8F0FE;\n",
              "      border: none;\n",
              "      border-radius: 50%;\n",
              "      cursor: pointer;\n",
              "      display: none;\n",
              "      fill: #1967D2;\n",
              "      height: 32px;\n",
              "      padding: 0 0 0 0;\n",
              "      width: 32px;\n",
              "    }\n",
              "\n",
              "    .colab-df-convert:hover {\n",
              "      background-color: #E2EBFA;\n",
              "      box-shadow: 0px 1px 2px rgba(60, 64, 67, 0.3), 0px 1px 3px 1px rgba(60, 64, 67, 0.15);\n",
              "      fill: #174EA6;\n",
              "    }\n",
              "\n",
              "    [theme=dark] .colab-df-convert {\n",
              "      background-color: #3B4455;\n",
              "      fill: #D2E3FC;\n",
              "    }\n",
              "\n",
              "    [theme=dark] .colab-df-convert:hover {\n",
              "      background-color: #434B5C;\n",
              "      box-shadow: 0px 1px 3px 1px rgba(0, 0, 0, 0.15);\n",
              "      filter: drop-shadow(0px 1px 2px rgba(0, 0, 0, 0.3));\n",
              "      fill: #FFFFFF;\n",
              "    }\n",
              "  </style>\n",
              "\n",
              "      <script>\n",
              "        const buttonEl =\n",
              "          document.querySelector('#df-102483c2-4b1c-474c-83f1-c235bef7b463 button.colab-df-convert');\n",
              "        buttonEl.style.display =\n",
              "          google.colab.kernel.accessAllowed ? 'block' : 'none';\n",
              "\n",
              "        async function convertToInteractive(key) {\n",
              "          const element = document.querySelector('#df-102483c2-4b1c-474c-83f1-c235bef7b463');\n",
              "          const dataTable =\n",
              "            await google.colab.kernel.invokeFunction('convertToInteractive',\n",
              "                                                     [key], {});\n",
              "          if (!dataTable) return;\n",
              "\n",
              "          const docLinkHtml = 'Like what you see? Visit the ' +\n",
              "            '<a target=\"_blank\" href=https://colab.research.google.com/notebooks/data_table.ipynb>data table notebook</a>'\n",
              "            + ' to learn more about interactive tables.';\n",
              "          element.innerHTML = '';\n",
              "          dataTable['output_type'] = 'display_data';\n",
              "          await google.colab.output.renderOutput(dataTable, element);\n",
              "          const docLink = document.createElement('div');\n",
              "          docLink.innerHTML = docLinkHtml;\n",
              "          element.appendChild(docLink);\n",
              "        }\n",
              "      </script>\n",
              "    </div>\n",
              "  </div>\n",
              "  "
            ]
          },
          "metadata": {},
          "execution_count": 121
        }
      ]
    },
    {
      "cell_type": "code",
      "source": [
        "plt.scatter(co2.year, co2['Emissions in billion metric tons'])"
      ],
      "metadata": {
        "colab": {
          "base_uri": "https://localhost:8080/",
          "height": 282
        },
        "id": "2Mh39y1kZZFh",
        "outputId": "71bcc9fe-c4d3-4a94-8812-098e4e91dcf4"
      },
      "id": "2Mh39y1kZZFh",
      "execution_count": 127,
      "outputs": [
        {
          "output_type": "execute_result",
          "data": {
            "text/plain": [
              "<matplotlib.collections.PathCollection at 0x7f333c78f750>"
            ]
          },
          "metadata": {},
          "execution_count": 127
        },
        {
          "output_type": "display_data",
          "data": {
            "text/plain": [
              "<Figure size 432x288 with 1 Axes>"
            ],
            "image/png": "[encoded data removed]"
          },
          "metadata": {
            "needs_background": "light"
          }
        }
      ]
    },
    {
      "cell_type": "code",
      "source": [
        "co2[['year', 'Emissions in billion metric tons']].corr()"
      ],
      "metadata": {
        "colab": {
          "base_uri": "https://localhost:8080/",
          "height": 112
        },
        "id": "ho-gcudPZoXj",
        "outputId": "5a98cc07-c26f-4c36-fb90-db3080df705c"
      },
      "id": "ho-gcudPZoXj",
      "execution_count": 128,
      "outputs": [
        {
          "output_type": "execute_result",
          "data": {
            "text/plain": [
              "                                      year  Emissions in billion metric tons\n",
              "year                              1.000000                          0.987105\n",
              "Emissions in billion metric tons  0.987105                          1.000000"
            ],
            "text/html": [
              "\n",
              "  <div id=\"df-7de9431e-9f57-47b4-99db-5730df142ff3\">\n",
              "    <div class=\"colab-df-container\">\n",
              "      <div>\n",
              "<style scoped>\n",
              "    .dataframe tbody tr th:only-of-type {\n",
              "        vertical-align: middle;\n",
              "    }\n",
              "\n",
              "    .dataframe tbody tr th {\n",
              "        vertical-align: top;\n",
              "    }\n",
              "\n",
              "    .dataframe thead th {\n",
              "        text-align: right;\n",
              "    }\n",
              "</style>\n",
              "<table border=\"1\" class=\"dataframe\">\n",
              "  <thead>\n",
              "    <tr style=\"text-align: right;\">\n",
              "      <th></th>\n",
              "      <th>year</th>\n",
              "      <th>Emissions in billion metric tons</th>\n",
              "    </tr>\n",
              "  </thead>\n",
              "  <tbody>\n",
              "    <tr>\n",
              "      <th>year</th>\n",
              "      <td>1.000000</td>\n",
              "      <td>0.987105</td>\n",
              "    </tr>\n",
              "    <tr>\n",
              "      <th>Emissions in billion metric tons</th>\n",
              "      <td>0.987105</td>\n",
              "      <td>1.000000</td>\n",
              "    </tr>\n",
              "  </tbody>\n",
              "</table>\n",
              "</div>\n",
              "      <button class=\"colab-df-convert\" onclick=\"convertToInteractive('df-7de9431e-9f57-47b4-99db-5730df142ff3')\"\n",
              "              title=\"Convert this dataframe to an interactive table.\"\n",
              "              style=\"display:none;\">\n",
              "        \n",
              "  <svg xmlns=\"http://www.w3.org/2000/svg\" height=\"24px\"viewBox=\"0 0 24 24\"\n",
              "       width=\"24px\">\n",
              "    <path d=\"M0 0h24v24H0V0z\" fill=\"none\"/>\n",
              "    <path d=\"M18.56 5.44l.94 2.06.94-2.06 2.06-.94-2.06-.94-.94-2.06-.94 2.06-2.06.94zm-11 1L8.5 8.5l.94-2.06 2.06-.94-2.06-.94L8.5 2.5l-.94 2.06-2.06.94zm10 10l.94 2.06.94-2.06 2.06-.94-2.06-.94-.94-2.06-.94 2.06-2.06.94z\"/><path d=\"M17.41 7.96l-1.37-1.37c-.4-.4-.92-.59-1.43-.59-.52 0-1.04.2-1.43.59L10.3 9.45l-7.72 7.72c-.78.78-.78 2.05 0 2.83L4 21.41c.39.39.9.59 1.41.59.51 0 1.02-.2 1.41-.59l7.78-7.78 2.81-2.81c.8-.78.8-2.07 0-2.86zM5.41 20L4 18.59l7.72-7.72 1.47 1.35L5.41 20z\"/>\n",
              "  </svg>\n",
              "      </button>\n",
              "      \n",
              "  <style>\n",
              "    .colab-df-container {\n",
              "      display:flex;\n",
              "      flex-wrap:wrap;\n",
              "      gap: 12px;\n",
              "    }\n",
              "\n",
              "    .colab-df-convert {\n",
              "      background-color: #E8F0FE;\n",
              "      border: none;\n",
              "      border-radius: 50%;\n",
              "      cursor: pointer;\n",
              "      display: none;\n",
              "      fill: #1967D2;\n",
              "      height: 32px;\n",
              "      padding: 0 0 0 0;\n",
              "      width: 32px;\n",
              "    }\n",
              "\n",
              "    .colab-df-convert:hover {\n",
              "      background-color: #E2EBFA;\n",
              "      box-shadow: 0px 1px 2px rgba(60, 64, 67, 0.3), 0px 1px 3px 1px rgba(60, 64, 67, 0.15);\n",
              "      fill: #174EA6;\n",
              "    }\n",
              "\n",
              "    [theme=dark] .colab-df-convert {\n",
              "      background-color: #3B4455;\n",
              "      fill: #D2E3FC;\n",
              "    }\n",
              "\n",
              "    [theme=dark] .colab-df-convert:hover {\n",
              "      background-color: #434B5C;\n",
              "      box-shadow: 0px 1px 3px 1px rgba(0, 0, 0, 0.15);\n",
              "      filter: drop-shadow(0px 1px 2px rgba(0, 0, 0, 0.3));\n",
              "      fill: #FFFFFF;\n",
              "    }\n",
              "  </style>\n",
              "\n",
              "      <script>\n",
              "        const buttonEl =\n",
              "          document.querySelector('#df-7de9431e-9f57-47b4-99db-5730df142ff3 button.colab-df-convert');\n",
              "        buttonEl.style.display =\n",
              "          google.colab.kernel.accessAllowed ? 'block' : 'none';\n",
              "\n",
              "        async function convertToInteractive(key) {\n",
              "          const element = document.querySelector('#df-7de9431e-9f57-47b4-99db-5730df142ff3');\n",
              "          const dataTable =\n",
              "            await google.colab.kernel.invokeFunction('convertToInteractive',\n",
              "                                                     [key], {});\n",
              "          if (!dataTable) return;\n",
              "\n",
              "          const docLinkHtml = 'Like what you see? Visit the ' +\n",
              "            '<a target=\"_blank\" href=https://colab.research.google.com/notebooks/data_table.ipynb>data table notebook</a>'\n",
              "            + ' to learn more about interactive tables.';\n",
              "          element.innerHTML = '';\n",
              "          dataTable['output_type'] = 'display_data';\n",
              "          await google.colab.output.renderOutput(dataTable, element);\n",
              "          const docLink = document.createElement('div');\n",
              "          docLink.innerHTML = docLinkHtml;\n",
              "          element.appendChild(docLink);\n",
              "        }\n",
              "      </script>\n",
              "    </div>\n",
              "  </div>\n",
              "  "
            ]
          },
          "metadata": {},
          "execution_count": 128
        }
      ]
    },
    {
      "cell_type": "code",
      "source": [
        "co2[['year', 'Emissions in billion metric tons']].corr(method='spearman')"
      ],
      "metadata": {
        "colab": {
          "base_uri": "https://localhost:8080/",
          "height": 112
        },
        "id": "Y5qJCkRfZ4H9",
        "outputId": "7b906b54-2488-4bf1-a5ef-a245a99df3bf"
      },
      "id": "Y5qJCkRfZ4H9",
      "execution_count": 129,
      "outputs": [
        {
          "output_type": "execute_result",
          "data": {
            "text/plain": [
              "                                      year  Emissions in billion metric tons\n",
              "year                              1.000000                          0.997195\n",
              "Emissions in billion metric tons  0.997195                          1.000000"
            ],
            "text/html": [
              "\n",
              "  <div id=\"df-ba47a9dc-a47c-4eb7-9143-7e1aa88f7baa\">\n",
              "    <div class=\"colab-df-container\">\n",
              "      <div>\n",
              "<style scoped>\n",
              "    .dataframe tbody tr th:only-of-type {\n",
              "        vertical-align: middle;\n",
              "    }\n",
              "\n",
              "    .dataframe tbody tr th {\n",
              "        vertical-align: top;\n",
              "    }\n",
              "\n",
              "    .dataframe thead th {\n",
              "        text-align: right;\n",
              "    }\n",
              "</style>\n",
              "<table border=\"1\" class=\"dataframe\">\n",
              "  <thead>\n",
              "    <tr style=\"text-align: right;\">\n",
              "      <th></th>\n",
              "      <th>year</th>\n",
              "      <th>Emissions in billion metric tons</th>\n",
              "    </tr>\n",
              "  </thead>\n",
              "  <tbody>\n",
              "    <tr>\n",
              "      <th>year</th>\n",
              "      <td>1.000000</td>\n",
              "      <td>0.997195</td>\n",
              "    </tr>\n",
              "    <tr>\n",
              "      <th>Emissions in billion metric tons</th>\n",
              "      <td>0.997195</td>\n",
              "      <td>1.000000</td>\n",
              "    </tr>\n",
              "  </tbody>\n",
              "</table>\n",
              "</div>\n",
              "      <button class=\"colab-df-convert\" onclick=\"convertToInteractive('df-ba47a9dc-a47c-4eb7-9143-7e1aa88f7baa')\"\n",
              "              title=\"Convert this dataframe to an interactive table.\"\n",
              "              style=\"display:none;\">\n",
              "        \n",
              "  <svg xmlns=\"http://www.w3.org/2000/svg\" height=\"24px\"viewBox=\"0 0 24 24\"\n",
              "       width=\"24px\">\n",
              "    <path d=\"M0 0h24v24H0V0z\" fill=\"none\"/>\n",
              "    <path d=\"M18.56 5.44l.94 2.06.94-2.06 2.06-.94-2.06-.94-.94-2.06-.94 2.06-2.06.94zm-11 1L8.5 8.5l.94-2.06 2.06-.94-2.06-.94L8.5 2.5l-.94 2.06-2.06.94zm10 10l.94 2.06.94-2.06 2.06-.94-2.06-.94-.94-2.06-.94 2.06-2.06.94z\"/><path d=\"M17.41 7.96l-1.37-1.37c-.4-.4-.92-.59-1.43-.59-.52 0-1.04.2-1.43.59L10.3 9.45l-7.72 7.72c-.78.78-.78 2.05 0 2.83L4 21.41c.39.39.9.59 1.41.59.51 0 1.02-.2 1.41-.59l7.78-7.78 2.81-2.81c.8-.78.8-2.07 0-2.86zM5.41 20L4 18.59l7.72-7.72 1.47 1.35L5.41 20z\"/>\n",
              "  </svg>\n",
              "      </button>\n",
              "      \n",
              "  <style>\n",
              "    .colab-df-container {\n",
              "      display:flex;\n",
              "      flex-wrap:wrap;\n",
              "      gap: 12px;\n",
              "    }\n",
              "\n",
              "    .colab-df-convert {\n",
              "      background-color: #E8F0FE;\n",
              "      border: none;\n",
              "      border-radius: 50%;\n",
              "      cursor: pointer;\n",
              "      display: none;\n",
              "      fill: #1967D2;\n",
              "      height: 32px;\n",
              "      padding: 0 0 0 0;\n",
              "      width: 32px;\n",
              "    }\n",
              "\n",
              "    .colab-df-convert:hover {\n",
              "      background-color: #E2EBFA;\n",
              "      box-shadow: 0px 1px 2px rgba(60, 64, 67, 0.3), 0px 1px 3px 1px rgba(60, 64, 67, 0.15);\n",
              "      fill: #174EA6;\n",
              "    }\n",
              "\n",
              "    [theme=dark] .colab-df-convert {\n",
              "      background-color: #3B4455;\n",
              "      fill: #D2E3FC;\n",
              "    }\n",
              "\n",
              "    [theme=dark] .colab-df-convert:hover {\n",
              "      background-color: #434B5C;\n",
              "      box-shadow: 0px 1px 3px 1px rgba(0, 0, 0, 0.15);\n",
              "      filter: drop-shadow(0px 1px 2px rgba(0, 0, 0, 0.3));\n",
              "      fill: #FFFFFF;\n",
              "    }\n",
              "  </style>\n",
              "\n",
              "      <script>\n",
              "        const buttonEl =\n",
              "          document.querySelector('#df-ba47a9dc-a47c-4eb7-9143-7e1aa88f7baa button.colab-df-convert');\n",
              "        buttonEl.style.display =\n",
              "          google.colab.kernel.accessAllowed ? 'block' : 'none';\n",
              "\n",
              "        async function convertToInteractive(key) {\n",
              "          const element = document.querySelector('#df-ba47a9dc-a47c-4eb7-9143-7e1aa88f7baa');\n",
              "          const dataTable =\n",
              "            await google.colab.kernel.invokeFunction('convertToInteractive',\n",
              "                                                     [key], {});\n",
              "          if (!dataTable) return;\n",
              "\n",
              "          const docLinkHtml = 'Like what you see? Visit the ' +\n",
              "            '<a target=\"_blank\" href=https://colab.research.google.com/notebooks/data_table.ipynb>data table notebook</a>'\n",
              "            + ' to learn more about interactive tables.';\n",
              "          element.innerHTML = '';\n",
              "          dataTable['output_type'] = 'display_data';\n",
              "          await google.colab.output.renderOutput(dataTable, element);\n",
              "          const docLink = document.createElement('div');\n",
              "          docLink.innerHTML = docLinkHtml;\n",
              "          element.appendChild(docLink);\n",
              "        }\n",
              "      </script>\n",
              "    </div>\n",
              "  </div>\n",
              "  "
            ]
          },
          "metadata": {},
          "execution_count": 129
        }
      ]
    },
    {
      "cell_type": "code",
      "source": [
        "time_series2 = pd.concat([time_series, co2['Emissions in billion metric tons']], axis=1)\n",
        "time_series2.head()"
      ],
      "metadata": {
        "colab": {
          "base_uri": "https://localhost:8080/",
          "height": 206
        },
        "id": "mDKymJdVWfMP",
        "outputId": "3baa3858-88d7-4dac-b92d-7a2a70e6e0bd"
      },
      "id": "mDKymJdVWfMP",
      "execution_count": 126,
      "outputs": [
        {
          "output_type": "execute_result",
          "data": {
            "text/plain": [
              "   year  temperature_change  Emissions in billion metric tons\n",
              "0  1961            0.143032                              9.42\n",
              "1  1962           -0.028398                              9.75\n",
              "2  1963           -0.026297                             10.27\n",
              "3  1964           -0.122865                             10.83\n",
              "4  1965           -0.224154                             11.32"
            ],
            "text/html": [
              "\n",
              "  <div id=\"df-3ded0078-d8f6-43cd-a316-0d0dea4b2760\">\n",
              "    <div class=\"colab-df-container\">\n",
              "      <div>\n",
              "<style scoped>\n",
              "    .dataframe tbody tr th:only-of-type {\n",
              "        vertical-align: middle;\n",
              "    }\n",
              "\n",
              "    .dataframe tbody tr th {\n",
              "        vertical-align: top;\n",
              "    }\n",
              "\n",
              "    .dataframe thead th {\n",
              "        text-align: right;\n",
              "    }\n",
              "</style>\n",
              "<table border=\"1\" class=\"dataframe\">\n",
              "  <thead>\n",
              "    <tr style=\"text-align: right;\">\n",
              "      <th></th>\n",
              "      <th>year</th>\n",
              "      <th>temperature_change</th>\n",
              "      <th>Emissions in billion metric tons</th>\n",
              "    </tr>\n",
              "  </thead>\n",
              "  <tbody>\n",
              "    <tr>\n",
              "      <th>0</th>\n",
              "      <td>1961</td>\n",
              "      <td>0.143032</td>\n",
              "      <td>9.42</td>\n",
              "    </tr>\n",
              "    <tr>\n",
              "      <th>1</th>\n",
              "      <td>1962</td>\n",
              "      <td>-0.028398</td>\n",
              "      <td>9.75</td>\n",
              "    </tr>\n",
              "    <tr>\n",
              "      <th>2</th>\n",
              "      <td>1963</td>\n",
              "      <td>-0.026297</td>\n",
              "      <td>10.27</td>\n",
              "    </tr>\n",
              "    <tr>\n",
              "      <th>3</th>\n",
              "      <td>1964</td>\n",
              "      <td>-0.122865</td>\n",
              "      <td>10.83</td>\n",
              "    </tr>\n",
              "    <tr>\n",
              "      <th>4</th>\n",
              "      <td>1965</td>\n",
              "      <td>-0.224154</td>\n",
              "      <td>11.32</td>\n",
              "    </tr>\n",
              "  </tbody>\n",
              "</table>\n",
              "</div>\n",
              "      <button class=\"colab-df-convert\" onclick=\"convertToInteractive('df-3ded0078-d8f6-43cd-a316-0d0dea4b2760')\"\n",
              "              title=\"Convert this dataframe to an interactive table.\"\n",
              "              style=\"display:none;\">\n",
              "        \n",
              "  <svg xmlns=\"http://www.w3.org/2000/svg\" height=\"24px\"viewBox=\"0 0 24 24\"\n",
              "       width=\"24px\">\n",
              "    <path d=\"M0 0h24v24H0V0z\" fill=\"none\"/>\n",
              "    <path d=\"M18.56 5.44l.94 2.06.94-2.06 2.06-.94-2.06-.94-.94-2.06-.94 2.06-2.06.94zm-11 1L8.5 8.5l.94-2.06 2.06-.94-2.06-.94L8.5 2.5l-.94 2.06-2.06.94zm10 10l.94 2.06.94-2.06 2.06-.94-2.06-.94-.94-2.06-.94 2.06-2.06.94z\"/><path d=\"M17.41 7.96l-1.37-1.37c-.4-.4-.92-.59-1.43-.59-.52 0-1.04.2-1.43.59L10.3 9.45l-7.72 7.72c-.78.78-.78 2.05 0 2.83L4 21.41c.39.39.9.59 1.41.59.51 0 1.02-.2 1.41-.59l7.78-7.78 2.81-2.81c.8-.78.8-2.07 0-2.86zM5.41 20L4 18.59l7.72-7.72 1.47 1.35L5.41 20z\"/>\n",
              "  </svg>\n",
              "      </button>\n",
              "      \n",
              "  <style>\n",
              "    .colab-df-container {\n",
              "      display:flex;\n",
              "      flex-wrap:wrap;\n",
              "      gap: 12px;\n",
              "    }\n",
              "\n",
              "    .colab-df-convert {\n",
              "      background-color: #E8F0FE;\n",
              "      border: none;\n",
              "      border-radius: 50%;\n",
              "      cursor: pointer;\n",
              "      display: none;\n",
              "      fill: #1967D2;\n",
              "      height: 32px;\n",
              "      padding: 0 0 0 0;\n",
              "      width: 32px;\n",
              "    }\n",
              "\n",
              "    .colab-df-convert:hover {\n",
              "      background-color: #E2EBFA;\n",
              "      box-shadow: 0px 1px 2px rgba(60, 64, 67, 0.3), 0px 1px 3px 1px rgba(60, 64, 67, 0.15);\n",
              "      fill: #174EA6;\n",
              "    }\n",
              "\n",
              "    [theme=dark] .colab-df-convert {\n",
              "      background-color: #3B4455;\n",
              "      fill: #D2E3FC;\n",
              "    }\n",
              "\n",
              "    [theme=dark] .colab-df-convert:hover {\n",
              "      background-color: #434B5C;\n",
              "      box-shadow: 0px 1px 3px 1px rgba(0, 0, 0, 0.15);\n",
              "      filter: drop-shadow(0px 1px 2px rgba(0, 0, 0, 0.3));\n",
              "      fill: #FFFFFF;\n",
              "    }\n",
              "  </style>\n",
              "\n",
              "      <script>\n",
              "        const buttonEl =\n",
              "          document.querySelector('#df-3ded0078-d8f6-43cd-a316-0d0dea4b2760 button.colab-df-convert');\n",
              "        buttonEl.style.display =\n",
              "          google.colab.kernel.accessAllowed ? 'block' : 'none';\n",
              "\n",
              "        async function convertToInteractive(key) {\n",
              "          const element = document.querySelector('#df-3ded0078-d8f6-43cd-a316-0d0dea4b2760');\n",
              "          const dataTable =\n",
              "            await google.colab.kernel.invokeFunction('convertToInteractive',\n",
              "                                                     [key], {});\n",
              "          if (!dataTable) return;\n",
              "\n",
              "          const docLinkHtml = 'Like what you see? Visit the ' +\n",
              "            '<a target=\"_blank\" href=https://colab.research.google.com/notebooks/data_table.ipynb>data table notebook</a>'\n",
              "            + ' to learn more about interactive tables.';\n",
              "          element.innerHTML = '';\n",
              "          dataTable['output_type'] = 'display_data';\n",
              "          await google.colab.output.renderOutput(dataTable, element);\n",
              "          const docLink = document.createElement('div');\n",
              "          docLink.innerHTML = docLinkHtml;\n",
              "          element.appendChild(docLink);\n",
              "        }\n",
              "      </script>\n",
              "    </div>\n",
              "  </div>\n",
              "  "
            ]
          },
          "metadata": {},
          "execution_count": 126
        }
      ]
    },
    {
      "cell_type": "code",
      "source": [
        "time_series2[['temperature_change', 'Emissions in billion metric tons']].corr()"
      ],
      "metadata": {
        "colab": {
          "base_uri": "https://localhost:8080/",
          "height": 112
        },
        "id": "85L5ntCjZN9U",
        "outputId": "fbbdc2dd-54f7-4345-ae1e-b16ec0dc729f"
      },
      "id": "85L5ntCjZN9U",
      "execution_count": 130,
      "outputs": [
        {
          "output_type": "execute_result",
          "data": {
            "text/plain": [
              "                                  temperature_change  \\\n",
              "temperature_change                          1.000000   \n",
              "Emissions in billion metric tons            0.926206   \n",
              "\n",
              "                                  Emissions in billion metric tons  \n",
              "temperature_change                                        0.926206  \n",
              "Emissions in billion metric tons                          1.000000  "
            ],
            "text/html": [
              "\n",
              "  <div id=\"df-01237ff1-60dd-4b50-b3d2-5dc4da4da479\">\n",
              "    <div class=\"colab-df-container\">\n",
              "      <div>\n",
              "<style scoped>\n",
              "    .dataframe tbody tr th:only-of-type {\n",
              "        vertical-align: middle;\n",
              "    }\n",
              "\n",
              "    .dataframe tbody tr th {\n",
              "        vertical-align: top;\n",
              "    }\n",
              "\n",
              "    .dataframe thead th {\n",
              "        text-align: right;\n",
              "    }\n",
              "</style>\n",
              "<table border=\"1\" class=\"dataframe\">\n",
              "  <thead>\n",
              "    <tr style=\"text-align: right;\">\n",
              "      <th></th>\n",
              "      <th>temperature_change</th>\n",
              "      <th>Emissions in billion metric tons</th>\n",
              "    </tr>\n",
              "  </thead>\n",
              "  <tbody>\n",
              "    <tr>\n",
              "      <th>temperature_change</th>\n",
              "      <td>1.000000</td>\n",
              "      <td>0.926206</td>\n",
              "    </tr>\n",
              "    <tr>\n",
              "      <th>Emissions in billion metric tons</th>\n",
              "      <td>0.926206</td>\n",
              "      <td>1.000000</td>\n",
              "    </tr>\n",
              "  </tbody>\n",
              "</table>\n",
              "</div>\n",
              "      <button class=\"colab-df-convert\" onclick=\"convertToInteractive('df-01237ff1-60dd-4b50-b3d2-5dc4da4da479')\"\n",
              "              title=\"Convert this dataframe to an interactive table.\"\n",
              "              style=\"display:none;\">\n",
              "        \n",
              "  <svg xmlns=\"http://www.w3.org/2000/svg\" height=\"24px\"viewBox=\"0 0 24 24\"\n",
              "       width=\"24px\">\n",
              "    <path d=\"M0 0h24v24H0V0z\" fill=\"none\"/>\n",
              "    <path d=\"M18.56 5.44l.94 2.06.94-2.06 2.06-.94-2.06-.94-.94-2.06-.94 2.06-2.06.94zm-11 1L8.5 8.5l.94-2.06 2.06-.94-2.06-.94L8.5 2.5l-.94 2.06-2.06.94zm10 10l.94 2.06.94-2.06 2.06-.94-2.06-.94-.94-2.06-.94 2.06-2.06.94z\"/><path d=\"M17.41 7.96l-1.37-1.37c-.4-.4-.92-.59-1.43-.59-.52 0-1.04.2-1.43.59L10.3 9.45l-7.72 7.72c-.78.78-.78 2.05 0 2.83L4 21.41c.39.39.9.59 1.41.59.51 0 1.02-.2 1.41-.59l7.78-7.78 2.81-2.81c.8-.78.8-2.07 0-2.86zM5.41 20L4 18.59l7.72-7.72 1.47 1.35L5.41 20z\"/>\n",
              "  </svg>\n",
              "      </button>\n",
              "      \n",
              "  <style>\n",
              "    .colab-df-container {\n",
              "      display:flex;\n",
              "      flex-wrap:wrap;\n",
              "      gap: 12px;\n",
              "    }\n",
              "\n",
              "    .colab-df-convert {\n",
              "      background-color: #E8F0FE;\n",
              "      border: none;\n",
              "      border-radius: 50%;\n",
              "      cursor: pointer;\n",
              "      display: none;\n",
              "      fill: #1967D2;\n",
              "      height: 32px;\n",
              "      padding: 0 0 0 0;\n",
              "      width: 32px;\n",
              "    }\n",
              "\n",
              "    .colab-df-convert:hover {\n",
              "      background-color: #E2EBFA;\n",
              "      box-shadow: 0px 1px 2px rgba(60, 64, 67, 0.3), 0px 1px 3px 1px rgba(60, 64, 67, 0.15);\n",
              "      fill: #174EA6;\n",
              "    }\n",
              "\n",
              "    [theme=dark] .colab-df-convert {\n",
              "      background-color: #3B4455;\n",
              "      fill: #D2E3FC;\n",
              "    }\n",
              "\n",
              "    [theme=dark] .colab-df-convert:hover {\n",
              "      background-color: #434B5C;\n",
              "      box-shadow: 0px 1px 3px 1px rgba(0, 0, 0, 0.15);\n",
              "      filter: drop-shadow(0px 1px 2px rgba(0, 0, 0, 0.3));\n",
              "      fill: #FFFFFF;\n",
              "    }\n",
              "  </style>\n",
              "\n",
              "      <script>\n",
              "        const buttonEl =\n",
              "          document.querySelector('#df-01237ff1-60dd-4b50-b3d2-5dc4da4da479 button.colab-df-convert');\n",
              "        buttonEl.style.display =\n",
              "          google.colab.kernel.accessAllowed ? 'block' : 'none';\n",
              "\n",
              "        async function convertToInteractive(key) {\n",
              "          const element = document.querySelector('#df-01237ff1-60dd-4b50-b3d2-5dc4da4da479');\n",
              "          const dataTable =\n",
              "            await google.colab.kernel.invokeFunction('convertToInteractive',\n",
              "                                                     [key], {});\n",
              "          if (!dataTable) return;\n",
              "\n",
              "          const docLinkHtml = 'Like what you see? Visit the ' +\n",
              "            '<a target=\"_blank\" href=https://colab.research.google.com/notebooks/data_table.ipynb>data table notebook</a>'\n",
              "            + ' to learn more about interactive tables.';\n",
              "          element.innerHTML = '';\n",
              "          dataTable['output_type'] = 'display_data';\n",
              "          await google.colab.output.renderOutput(dataTable, element);\n",
              "          const docLink = document.createElement('div');\n",
              "          docLink.innerHTML = docLinkHtml;\n",
              "          element.appendChild(docLink);\n",
              "        }\n",
              "      </script>\n",
              "    </div>\n",
              "  </div>\n",
              "  "
            ]
          },
          "metadata": {},
          "execution_count": 130
        }
      ]
    },
    {
      "cell_type": "markdown",
      "source": [
        "> Agregamos a este nuevo dataframe una columna target con una formula matematica, de modo que represente un modelo de regresión."
      ],
      "metadata": {
        "id": "CuAQuWaKaagG"
      },
      "id": "CuAQuWaKaagG"
    },
    {
      "cell_type": "code",
      "source": [
        "from sklearn.preprocessing import StandardScaler\n",
        "\n",
        "time_series2.rename(columns={'temperature_change':'tmp_chg', 'Emissions in billion metric tons':'co2'}, inplace=True)\n",
        "num = ['year', 'tmp_chg', 'co2']\n",
        "time_series2[num] = StandardScaler().fit_transform(time_series2[num])\n",
        "\n",
        "time_series2['target'] = 2*time_series2['tmp_chg'] + 3*time_series2['co2'] + (time_series2['year']/(2*time_series2['tmp_chg']**2 + 3*time_series2['co2']**2))\n",
        "time_series2.head()"
      ],
      "metadata": {
        "colab": {
          "base_uri": "https://localhost:8080/",
          "height": 206
        },
        "id": "2gfe-GNXa3-7",
        "outputId": "a484a3cf-a5ae-4ba4-e498-9e1bb9a9049c"
      },
      "id": "2gfe-GNXa3-7",
      "execution_count": 157,
      "outputs": [
        {
          "output_type": "execute_result",
          "data": {
            "text/plain": [
              "       year   tmp_chg       co2    target\n",
              "0 -1.702939 -0.695447 -1.729446 -6.750551\n",
              "1 -1.644217 -1.059969 -1.687310 -7.334278\n",
              "2 -1.585495 -1.055503 -1.620913 -7.130567\n",
              "3 -1.526773 -1.260842 -1.549410 -7.316980\n",
              "4 -1.468051 -1.476220 -1.486844 -7.546545"
            ],
            "text/html": [
              "\n",
              "  <div id=\"df-c8e72147-202e-4631-8655-ba7558930815\">\n",
              "    <div class=\"colab-df-container\">\n",
              "      <div>\n",
              "<style scoped>\n",
              "    .dataframe tbody tr th:only-of-type {\n",
              "        vertical-align: middle;\n",
              "    }\n",
              "\n",
              "    .dataframe tbody tr th {\n",
              "        vertical-align: top;\n",
              "    }\n",
              "\n",
              "    .dataframe thead th {\n",
              "        text-align: right;\n",
              "    }\n",
              "</style>\n",
              "<table border=\"1\" class=\"dataframe\">\n",
              "  <thead>\n",
              "    <tr style=\"text-align: right;\">\n",
              "      <th></th>\n",
              "      <th>year</th>\n",
              "      <th>tmp_chg</th>\n",
              "      <th>co2</th>\n",
              "      <th>target</th>\n",
              "    </tr>\n",
              "  </thead>\n",
              "  <tbody>\n",
              "    <tr>\n",
              "      <th>0</th>\n",
              "      <td>-1.702939</td>\n",
              "      <td>-0.695447</td>\n",
              "      <td>-1.729446</td>\n",
              "      <td>-6.750551</td>\n",
              "    </tr>\n",
              "    <tr>\n",
              "      <th>1</th>\n",
              "      <td>-1.644217</td>\n",
              "      <td>-1.059969</td>\n",
              "      <td>-1.687310</td>\n",
              "      <td>-7.334278</td>\n",
              "    </tr>\n",
              "    <tr>\n",
              "      <th>2</th>\n",
              "      <td>-1.585495</td>\n",
              "      <td>-1.055503</td>\n",
              "      <td>-1.620913</td>\n",
              "      <td>-7.130567</td>\n",
              "    </tr>\n",
              "    <tr>\n",
              "      <th>3</th>\n",
              "      <td>-1.526773</td>\n",
              "      <td>-1.260842</td>\n",
              "      <td>-1.549410</td>\n",
              "      <td>-7.316980</td>\n",
              "    </tr>\n",
              "    <tr>\n",
              "      <th>4</th>\n",
              "      <td>-1.468051</td>\n",
              "      <td>-1.476220</td>\n",
              "      <td>-1.486844</td>\n",
              "      <td>-7.546545</td>\n",
              "    </tr>\n",
              "  </tbody>\n",
              "</table>\n",
              "</div>\n",
              "      <button class=\"colab-df-convert\" onclick=\"convertToInteractive('df-c8e72147-202e-4631-8655-ba7558930815')\"\n",
              "              title=\"Convert this dataframe to an interactive table.\"\n",
              "              style=\"display:none;\">\n",
              "        \n",
              "  <svg xmlns=\"http://www.w3.org/2000/svg\" height=\"24px\"viewBox=\"0 0 24 24\"\n",
              "       width=\"24px\">\n",
              "    <path d=\"M0 0h24v24H0V0z\" fill=\"none\"/>\n",
              "    <path d=\"M18.56 5.44l.94 2.06.94-2.06 2.06-.94-2.06-.94-.94-2.06-.94 2.06-2.06.94zm-11 1L8.5 8.5l.94-2.06 2.06-.94-2.06-.94L8.5 2.5l-.94 2.06-2.06.94zm10 10l.94 2.06.94-2.06 2.06-.94-2.06-.94-.94-2.06-.94 2.06-2.06.94z\"/><path d=\"M17.41 7.96l-1.37-1.37c-.4-.4-.92-.59-1.43-.59-.52 0-1.04.2-1.43.59L10.3 9.45l-7.72 7.72c-.78.78-.78 2.05 0 2.83L4 21.41c.39.39.9.59 1.41.59.51 0 1.02-.2 1.41-.59l7.78-7.78 2.81-2.81c.8-.78.8-2.07 0-2.86zM5.41 20L4 18.59l7.72-7.72 1.47 1.35L5.41 20z\"/>\n",
              "  </svg>\n",
              "      </button>\n",
              "      \n",
              "  <style>\n",
              "    .colab-df-container {\n",
              "      display:flex;\n",
              "      flex-wrap:wrap;\n",
              "      gap: 12px;\n",
              "    }\n",
              "\n",
              "    .colab-df-convert {\n",
              "      background-color: #E8F0FE;\n",
              "      border: none;\n",
              "      border-radius: 50%;\n",
              "      cursor: pointer;\n",
              "      display: none;\n",
              "      fill: #1967D2;\n",
              "      height: 32px;\n",
              "      padding: 0 0 0 0;\n",
              "      width: 32px;\n",
              "    }\n",
              "\n",
              "    .colab-df-convert:hover {\n",
              "      background-color: #E2EBFA;\n",
              "      box-shadow: 0px 1px 2px rgba(60, 64, 67, 0.3), 0px 1px 3px 1px rgba(60, 64, 67, 0.15);\n",
              "      fill: #174EA6;\n",
              "    }\n",
              "\n",
              "    [theme=dark] .colab-df-convert {\n",
              "      background-color: #3B4455;\n",
              "      fill: #D2E3FC;\n",
              "    }\n",
              "\n",
              "    [theme=dark] .colab-df-convert:hover {\n",
              "      background-color: #434B5C;\n",
              "      box-shadow: 0px 1px 3px 1px rgba(0, 0, 0, 0.15);\n",
              "      filter: drop-shadow(0px 1px 2px rgba(0, 0, 0, 0.3));\n",
              "      fill: #FFFFFF;\n",
              "    }\n",
              "  </style>\n",
              "\n",
              "      <script>\n",
              "        const buttonEl =\n",
              "          document.querySelector('#df-c8e72147-202e-4631-8655-ba7558930815 button.colab-df-convert');\n",
              "        buttonEl.style.display =\n",
              "          google.colab.kernel.accessAllowed ? 'block' : 'none';\n",
              "\n",
              "        async function convertToInteractive(key) {\n",
              "          const element = document.querySelector('#df-c8e72147-202e-4631-8655-ba7558930815');\n",
              "          const dataTable =\n",
              "            await google.colab.kernel.invokeFunction('convertToInteractive',\n",
              "                                                     [key], {});\n",
              "          if (!dataTable) return;\n",
              "\n",
              "          const docLinkHtml = 'Like what you see? Visit the ' +\n",
              "            '<a target=\"_blank\" href=https://colab.research.google.com/notebooks/data_table.ipynb>data table notebook</a>'\n",
              "            + ' to learn more about interactive tables.';\n",
              "          element.innerHTML = '';\n",
              "          dataTable['output_type'] = 'display_data';\n",
              "          await google.colab.output.renderOutput(dataTable, element);\n",
              "          const docLink = document.createElement('div');\n",
              "          docLink.innerHTML = docLinkHtml;\n",
              "          element.appendChild(docLink);\n",
              "        }\n",
              "      </script>\n",
              "    </div>\n",
              "  </div>\n",
              "  "
            ]
          },
          "metadata": {},
          "execution_count": 157
        }
      ]
    },
    {
      "cell_type": "code",
      "source": [
        "time_series2[['year', 'target']].corr()"
      ],
      "metadata": {
        "colab": {
          "base_uri": "https://localhost:8080/",
          "height": 112
        },
        "id": "aQn72CNFdsSA",
        "outputId": "b9b0ee63-8a1f-493a-90dd-f95b8e16e0a7"
      },
      "id": "aQn72CNFdsSA",
      "execution_count": 158,
      "outputs": [
        {
          "output_type": "execute_result",
          "data": {
            "text/plain": [
              "            year    target\n",
              "year    1.000000  0.985783\n",
              "target  0.985783  1.000000"
            ],
            "text/html": [
              "\n",
              "  <div id=\"df-96b61760-4f94-4ef6-a4ad-feec76364ef2\">\n",
              "    <div class=\"colab-df-container\">\n",
              "      <div>\n",
              "<style scoped>\n",
              "    .dataframe tbody tr th:only-of-type {\n",
              "        vertical-align: middle;\n",
              "    }\n",
              "\n",
              "    .dataframe tbody tr th {\n",
              "        vertical-align: top;\n",
              "    }\n",
              "\n",
              "    .dataframe thead th {\n",
              "        text-align: right;\n",
              "    }\n",
              "</style>\n",
              "<table border=\"1\" class=\"dataframe\">\n",
              "  <thead>\n",
              "    <tr style=\"text-align: right;\">\n",
              "      <th></th>\n",
              "      <th>year</th>\n",
              "      <th>target</th>\n",
              "    </tr>\n",
              "  </thead>\n",
              "  <tbody>\n",
              "    <tr>\n",
              "      <th>year</th>\n",
              "      <td>1.000000</td>\n",
              "      <td>0.985783</td>\n",
              "    </tr>\n",
              "    <tr>\n",
              "      <th>target</th>\n",
              "      <td>0.985783</td>\n",
              "      <td>1.000000</td>\n",
              "    </tr>\n",
              "  </tbody>\n",
              "</table>\n",
              "</div>\n",
              "      <button class=\"colab-df-convert\" onclick=\"convertToInteractive('df-96b61760-4f94-4ef6-a4ad-feec76364ef2')\"\n",
              "              title=\"Convert this dataframe to an interactive table.\"\n",
              "              style=\"display:none;\">\n",
              "        \n",
              "  <svg xmlns=\"http://www.w3.org/2000/svg\" height=\"24px\"viewBox=\"0 0 24 24\"\n",
              "       width=\"24px\">\n",
              "    <path d=\"M0 0h24v24H0V0z\" fill=\"none\"/>\n",
              "    <path d=\"M18.56 5.44l.94 2.06.94-2.06 2.06-.94-2.06-.94-.94-2.06-.94 2.06-2.06.94zm-11 1L8.5 8.5l.94-2.06 2.06-.94-2.06-.94L8.5 2.5l-.94 2.06-2.06.94zm10 10l.94 2.06.94-2.06 2.06-.94-2.06-.94-.94-2.06-.94 2.06-2.06.94z\"/><path d=\"M17.41 7.96l-1.37-1.37c-.4-.4-.92-.59-1.43-.59-.52 0-1.04.2-1.43.59L10.3 9.45l-7.72 7.72c-.78.78-.78 2.05 0 2.83L4 21.41c.39.39.9.59 1.41.59.51 0 1.02-.2 1.41-.59l7.78-7.78 2.81-2.81c.8-.78.8-2.07 0-2.86zM5.41 20L4 18.59l7.72-7.72 1.47 1.35L5.41 20z\"/>\n",
              "  </svg>\n",
              "      </button>\n",
              "      \n",
              "  <style>\n",
              "    .colab-df-container {\n",
              "      display:flex;\n",
              "      flex-wrap:wrap;\n",
              "      gap: 12px;\n",
              "    }\n",
              "\n",
              "    .colab-df-convert {\n",
              "      background-color: #E8F0FE;\n",
              "      border: none;\n",
              "      border-radius: 50%;\n",
              "      cursor: pointer;\n",
              "      display: none;\n",
              "      fill: #1967D2;\n",
              "      height: 32px;\n",
              "      padding: 0 0 0 0;\n",
              "      width: 32px;\n",
              "    }\n",
              "\n",
              "    .colab-df-convert:hover {\n",
              "      background-color: #E2EBFA;\n",
              "      box-shadow: 0px 1px 2px rgba(60, 64, 67, 0.3), 0px 1px 3px 1px rgba(60, 64, 67, 0.15);\n",
              "      fill: #174EA6;\n",
              "    }\n",
              "\n",
              "    [theme=dark] .colab-df-convert {\n",
              "      background-color: #3B4455;\n",
              "      fill: #D2E3FC;\n",
              "    }\n",
              "\n",
              "    [theme=dark] .colab-df-convert:hover {\n",
              "      background-color: #434B5C;\n",
              "      box-shadow: 0px 1px 3px 1px rgba(0, 0, 0, 0.15);\n",
              "      filter: drop-shadow(0px 1px 2px rgba(0, 0, 0, 0.3));\n",
              "      fill: #FFFFFF;\n",
              "    }\n",
              "  </style>\n",
              "\n",
              "      <script>\n",
              "        const buttonEl =\n",
              "          document.querySelector('#df-96b61760-4f94-4ef6-a4ad-feec76364ef2 button.colab-df-convert');\n",
              "        buttonEl.style.display =\n",
              "          google.colab.kernel.accessAllowed ? 'block' : 'none';\n",
              "\n",
              "        async function convertToInteractive(key) {\n",
              "          const element = document.querySelector('#df-96b61760-4f94-4ef6-a4ad-feec76364ef2');\n",
              "          const dataTable =\n",
              "            await google.colab.kernel.invokeFunction('convertToInteractive',\n",
              "                                                     [key], {});\n",
              "          if (!dataTable) return;\n",
              "\n",
              "          const docLinkHtml = 'Like what you see? Visit the ' +\n",
              "            '<a target=\"_blank\" href=https://colab.research.google.com/notebooks/data_table.ipynb>data table notebook</a>'\n",
              "            + ' to learn more about interactive tables.';\n",
              "          element.innerHTML = '';\n",
              "          dataTable['output_type'] = 'display_data';\n",
              "          await google.colab.output.renderOutput(dataTable, element);\n",
              "          const docLink = document.createElement('div');\n",
              "          docLink.innerHTML = docLinkHtml;\n",
              "          element.appendChild(docLink);\n",
              "        }\n",
              "      </script>\n",
              "    </div>\n",
              "  </div>\n",
              "  "
            ]
          },
          "metadata": {},
          "execution_count": 158
        }
      ]
    },
    {
      "cell_type": "code",
      "source": [
        "plt.scatter(time_series2.year, time_series2.target)\n",
        "plt.scatter(time_series2.tmp_chg, time_series2.target)\n",
        "plt.scatter(time_series2.co2, time_series2.target)"
      ],
      "metadata": {
        "colab": {
          "base_uri": "https://localhost:8080/",
          "height": 282
        },
        "id": "AD957DPXd8Xa",
        "outputId": "600519c3-d2e8-48cd-b042-69bb51c9ef72"
      },
      "id": "AD957DPXd8Xa",
      "execution_count": 159,
      "outputs": [
        {
          "output_type": "execute_result",
          "data": {
            "text/plain": [
              "<matplotlib.collections.PathCollection at 0x7f333e171d50>"
            ]
          },
          "metadata": {},
          "execution_count": 159
        },
        {
          "output_type": "display_data",
          "data": {
            "text/plain": [
              "<Figure size 432x288 with 1 Axes>"
            ],
            "image/png": "[encoded data removed]"
          },
          "metadata": {
            "needs_background": "light"
          }
        }
      ]
    },
    {
      "cell_type": "code",
      "source": [
        "from sklearn.model_selection import train_test_split\n",
        "\n",
        "X = time_series2.drop('target', axis=1)\n",
        "y = time_series2.target\n",
        "\n",
        "X_train, X_test, y_train, y_test = train_test_split( X, y,\n",
        "                                  test_size=.2, random_state= 0)\n",
        "\n",
        "from sklearn.linear_model import LinearRegression\n",
        "from sklearn.metrics import r2_score, mean_squared_error\n",
        "\n",
        "ols = LinearRegression()\n",
        "\n",
        "ols.fit(X_train, y_train)\n",
        "\n",
        "y_pred = ols.predict(X_test)\n",
        "\n",
        "print('r2', r2_score(y_test, y_pred))\n",
        "print('mse', mean_squared_error(y_test, y_pred))\n",
        "print('coef', ols.coef_)\n",
        "print('intercept', ols.intercept_)"
      ],
      "metadata": {
        "colab": {
          "base_uri": "https://localhost:8080/"
        },
        "id": "7VZ142KXfQTP",
        "outputId": "7277392d-2891-4017-8f5a-e5ae38862d66"
      },
      "id": "7VZ142KXfQTP",
      "execution_count": 160,
      "outputs": [
        {
          "output_type": "stream",
          "name": "stdout",
          "text": [
            "r2 0.9831464293497925\n",
            "mse 0.3111053023625074\n",
            "coef [2.39914445 1.83298091 0.96383414]\n",
            "intercept 0.07693886707851416\n"
          ]
        }
      ]
    },
    {
      "cell_type": "markdown",
      "source": [
        "Se puede observar que de las 3 variables, la de menor peso es de CO2, pero con muy poca diferncia con respecto al resto.\n",
        "Por otro lado, observamos una precisión muy alta, lo cual nos podría indicar indicios de Overfitting en el modelo propuesto.\n",
        "En cuanto al error, se observa un valor mucho mayor al modelo planteado anteriormente para la regresión lineal simple."
      ],
      "metadata": {
        "id": "rWMRzsCQgk8u"
      },
      "id": "rWMRzsCQgk8u"
    },
    {
      "cell_type": "code",
      "source": [
        "y_pred_train = ols.predict(X_train)\n",
        "\n",
        "print('r2', r2_score(y_train, y_pred_train))\n",
        "print('mse', mean_squared_error(y_train, y_pred_train))\n",
        "#print('coef', ols.coef_)\n",
        "#print('intercept', ols.intercept_)"
      ],
      "metadata": {
        "colab": {
          "base_uri": "https://localhost:8080/"
        },
        "id": "kfOovB9QlMzC",
        "outputId": "48798e47-c1dc-4ea8-90df-6f78631cbb97"
      },
      "id": "kfOovB9QlMzC",
      "execution_count": 163,
      "outputs": [
        {
          "output_type": "stream",
          "name": "stdout",
          "text": [
            "r2 0.9867731989669964\n",
            "mse 0.3693880927597263\n"
          ]
        }
      ]
    },
    {
      "cell_type": "markdown",
      "source": [
        "> Utilizando los datos de entrenamiento, en lugar de los datos de test, se observan unos valores de precisión y error medio muy similares."
      ],
      "metadata": {
        "id": "GPefybccldkR"
      },
      "id": "GPefybccldkR"
    },
    {
      "cell_type": "code",
      "source": [
        "from sklearn.linear_model import Lasso\n",
        "from sklearn.metrics import r2_score, mean_squared_error\n",
        "\n",
        "lasso = Lasso(alpha=.5)\n",
        "\n",
        "lasso.fit(X_train, y_train)\n",
        "\n",
        "y_predl = lasso.predict(X_test)\n",
        "\n",
        "print('r2', r2_score(y_test, y_predl))\n",
        "print('mse', mean_squared_error(y_test, y_predl))\n",
        "print('coef', lasso.coef_)\n",
        "print('intercept', lasso.intercept_)"
      ],
      "metadata": {
        "colab": {
          "base_uri": "https://localhost:8080/"
        },
        "id": "pAV3hZkmiHBM",
        "outputId": "db98a9bc-21dc-459e-d5df-f7ac54487457"
      },
      "id": "pAV3hZkmiHBM",
      "execution_count": 162,
      "outputs": [
        {
          "output_type": "stream",
          "name": "stdout",
          "text": [
            "r2 0.9742122676053047\n",
            "mse 0.4760237726713612\n",
            "coef [2.23711878 1.60134401 0.86692747]\n",
            "intercept 0.10966330003733005\n"
          ]
        }
      ]
    },
    {
      "cell_type": "markdown",
      "source": [
        "Utilizando Lasso como modelo de regresión, y en comparación con los valores anteriores (OLS) se puede observar:\n",
        "\n",
        "\n",
        "*   Una menor precisión del modelo\n",
        "*   Un error medio mayor\n",
        "*   Coeficientes similares pero con menor peso. CO2 continua siendo el de menor peso entre las variables."
      ],
      "metadata": {
        "id": "SZvlaSgQkMTh"
      },
      "id": "SZvlaSgQkMTh"
    },
    {
      "cell_type": "code",
      "source": [
        "y_pred_trainl = lasso.predict(X_train)\n",
        "\n",
        "print('r2', r2_score(y_train, y_pred_trainl))\n",
        "print('mse', mean_squared_error(y_train, y_pred_trainl))\n",
        "#print('coef', ols.coef_)\n",
        "#print('intercept', ols.intercept_)"
      ],
      "metadata": {
        "colab": {
          "base_uri": "https://localhost:8080/"
        },
        "id": "KOa1oqY3k4dH",
        "outputId": "363fa2d5-3f9b-477a-fcde-935770068b1c"
      },
      "id": "KOa1oqY3k4dH",
      "execution_count": 164,
      "outputs": [
        {
          "output_type": "stream",
          "name": "stdout",
          "text": [
            "r2 0.97799329080899\n",
            "mse 0.6145867255205213\n"
          ]
        }
      ]
    },
    {
      "cell_type": "markdown",
      "source": [
        "> Utilizando los datos de entrenamiento para predecir, se observa un ínfimo incremento de la precisión. Sin embargo, tenemos un aumento considerable de el error medio."
      ],
      "metadata": {
        "id": "L5wJm0rTly1x"
      },
      "id": "L5wJm0rTly1x"
    },
    {
      "cell_type": "code",
      "source": [
        "from sklearn.linear_model import Ridge\n",
        "from sklearn.metrics import r2_score, mean_squared_error\n",
        "\n",
        "ridge = Ridge(alpha=50)\n",
        "\n",
        "ridge.fit(X_train, y_train)\n",
        "\n",
        "y_predr = ridge.predict(X_test)\n",
        "\n",
        "print('r2', r2_score(y_test, y_predr))\n",
        "print('mse', mean_squared_error(y_test, y_predr))\n",
        "print('coef', ridge.coef_)\n",
        "print('intercept', ridge.intercept_)"
      ],
      "metadata": {
        "colab": {
          "base_uri": "https://localhost:8080/"
        },
        "id": "ThJnGP8pmTt9",
        "outputId": "01e45401-d977-480b-c2b3-32e92fd174a4"
      },
      "id": "ThJnGP8pmTt9",
      "execution_count": 165,
      "outputs": [
        {
          "output_type": "stream",
          "name": "stdout",
          "text": [
            "r2 0.9063872228527186\n",
            "mse 1.7280273684342609\n",
            "coef [1.29238003 1.28257958 1.27892605]\n",
            "intercept 0.15794471715441316\n"
          ]
        }
      ]
    },
    {
      "cell_type": "markdown",
      "source": [
        "Utilizando Ridge como modelo de regresión, y en comparación con los valores anteriores (OLS y Lasso) se puede observar:\n",
        "\n",
        "*   Una menor precisión del modelo\n",
        "*   Un error medio mucho mayor (>x3)\n",
        "*   Coeficientes muy similares. Ya no se podría tener una distinción significativa de pesos entre las variables."
      ],
      "metadata": {
        "id": "WuSrWU5smZlA"
      },
      "id": "WuSrWU5smZlA"
    },
    {
      "cell_type": "code",
      "source": [
        "y_pred_trainr = ridge.predict(X_train)\n",
        "\n",
        "print('r2', r2_score(y_train, y_pred_trainr))\n",
        "print('mse', mean_squared_error(y_train, y_pred_trainr))\n",
        "#print('coef', ols.coef_)\n",
        "#print('intercept', ols.intercept_)"
      ],
      "metadata": {
        "colab": {
          "base_uri": "https://localhost:8080/"
        },
        "id": "Fw0DuL3WnWYX",
        "outputId": "2e2c8286-782d-49b9-9b6b-dc4a29f083c6"
      },
      "id": "Fw0DuL3WnWYX",
      "execution_count": 166,
      "outputs": [
        {
          "output_type": "stream",
          "name": "stdout",
          "text": [
            "r2 0.9207462176777691\n",
            "mse 2.213339674722196\n"
          ]
        }
      ]
    },
    {
      "cell_type": "markdown",
      "source": [
        "> Al igual que Lasso, utilizando los datos de entrenamiento para predecir, se observa un ínfimo incremento de la precisión. Sin embargo, tenemos un aumento considerable de el error medio."
      ],
      "metadata": {
        "id": "zfgo9K8ynwrK"
      },
      "id": "zfgo9K8ynwrK"
    },
    {
      "cell_type": "code",
      "source": [
        "#['year', 'tmp_chg', 'co2']\n",
        "\n",
        "time_series2['ols'] = ols.coef_[0]*time_series2['year'] + ols.coef_[1]*time_series2['tmp_chg'] + ols.coef_[2]*time_series2['co2'] + ols.intercept_\n",
        "time_series2['lasso'] = lasso.coef_[0]*time_series2['year'] + lasso.coef_[1]*time_series2['tmp_chg'] + lasso.coef_[2]*time_series2['co2'] + lasso.intercept_\n",
        "time_series2['ridge'] = ridge.coef_[0]*time_series2['year'] + ridge.coef_[1]*time_series2['tmp_chg'] + ridge.coef_[2]*time_series2['co2'] + ridge.intercept_\n",
        "\n",
        "plt.figure(figsize=(7, 6))\n",
        "ax = plt.axes()\n",
        "ax.plot(time_series2['year'], time_series2['ols'], c='#b52e10', label='ols')\n",
        "ax.plot(time_series2['year'], time_series2['lasso'], c='#191ebd', label='lasso')\n",
        "ax.plot(time_series2['year'], time_series2['ridge'], c='#11ad17', label='ridge')\n",
        "\n",
        "ax.set_xlabel('Year')\n",
        "ax.set_ylabel('LR')\n",
        "ax.legend()\n",
        "\n",
        "plt.show()"
      ],
      "metadata": {
        "colab": {
          "base_uri": "https://localhost:8080/",
          "height": 388
        },
        "id": "GktUg5BToCrL",
        "outputId": "b5b8f6f2-21fc-4581-cbf8-489c4a7a9655"
      },
      "id": "GktUg5BToCrL",
      "execution_count": 182,
      "outputs": [
        {
          "output_type": "display_data",
          "data": {
            "text/plain": [
              "<Figure size 504x432 with 1 Axes>"
            ],
            "image/png": "[encoded data removed]"
          },
          "metadata": {
            "needs_background": "light"
          }
        }
      ]
    }
  ],
  "metadata": {
    "kernelspec": {
      "display_name": "Python 3 (ipykernel)",
      "language": "python",
      "name": "python3"
    },
    "language_info": {
      "codemirror_mode": {
        "name": "ipython",
        "version": 3
      },
      "file_extension": ".py",
      "mimetype": "text/x-python",
      "name": "python",
      "nbconvert_exporter": "python",
      "pygments_lexer": "ipython3",
      "version": "3.9.12"
    },
    "toc-autonumbering": false,
    "toc-showcode": false,
    "toc-showmarkdowntxt": true,
    "toc-showtags": true,
    "colab": {
      "provenance": [],
      "collapsed_sections": [
        "3c7bf5c3-1350-4503-ad08-d232f4a17fcf",
        "64dc3f1e-c4ad-4ff7-a84e-2e3525331695",
        "2c029322-fdce-42d0-8f2c-dd03571ed835",
        "798f93d2-5f81-4688-9801-42e5f2251dae",
        "44595f9c-74df-4266-8f80-3a0033210e50",
        "44d16885-a65c-440f-9663-a2c9984ffd2e",
        "21fa46f9-9c81-4241-ab6a-391de99b3695",
        "658bad0d-60e5-417a-8c6e-d8fa61f3b376",
        "c440b599-9c1a-4d24-84f4-69a99204d844",
        "7f74cd92-a382-4220-a83b-3e2a43c29e7c",
        "ab9b9cc1-5d1e-4aa0-b3b2-a929017e3ed6",
        "3da8a257-622c-4a4c-9cc9-68df817405d0"
      ]
    }
  },
  "nbformat": 4,
  "nbformat_minor": 5
}